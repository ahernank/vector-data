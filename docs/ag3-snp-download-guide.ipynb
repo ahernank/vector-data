{
 "cells": [
  {
   "cell_type": "markdown",
   "metadata": {},
   "source": [
    "# Ag1000G phase 3 SNP data release - data download guide\n",
    "\n",
    "**5 January 2021**\n",
    "\n",
    "This notebook provides information about how to download data from the [MalariaGEN Anopheles gambiae 1000 Genomes project (Ag1000G) phase 3 SNP data release](https://www.malariagen.net/data/ag1000g-phase3-snp). This includes sample metadata, raw sequence reads, sequence read alignments, and single nucleotide polymorphism (SNP) calls.\n",
    "\n",
    "If you have any questions about this guide or how to use the data, please [start a new discussion](https://github.com/malariagen/vector-public-data/discussions/new) on the malariagen/vector-public-data repo on GitHub. If you find any bugs, please [raise an issue](https://github.com/malariagen/vector-public-data/issues/new/choose).\n",
    "\n",
    "## About this guide\n",
    "\n",
    "This guide is written as a Jupyter notebook. Code examples that are intended to be run via a Linux command line are prefixed with an exclamation mark (!). If you are running these commands directly from a terminal, remove the exclamation mark.\n",
    "\n",
    "Examples in this guide assume you are downloading data to a local folder within your home directory at the path \"~/data/ag3/\". Change this if you want to download to a different folder.\n",
    "\n",
    "## Data hosting\n",
    "\n",
    "Data in this release are hosted by several different services. \n",
    "\n",
    "Raw sequence reads in FASTQ format, sequence read alignments in BAM format, and SNP calls in VCF format are hosted by the European Nucleotide Archive (ENA). This guide provides examples of downloading data from ENA via FTP using the `wget` command line tool, but please note that there are several other options for downloading data, see the [ENA documentation on how to download data files](https://ena-docs.readthedocs.io/en/latest/retrieval/file-download.html) for more information.  \n",
    "\n",
    "Sample metadata in CSV format and SNP calls in Zarr format are hosted on Google Cloud Storage (GCS) in the `vo_agam_release` bucket, which is a multi-region bucket located in the United States. All data hosted on GCS are publicly accessible and do not require any authentication to access. This guide provides examples of downloading data from GCS to a local computer using the `gsutil` command line tool. For more information about `gsutil`, see the [gsutil tool documentation](https://cloud.google.com/storage/docs/gsutil)."
   ]
  },
  {
   "cell_type": "markdown",
   "metadata": {},
   "source": [
    "## Sample sets\n",
    "\n",
    "Data in this release are organised into 28 sample sets. Each of these sample sets corresponds to a set of mosquito specimens contributed by a collaborating study. Depending on your objectives, you may want to download data from only specific sample sets, or all sample sets. For convenience there is a tab-delimited manifest file listing all sample sets in the release. Here is a direct download link for the sample set manifest:\n",
    "\n",
    "* https://storage.googleapis.com/vo_agam_release/v3/manifest.tsv\n",
    "\n",
    "The sample set manifest can also be downloaded via gsutil to a directory on the local file system, e.g.:"
   ]
  },
  {
   "cell_type": "code",
   "execution_count": 1,
   "metadata": {},
   "outputs": [
    {
     "name": "stdout",
     "output_type": "stream",
     "text": [
      "Copying gs://vo_agam_release/v3/manifest.tsv...\n",
      "/ [1 files][  453.0 B/  453.0 B]                                                \n",
      "Operation completed over 1 objects/453.0 B.                                      \n"
     ]
    }
   ],
   "source": [
    "!mkdir -pv ~/data/ag3/\n",
    "!gsutil cp gs://vo_agam_release/v3/manifest.tsv ~/data/ag3/"
   ]
  },
  {
   "cell_type": "markdown",
   "metadata": {},
   "source": [
    "Here are the file contents:"
   ]
  },
  {
   "cell_type": "code",
   "execution_count": 2,
   "metadata": {},
   "outputs": [
    {
     "name": "stdout",
     "output_type": "stream",
     "text": [
      "sample_set\tsample_count\n",
      "AG1000G-AO\t81\n",
      "AG1000G-BF-A\t181\n",
      "AG1000G-BF-B\t102\n",
      "AG1000G-BF-C\t13\n",
      "AG1000G-CD\t76\n",
      "AG1000G-CF\t73\n",
      "AG1000G-CI\t80\n",
      "AG1000G-CM-A\t303\n",
      "AG1000G-CM-B\t97\n",
      "AG1000G-CM-C\t44\n",
      "AG1000G-FR\t23\n",
      "AG1000G-GA-A\t69\n",
      "AG1000G-GH\t100\n",
      "AG1000G-GM-A\t74\n",
      "AG1000G-GM-B\t31\n",
      "AG1000G-GM-C\t174\n",
      "AG1000G-GN-A\t45\n",
      "AG1000G-GN-B\t185\n",
      "AG1000G-GQ\t10\n",
      "AG1000G-GW\t101\n",
      "AG1000G-KE\t86\n",
      "AG1000G-ML-A\t60\n",
      "AG1000G-ML-B\t71\n",
      "AG1000G-MW\t41\n",
      "AG1000G-MZ\t74\n",
      "AG1000G-TZ\t300\n",
      "AG1000G-UG\t290\n",
      "AG1000G-X\t297\n"
     ]
    }
   ],
   "source": [
    "!cat ~/data/ag3/manifest.tsv"
   ]
  },
  {
   "cell_type": "markdown",
   "metadata": {},
   "source": [
    "The sample set identifiers all start with \"AG1000G-\" followed by the two-letter code of the country from which samples were collected (e.g., \"AO\" is Angola). Where there are multiple sample sets from the same country, these have been given alphabetical suffixes, e.g., \"AG1000G-BF-A\", \"AG1000G-BF-B\" and \"AG1000G-BF-C\" are three sample sets from Burkina Faso.\n",
    "\n",
    "These country code suffixes are just a convenience to help remember which sample sets contain which data, please see the sample metadata for more precise location information. Please note also that sample set AG1000G-GN-B contains samples from both Guinea and Mali."
   ]
  },
  {
   "cell_type": "markdown",
   "metadata": {},
   "source": [
    "## Sample metadata\n",
    "\n",
    "Data about the samples that were sequenced to generate this data resource are available, including the time and place of collection, the gender of the specimen, and our call regarding the species of the specimen.\n",
    "\n",
    "### Collection metadata\n",
    "\n",
    "Specimen collection metadata can be downloaded from GCS. E.g., here is the download link for the sample metadata for sample set AG1000G-BF-A:\n",
    "\n",
    "* https://storage.googleapis.com/vo_agam_release/v3/metadata/general/AG1000G-BF-A/samples.meta.csv\n",
    "\n",
    "Sample metadata for all sample sets can also be downloaded using gsutil:"
   ]
  },
  {
   "cell_type": "code",
   "execution_count": 3,
   "metadata": {},
   "outputs": [
    {
     "name": "stdout",
     "output_type": "stream",
     "text": [
      "Building synchronization state...\n",
      "Starting synchronization...\n"
     ]
    }
   ],
   "source": [
    "!mkdir -pv ~/data/ag3/metadata/\n",
    "!gsutil -m rsync -r gs://vo_agam_release/v3/metadata/ ~/data/ag3/metadata/"
   ]
  },
  {
   "cell_type": "markdown",
   "metadata": {},
   "source": [
    "Here are the first few rows of the sample metadata for sample set AG1000G-BF-A:"
   ]
  },
  {
   "cell_type": "code",
   "execution_count": 4,
   "metadata": {},
   "outputs": [
    {
     "name": "stdout",
     "output_type": "stream",
     "text": [
      "sample_id,partner_sample_id,contributor,country,location,year,month,latitude,longitude,sex_call\n",
      "AB0085-Cx,BF2-4,Austin Burt,Burkina Faso,Pala,2012,7,11.150,-4.235,F\n",
      "AB0086-Cx,BF2-6,Austin Burt,Burkina Faso,Pala,2012,7,11.150,-4.235,F\n",
      "AB0087-C,BF3-3,Austin Burt,Burkina Faso,Bana,2012,7,11.233,-4.472,F\n",
      "AB0088-C,BF3-5,Austin Burt,Burkina Faso,Bana,2012,7,11.233,-4.472,F\n",
      "AB0089-Cx,BF3-8,Austin Burt,Burkina Faso,Bana,2012,7,11.233,-4.472,F\n",
      "AB0090-C,BF3-10,Austin Burt,Burkina Faso,Bana,2012,7,11.233,-4.472,F\n",
      "AB0091-C,BF3-12,Austin Burt,Burkina Faso,Bana,2012,7,11.233,-4.472,F\n",
      "AB0092-C,BF3-13,Austin Burt,Burkina Faso,Bana,2012,7,11.233,-4.472,F\n",
      "AB0094-Cx,BF3-17,Austin Burt,Burkina Faso,Bana,2012,7,11.233,-4.472,F\n"
     ]
    }
   ],
   "source": [
    "!head ~/data/ag3/metadata/general/AG1000G-BF-A/samples.meta.csv"
   ]
  },
  {
   "cell_type": "markdown",
   "metadata": {},
   "source": [
    "The `sample_id` columns gives the sample identifier used throughout all Ag1000G analyses.\n",
    "\n",
    "The `country`, `location`, `latitude` and `longitude` columns give the location where the specimen was collected.\n",
    "\n",
    "The `year` and `month` columns give the approximate date when the specimen was collected.\n",
    "\n",
    "The `sex_call` column gives the gender as determined from the sequence data."
   ]
  },
  {
   "cell_type": "markdown",
   "metadata": {},
   "source": [
    "### Species calls\n",
    "\n",
    "We have made a call for each specimen as to which species it belongs to (*Anopheles gambiae*, *Anopheles coluzzii*, *Anopheles arabiensis*) based on the genotypes of the samples. These calls were made from the sequence data, and there are cases where the species is not easy to determine. We report species calls using two methods, principal components analysis (PCA) and ancestry informative markers (AIMs). \n",
    "\n",
    "Species calls can be downloaded from GCS, e.g., for sample set AG1000G-BF-A:\n",
    "\n",
    "* PCA species calls - https://storage.googleapis.com/vo_agam_release/v3/metadata/species_calls_20200422/AG1000G-BF-A/samples.species_pca.csv\n",
    "* AIM species calls - https://storage.googleapis.com/vo_agam_release/v3/metadata/species_calls_20200422/AG1000G-BF-A/samples.species_aim.csv\n",
    "\n",
    "Alternatively if you ran the `gsutil rsync` command above to download sample metadata then this file will already be present on your local file system.\n",
    "\n",
    "Here are the first few rows of the AIM species calls for sample set AG1000G-BF-A:"
   ]
  },
  {
   "cell_type": "code",
   "execution_count": 5,
   "metadata": {},
   "outputs": [
    {
     "name": "stdout",
     "output_type": "stream",
     "text": [
      "sample_id,aim_fraction_colu,aim_fraction_arab,species_gambcolu_arabiensis,species_gambiae_coluzzii\n",
      "AB0085-Cx,0.024,0.002,gamb_colu,gambiae\n",
      "AB0086-Cx,0.038,0.002,gamb_colu,gambiae\n",
      "AB0087-C,0.982,0.002,gamb_colu,coluzzii\n",
      "AB0088-C,0.990,0.002,gamb_colu,coluzzii\n",
      "AB0089-Cx,0.975,0.002,gamb_colu,coluzzii\n",
      "AB0090-C,0.977,0.002,gamb_colu,coluzzii\n",
      "AB0091-C,0.974,0.002,gamb_colu,coluzzii\n",
      "AB0092-C,0.978,0.002,gamb_colu,coluzzii\n",
      "AB0094-Cx,0.986,0.002,gamb_colu,coluzzii\n"
     ]
    }
   ],
   "source": [
    "!head ~/data/ag3/metadata/species_calls_20200422/AG1000G-BF-A/samples.species_aim.csv"
   ]
  },
  {
   "cell_type": "markdown",
   "metadata": {},
   "source": [
    "The `species_gambcolu_arabiensis` column provides a call as to whether the specimen is arabiensis or not (gamb_colu).\n",
    "\n",
    "The `species_gambiae_coluzzii` column applies to samples that are not arabiensis, and differentiates gambiae versus coluzzii."
   ]
  },
  {
   "cell_type": "markdown",
   "metadata": {},
   "source": [
    "## Raw sequence reads (FASTQ format)\n",
    "\n",
    "The raw sequence reads used in this data release can be downloaded from ENA. Note that for most samples there were multiple sequencing runs, and hence there are usually multiple ENA run accessions per sample. For most samples there were 3 sequencing runs, but some samples have 4 and some have a single sequencing run.\n",
    "\n",
    "To find the ENA run accessions for a given sample, first download the catalog of run accessions:\n",
    "\n",
    "* https://storage.googleapis.com/vo_agam_release/v3/metadata/ena_runs.csv\n",
    "\n",
    "Alternatively if you ran the `gsutil rsync` command above to download sample metadata then this file will already be present on your local file system. Inspect the file:"
   ]
  },
  {
   "cell_type": "code",
   "execution_count": 6,
   "metadata": {},
   "outputs": [
    {
     "name": "stdout",
     "output_type": "stream",
     "text": [
      "sample_id,ena_run\n",
      "AR0001-C,ERR347035\n",
      "AR0001-C,ERR347047\n",
      "AR0001-C,ERR352136\n",
      "AR0002-C,ERR328585\n",
      "AR0002-C,ERR323844\n",
      "AR0002-C,ERR328597\n",
      "AR0004-C,ERR343648\n",
      "AR0004-C,ERR343636\n",
      "AR0004-C,ERR343468\n"
     ]
    }
   ],
   "source": [
    "!head ~/data/ag3/metadata/ena_runs.csv"
   ]
  },
  {
   "cell_type": "markdown",
   "metadata": {},
   "source": [
    "For example, the sequence reads for sample AR0001-C are available from three ENA accessions: ERR347035, ERR347047 and ERR352136. To download the sequence reads, visit the ENA website and search for these accessions. E.g., links to download sequence reads for run ERR352136 are available from this web page: https://www.ebi.ac.uk/ena/browser/view/ERR352136. To download the FASTQ files for this run via `wget`:"
   ]
  },
  {
   "cell_type": "code",
   "execution_count": null,
   "metadata": {},
   "outputs": [],
   "source": [
    "!wget ftp://ftp.sra.ebi.ac.uk/vol1/fastq/ERR352/ERR352136/ERR352136_1.fastq.gz\n",
    "!wget ftp://ftp.sra.ebi.ac.uk/vol1/fastq/ERR352/ERR352136/ERR352136_2.fastq.gz"
   ]
  },
  {
   "cell_type": "markdown",
   "metadata": {},
   "source": [
    "Note that FASTQ files are relatively large, several GB per sample, so they may take a long time to download, and may require a substantial amount of disk space on your local system."
   ]
  },
  {
   "cell_type": "markdown",
   "metadata": {},
   "source": [
    "## Sequence read alignments (BAM format)\n",
    "\n",
    "Analysis-ready sequence read alignments are available in BAM format for all samples in the release and can be downloaded from ENA. A catalog file mapping sample identifiers to ENA accessions is available at this link:\n",
    "\n",
    "* https://storage.googleapis.com/vo_agam_release/v3/metadata/ena_alignments.csv\n",
    "\n",
    "Alternatively if you ran the `gsutil rsync` command above to download sample metadata then this file will already be present on your local file system. Here are the first few rows:"
   ]
  },
  {
   "cell_type": "code",
   "execution_count": 8,
   "metadata": {},
   "outputs": [
    {
     "name": "stdout",
     "output_type": "stream",
     "text": [
      "sample_id,ena_analysis\n",
      "AR0001-C,ERZ1695275\n",
      "AR0002-C,ERZ1695276\n",
      "AR0004-C,ERZ1695277\n",
      "AR0006-C,ERZ1695278\n",
      "AR0007-C,ERZ1695279\n",
      "AR0008-C,ERZ1695280\n",
      "AR0009-C,ERZ1695281\n",
      "AR0010-Cx,ERZ1695282\n",
      "AR0011-C,ERZ1695283\n"
     ]
    }
   ],
   "source": [
    "!head ~/data/ag3/metadata/ena_alignments.csv"
   ]
  },
  {
   "cell_type": "markdown",
   "metadata": {},
   "source": [
    "Each row in this file provides a mapping from Ag1000G sample identifiers to ENA analysis accessions. To find links for downloading the data, visit the ENA website and search for the corresponding analysis accession. E.g., the analysis-ready BAM file for sample AR0001-C can be downloaded from this web page: https://www.ebi.ac.uk/ena/browser/view/ERZ1695275. To download the BAM file via `wget`:"
   ]
  },
  {
   "cell_type": "code",
   "execution_count": null,
   "metadata": {},
   "outputs": [],
   "source": [
    "!wget ftp://ftp.sra.ebi.ac.uk/vol1/ERZ169/ERZ1695275/AR0001-C.bam"
   ]
  },
  {
   "cell_type": "markdown",
   "metadata": {},
   "source": [
    "Note that BAM files are relatively large, approximately 10G per sample, so they may take a long time to download, and may require a substantial amount of disk space on your local system."
   ]
  },
  {
   "cell_type": "markdown",
   "metadata": {},
   "source": [
    "## SNP calls (VCF format)\n",
    "\n",
    "### SNP genotypes\n",
    "\n",
    "SNP calls in VCF format are available from EVA. There is one VCF file for each individual sample. A catalog file mapping sample identifiers to EVA accessions is available at this link:\n",
    "\n",
    "* https://storage.googleapis.com/vo_agam_release/v3/metadata/eva_snp_genotypes.csv (@@TODO)\n",
    "\n",
    "Alternatively if you ran the `gsutil rsync` command above to download sample metadata then this file will already be present on your local file system. Inspect the file:"
   ]
  },
  {
   "cell_type": "code",
   "execution_count": null,
   "metadata": {},
   "outputs": [],
   "source": [
    "!head ~/data/ag3/metadata/ena_snp_genotypes.csv"
   ]
  },
  {
   "cell_type": "markdown",
   "metadata": {},
   "source": [
    "Each row in this file provides a mapping from Ag1000G sample identifiers to EVA analysis accessions. To find links for downloading the data, visit the EVA website and search for the corresponding analysis accession. E.g., the VCF file for sample @@TODO can be downloaded from this web page: @@TODO\n",
    "\n",
    "Note that each sample has been genotyped at all genome positions (except for those where the reference sequence is 'N') and considering all possible SNP alleles. It is possible to combine VCF files for multiple samples if you need to analyse a multi-sample VCF. E.g., here are commands to download VCFs for three samples then merge them into a single multi-sample VCF:"
   ]
  },
  {
   "cell_type": "code",
   "execution_count": null,
   "metadata": {},
   "outputs": [],
   "source": [
    "!@@TODO download and merge VCFs"
   ]
  },
  {
   "cell_type": "markdown",
   "metadata": {},
   "source": [
    "### Site filters\n",
    "\n",
    "SNP calling is not always reliable, and we have created some site filters to allow excluding low quality SNPs. We have created some sites-only VCF files with site filter information in the `FILTER` column. These VCF files are hosted on GCS. \n",
    "\n",
    "Because different species may have different genome accessibility issues, we have created three separate site filters:\n",
    "\n",
    "* The \"gamb_colu\" site filter is designed for working only with samples that are not *An. arabiensis*.\n",
    "* The \"arab\" filter is designed for when only working with samples that are *An. arabiensis*.\n",
    "* The \"gamb_colu_arab\" filter is suitable for when analysing samples of any species together.\n",
    "\n",
    "Each filter is available as a set of VCF files, one per chromosome arm. E.g., here is the direct download link for the gamb_colu_arab filters on chromosome arm 3R:\n",
    "\n",
    "* https://storage.googleapis.com/vo_agam_release/v3/site_filters/dt_20200416/vcf/gamb_colu_arab/3R_sitefilters.vcf.gz\n",
    "\n",
    "Alternatively, all site filters VCFs can be downloaded using `gsutil`, e.g.:"
   ]
  },
  {
   "cell_type": "code",
   "execution_count": null,
   "metadata": {},
   "outputs": [],
   "source": [
    "!mkdir -pv ~/data/ag3/site_filters/dt_20200416/vcf/\n",
    "!gsutil -m rsync -r gs://vo_agam_release/v3/site_filters/dt_20200416/vcf/ ~/data/ag3/site_filters/dt_20200416/vcf/"
   ]
  },
  {
   "cell_type": "markdown",
   "metadata": {},
   "source": [
    "@@TODO describe how to use site filters VCFs with the genotypes VCF."
   ]
  },
  {
   "cell_type": "markdown",
   "metadata": {},
   "source": [
    "## SNP calls (Zarr format)\n",
    "\n",
    "SNP data are also available in Zarr format, which can be convenient and efficient to use for certain types of analysis. These data can be analysed directly in the cloud without downloading to the local system, see the [cloud user guide @@TODO link](@@TODO) for more information. The data can also be downloaded to your own system for local analysis if that is more convenient. Below are examples of how to download the Zarr data to your local system.\n",
    "\n",
    "The data are organised into several Zarr hierarchies. \n",
    "\n",
    "### SNP sites and alleles\n",
    "\n",
    "Data on the genomic positions (sites) and reference and alternate alleles that were genotyped can be downloaded as follows:"
   ]
  },
  {
   "cell_type": "code",
   "execution_count": null,
   "metadata": {},
   "outputs": [],
   "source": [
    "!mkdir -pv ~/data/ag3/snp_genotypes/all/sites/\n",
    "!gsutil -m rsync -r \\\n",
    "    gs://vo_agam_release/v3/snp_genotypes/all/sites/ \\\n",
    "    ~/data/ag3/snp_genotypes/all/sites/"
   ]
  },
  {
   "cell_type": "markdown",
   "metadata": {},
   "source": [
    "### Site filters\n",
    "\n",
    "SNP calling is not always reliable, and we have created some site filters to allow excluding low quality SNPs. To download site filters data in Zarr format, excluding some parts of the data that you probably won't need:"
   ]
  },
  {
   "cell_type": "code",
   "execution_count": null,
   "metadata": {},
   "outputs": [],
   "source": [
    "!mkdir -pv ~/data/ag3/site_filters/\n",
    "!gsutil -m rsync -r \\\n",
    "    -x '.*vcf.*|.*crosses_stats.*|.*[MG]Q10.*|.*[MG]Q30.*|.*[MG]Q_mean.*|.*[MG]Q_std.*|.*/lo_.*|.*/hi_.*|.*no_cov.*|.*allele_consistency.*|.*heterozygosity.*' \\\n",
    "    gs://vo_agam_release/v3/site_filters/ \\\n",
    "    ~/data/ag3/site_filters/"
   ]
  },
  {
   "cell_type": "markdown",
   "metadata": {},
   "source": [
    "### SNP genotypes\n",
    "\n",
    "SNP genotypes are available for each sample set separately. E.g., to download SNP genotypes in Zarr format for sample set AG1000G-BF-A, excluding some data you probably won't need:"
   ]
  },
  {
   "cell_type": "code",
   "execution_count": null,
   "metadata": {},
   "outputs": [],
   "source": [
    "!mkdir -pv ~/data/ag3/snp_genotypes/all/AG1000G-BF-A/\n",
    "!gsutil -m rsync -r \\\n",
    "        -x '.*/calldata/(AD|GQ|MQ)/.*' \\\n",
    "        gs://vo_agam_release/v3/snp_genotypes/all/AG1000G-BF-A/ \\\n",
    "        ~/data/ag3/snp_genotypes/all/AG1000G-BF-A/"
   ]
  },
  {
   "cell_type": "markdown",
   "metadata": {},
   "source": [
    "## Accessing downloaded data from Python\n",
    "\n",
    "There are a wide variety of tools available for analysing the data from Ag1000G phase 3 once downloaded to your local system. If you would like advice on possible approaches for a given analysis, please feel free to [start a new discussion](https://github.com/malariagen/vector-public-data/discussions/new) on the malariagen/vector-public-data repo on GitHub. Please note that these data can also be analysed directly in the cloud without downloading to the local system, see the [cloud user guide @@TODO link](@@TODO) for more information.\n",
    "\n",
    "Within the MalariaGEN vector genomics team we primarily use the Python programming language for analysing the SNP data, making use of software packages in the Scientific Python / PyData ecosystem. This section gives some simple examples illustrating how to use these tools to read downloaded data.\n",
    "\n",
    "These examples use data from two sample sets, AG1000G-BF-A and AG1000G-BF-B. \n",
    "\n",
    "Firstly, here are all the commands to download the data needed to run these examples (requires about 10G of local storage):"
   ]
  },
  {
   "cell_type": "code",
   "execution_count": null,
   "metadata": {},
   "outputs": [],
   "source": [
    "# download sample set manifest\n",
    "!mkdir -pv ~/data/ag3/\n",
    "!gsutil cp gs://vo_agam_release/v3/manifest.tsv ~/data/ag3/\n",
    "\n",
    "# download sample metadata\n",
    "!mkdir -pv ~/data/ag3/metadata/\n",
    "!gsutil -m rsync -r gs://vo_agam_release/v3/metadata/ ~/data/ag3/metadata/\n",
    "\n",
    "# download sites data\n",
    "!mkdir -pv ~/data/ag3/snp_genotypes/all/sites/\n",
    "!gsutil -m rsync -r \\\n",
    "    gs://vo_agam_release/v3/snp_genotypes/all/sites/ \\\n",
    "    ~/data/ag3/snp_genotypes/all/sites/\n",
    "\n",
    "# download site filters data\n",
    "!mkdir -pv ~/data/ag3/site_filters/\n",
    "!gsutil -m rsync -r \\\n",
    "    -x '.*vcf.*|.*crosses_stats.*|.*[MG]Q10.*|.*[MG]Q30.*|.*[MG]Q_mean.*|.*[MG]Q_std.*|.*/lo_.*|.*/hi_.*|.*no_cov.*|.*allele_consistency.*|.*heterozygosity.*' \\\n",
    "    gs://vo_agam_release/v3/site_filters/ \\\n",
    "    ~/data/ag3/site_filters/\n",
    "\n",
    "# download SNP genotype data for sample sets AG1000G-BF-A and AG1000G-BF-B\n",
    "!mkdir -pv ~/data/ag3/snp_genotypes/all/AG1000G-BF-A/\n",
    "!gsutil -m rsync -r \\\n",
    "        -x '.*/calldata/(AD|GQ|MQ)/.*' \\\n",
    "        gs://vo_agam_release/v3/snp_genotypes/all/AG1000G-BF-A/ \\\n",
    "        ~/data/ag3/snp_genotypes/all/AG1000G-BF-A/\n",
    "!mkdir -pv ~/data/ag3/snp_genotypes/all/AG1000G-BF-B/\n",
    "!gsutil -m rsync -r \\\n",
    "        -x '.*/calldata/(AD|GQ|MQ)/.*' \\\n",
    "        gs://vo_agam_release/v3/snp_genotypes/all/AG1000G-BF-B/ \\\n",
    "        ~/data/ag3/snp_genotypes/all/AG1000G-BF-B/\n"
   ]
  },
  {
   "cell_type": "markdown",
   "metadata": {},
   "source": [
    "The following Python packages need to be installed on the local system: numpy, pandas, dask, matplotlib, zarr and scikit-allel."
   ]
  },
  {
   "cell_type": "code",
   "execution_count": 13,
   "metadata": {},
   "outputs": [],
   "source": [
    "from pathlib import Path\n",
    "import numpy as np\n",
    "import pandas as pd\n",
    "import matplotlib.pyplot as plt\n",
    "%matplotlib inline\n",
    "import dask.array as da\n",
    "from dask.diagnostics import ProgressBar as progress\n",
    "import zarr\n",
    "import allel"
   ]
  },
  {
   "cell_type": "markdown",
   "metadata": {},
   "source": [
    "Set up local path where data were downloaded:"
   ]
  },
  {
   "cell_type": "code",
   "execution_count": 14,
   "metadata": {},
   "outputs": [],
   "source": [
    "ag3_path = Path(\"~/data/ag3\").expanduser()"
   ]
  },
  {
   "cell_type": "markdown",
   "metadata": {},
   "source": [
    "Examples of reading/opening various files:"
   ]
  },
  {
   "cell_type": "code",
   "execution_count": 15,
   "metadata": {},
   "outputs": [
    {
     "data": {
      "text/html": [
       "<div>\n",
       "<style scoped>\n",
       "    .dataframe tbody tr th:only-of-type {\n",
       "        vertical-align: middle;\n",
       "    }\n",
       "\n",
       "    .dataframe tbody tr th {\n",
       "        vertical-align: top;\n",
       "    }\n",
       "\n",
       "    .dataframe thead th {\n",
       "        text-align: right;\n",
       "    }\n",
       "</style>\n",
       "<table border=\"1\" class=\"dataframe\">\n",
       "  <thead>\n",
       "    <tr style=\"text-align: right;\">\n",
       "      <th></th>\n",
       "      <th>sample_set</th>\n",
       "      <th>sample_count</th>\n",
       "    </tr>\n",
       "  </thead>\n",
       "  <tbody>\n",
       "    <tr>\n",
       "      <th>0</th>\n",
       "      <td>AG1000G-AO</td>\n",
       "      <td>81</td>\n",
       "    </tr>\n",
       "    <tr>\n",
       "      <th>1</th>\n",
       "      <td>AG1000G-BF-A</td>\n",
       "      <td>181</td>\n",
       "    </tr>\n",
       "    <tr>\n",
       "      <th>2</th>\n",
       "      <td>AG1000G-BF-B</td>\n",
       "      <td>102</td>\n",
       "    </tr>\n",
       "    <tr>\n",
       "      <th>3</th>\n",
       "      <td>AG1000G-BF-C</td>\n",
       "      <td>13</td>\n",
       "    </tr>\n",
       "    <tr>\n",
       "      <th>4</th>\n",
       "      <td>AG1000G-CD</td>\n",
       "      <td>76</td>\n",
       "    </tr>\n",
       "    <tr>\n",
       "      <th>5</th>\n",
       "      <td>AG1000G-CF</td>\n",
       "      <td>73</td>\n",
       "    </tr>\n",
       "    <tr>\n",
       "      <th>6</th>\n",
       "      <td>AG1000G-CI</td>\n",
       "      <td>80</td>\n",
       "    </tr>\n",
       "    <tr>\n",
       "      <th>7</th>\n",
       "      <td>AG1000G-CM-A</td>\n",
       "      <td>303</td>\n",
       "    </tr>\n",
       "    <tr>\n",
       "      <th>8</th>\n",
       "      <td>AG1000G-CM-B</td>\n",
       "      <td>97</td>\n",
       "    </tr>\n",
       "    <tr>\n",
       "      <th>9</th>\n",
       "      <td>AG1000G-CM-C</td>\n",
       "      <td>44</td>\n",
       "    </tr>\n",
       "    <tr>\n",
       "      <th>10</th>\n",
       "      <td>AG1000G-FR</td>\n",
       "      <td>23</td>\n",
       "    </tr>\n",
       "    <tr>\n",
       "      <th>11</th>\n",
       "      <td>AG1000G-GA-A</td>\n",
       "      <td>69</td>\n",
       "    </tr>\n",
       "    <tr>\n",
       "      <th>12</th>\n",
       "      <td>AG1000G-GH</td>\n",
       "      <td>100</td>\n",
       "    </tr>\n",
       "    <tr>\n",
       "      <th>13</th>\n",
       "      <td>AG1000G-GM-A</td>\n",
       "      <td>74</td>\n",
       "    </tr>\n",
       "    <tr>\n",
       "      <th>14</th>\n",
       "      <td>AG1000G-GM-B</td>\n",
       "      <td>31</td>\n",
       "    </tr>\n",
       "    <tr>\n",
       "      <th>15</th>\n",
       "      <td>AG1000G-GM-C</td>\n",
       "      <td>174</td>\n",
       "    </tr>\n",
       "    <tr>\n",
       "      <th>16</th>\n",
       "      <td>AG1000G-GN-A</td>\n",
       "      <td>45</td>\n",
       "    </tr>\n",
       "    <tr>\n",
       "      <th>17</th>\n",
       "      <td>AG1000G-GN-B</td>\n",
       "      <td>185</td>\n",
       "    </tr>\n",
       "    <tr>\n",
       "      <th>18</th>\n",
       "      <td>AG1000G-GQ</td>\n",
       "      <td>10</td>\n",
       "    </tr>\n",
       "    <tr>\n",
       "      <th>19</th>\n",
       "      <td>AG1000G-GW</td>\n",
       "      <td>101</td>\n",
       "    </tr>\n",
       "    <tr>\n",
       "      <th>20</th>\n",
       "      <td>AG1000G-KE</td>\n",
       "      <td>86</td>\n",
       "    </tr>\n",
       "    <tr>\n",
       "      <th>21</th>\n",
       "      <td>AG1000G-ML-A</td>\n",
       "      <td>60</td>\n",
       "    </tr>\n",
       "    <tr>\n",
       "      <th>22</th>\n",
       "      <td>AG1000G-ML-B</td>\n",
       "      <td>71</td>\n",
       "    </tr>\n",
       "    <tr>\n",
       "      <th>23</th>\n",
       "      <td>AG1000G-MW</td>\n",
       "      <td>41</td>\n",
       "    </tr>\n",
       "    <tr>\n",
       "      <th>24</th>\n",
       "      <td>AG1000G-MZ</td>\n",
       "      <td>74</td>\n",
       "    </tr>\n",
       "    <tr>\n",
       "      <th>25</th>\n",
       "      <td>AG1000G-TZ</td>\n",
       "      <td>300</td>\n",
       "    </tr>\n",
       "    <tr>\n",
       "      <th>26</th>\n",
       "      <td>AG1000G-UG</td>\n",
       "      <td>290</td>\n",
       "    </tr>\n",
       "    <tr>\n",
       "      <th>27</th>\n",
       "      <td>AG1000G-X</td>\n",
       "      <td>297</td>\n",
       "    </tr>\n",
       "  </tbody>\n",
       "</table>\n",
       "</div>"
      ],
      "text/plain": [
       "      sample_set  sample_count\n",
       "0     AG1000G-AO            81\n",
       "1   AG1000G-BF-A           181\n",
       "2   AG1000G-BF-B           102\n",
       "3   AG1000G-BF-C            13\n",
       "4     AG1000G-CD            76\n",
       "5     AG1000G-CF            73\n",
       "6     AG1000G-CI            80\n",
       "7   AG1000G-CM-A           303\n",
       "8   AG1000G-CM-B            97\n",
       "9   AG1000G-CM-C            44\n",
       "10    AG1000G-FR            23\n",
       "11  AG1000G-GA-A            69\n",
       "12    AG1000G-GH           100\n",
       "13  AG1000G-GM-A            74\n",
       "14  AG1000G-GM-B            31\n",
       "15  AG1000G-GM-C           174\n",
       "16  AG1000G-GN-A            45\n",
       "17  AG1000G-GN-B           185\n",
       "18    AG1000G-GQ            10\n",
       "19    AG1000G-GW           101\n",
       "20    AG1000G-KE            86\n",
       "21  AG1000G-ML-A            60\n",
       "22  AG1000G-ML-B            71\n",
       "23    AG1000G-MW            41\n",
       "24    AG1000G-MZ            74\n",
       "25    AG1000G-TZ           300\n",
       "26    AG1000G-UG           290\n",
       "27     AG1000G-X           297"
      ]
     },
     "execution_count": 15,
     "metadata": {},
     "output_type": "execute_result"
    }
   ],
   "source": [
    "# read sample set manifest\n",
    "df_sample_sets = pd.read_csv(ag3_path / \"manifest.tsv\", sep=\"\\t\")\n",
    "df_sample_sets"
   ]
  },
  {
   "cell_type": "code",
   "execution_count": 16,
   "metadata": {},
   "outputs": [
    {
     "data": {
      "text/html": [
       "<div>\n",
       "<style scoped>\n",
       "    .dataframe tbody tr th:only-of-type {\n",
       "        vertical-align: middle;\n",
       "    }\n",
       "\n",
       "    .dataframe tbody tr th {\n",
       "        vertical-align: top;\n",
       "    }\n",
       "\n",
       "    .dataframe thead th {\n",
       "        text-align: right;\n",
       "    }\n",
       "</style>\n",
       "<table border=\"1\" class=\"dataframe\">\n",
       "  <thead>\n",
       "    <tr style=\"text-align: right;\">\n",
       "      <th></th>\n",
       "      <th>sample_id</th>\n",
       "      <th>partner_sample_id</th>\n",
       "      <th>contributor</th>\n",
       "      <th>country</th>\n",
       "      <th>location</th>\n",
       "      <th>year</th>\n",
       "      <th>month</th>\n",
       "      <th>latitude</th>\n",
       "      <th>longitude</th>\n",
       "      <th>sex_call</th>\n",
       "    </tr>\n",
       "  </thead>\n",
       "  <tbody>\n",
       "    <tr>\n",
       "      <th>0</th>\n",
       "      <td>AB0085-Cx</td>\n",
       "      <td>BF2-4</td>\n",
       "      <td>Austin Burt</td>\n",
       "      <td>Burkina Faso</td>\n",
       "      <td>Pala</td>\n",
       "      <td>2012</td>\n",
       "      <td>7</td>\n",
       "      <td>11.150</td>\n",
       "      <td>-4.235</td>\n",
       "      <td>F</td>\n",
       "    </tr>\n",
       "    <tr>\n",
       "      <th>1</th>\n",
       "      <td>AB0086-Cx</td>\n",
       "      <td>BF2-6</td>\n",
       "      <td>Austin Burt</td>\n",
       "      <td>Burkina Faso</td>\n",
       "      <td>Pala</td>\n",
       "      <td>2012</td>\n",
       "      <td>7</td>\n",
       "      <td>11.150</td>\n",
       "      <td>-4.235</td>\n",
       "      <td>F</td>\n",
       "    </tr>\n",
       "    <tr>\n",
       "      <th>2</th>\n",
       "      <td>AB0087-C</td>\n",
       "      <td>BF3-3</td>\n",
       "      <td>Austin Burt</td>\n",
       "      <td>Burkina Faso</td>\n",
       "      <td>Bana</td>\n",
       "      <td>2012</td>\n",
       "      <td>7</td>\n",
       "      <td>11.233</td>\n",
       "      <td>-4.472</td>\n",
       "      <td>F</td>\n",
       "    </tr>\n",
       "    <tr>\n",
       "      <th>3</th>\n",
       "      <td>AB0088-C</td>\n",
       "      <td>BF3-5</td>\n",
       "      <td>Austin Burt</td>\n",
       "      <td>Burkina Faso</td>\n",
       "      <td>Bana</td>\n",
       "      <td>2012</td>\n",
       "      <td>7</td>\n",
       "      <td>11.233</td>\n",
       "      <td>-4.472</td>\n",
       "      <td>F</td>\n",
       "    </tr>\n",
       "    <tr>\n",
       "      <th>4</th>\n",
       "      <td>AB0089-Cx</td>\n",
       "      <td>BF3-8</td>\n",
       "      <td>Austin Burt</td>\n",
       "      <td>Burkina Faso</td>\n",
       "      <td>Bana</td>\n",
       "      <td>2012</td>\n",
       "      <td>7</td>\n",
       "      <td>11.233</td>\n",
       "      <td>-4.472</td>\n",
       "      <td>F</td>\n",
       "    </tr>\n",
       "  </tbody>\n",
       "</table>\n",
       "</div>"
      ],
      "text/plain": [
       "   sample_id partner_sample_id  contributor       country location  year  \\\n",
       "0  AB0085-Cx             BF2-4  Austin Burt  Burkina Faso     Pala  2012   \n",
       "1  AB0086-Cx             BF2-6  Austin Burt  Burkina Faso     Pala  2012   \n",
       "2   AB0087-C             BF3-3  Austin Burt  Burkina Faso     Bana  2012   \n",
       "3   AB0088-C             BF3-5  Austin Burt  Burkina Faso     Bana  2012   \n",
       "4  AB0089-Cx             BF3-8  Austin Burt  Burkina Faso     Bana  2012   \n",
       "\n",
       "   month  latitude  longitude sex_call  \n",
       "0      7    11.150     -4.235        F  \n",
       "1      7    11.150     -4.235        F  \n",
       "2      7    11.233     -4.472        F  \n",
       "3      7    11.233     -4.472        F  \n",
       "4      7    11.233     -4.472        F  "
      ]
     },
     "execution_count": 16,
     "metadata": {},
     "output_type": "execute_result"
    }
   ],
   "source": [
    "# read sample metadata\n",
    "sample_set = \"AG1000G-BF-A\"\n",
    "df_samples = pd.read_csv(ag3_path / f\"metadata/general/{sample_set}/samples.meta.csv\")\n",
    "df_samples.head()"
   ]
  },
  {
   "cell_type": "code",
   "execution_count": 17,
   "metadata": {},
   "outputs": [
    {
     "data": {
      "text/plain": [
       "country       location        year\n",
       "Burkina Faso  Bana            2012    65\n",
       "              Pala            2012    59\n",
       "              Souroukoudinga  2012    57\n",
       "dtype: int64"
      ]
     },
     "execution_count": 17,
     "metadata": {},
     "output_type": "execute_result"
    }
   ],
   "source": [
    "# inspect number of samples by collection location and year\n",
    "df_samples.groupby([\"country\", \"location\", \"year\"]).size()"
   ]
  },
  {
   "cell_type": "code",
   "execution_count": 18,
   "metadata": {},
   "outputs": [
    {
     "data": {
      "text/html": [
       "<div>\n",
       "<style scoped>\n",
       "    .dataframe tbody tr th:only-of-type {\n",
       "        vertical-align: middle;\n",
       "    }\n",
       "\n",
       "    .dataframe tbody tr th {\n",
       "        vertical-align: top;\n",
       "    }\n",
       "\n",
       "    .dataframe thead th {\n",
       "        text-align: right;\n",
       "    }\n",
       "</style>\n",
       "<table border=\"1\" class=\"dataframe\">\n",
       "  <thead>\n",
       "    <tr style=\"text-align: right;\">\n",
       "      <th></th>\n",
       "      <th>sample_id</th>\n",
       "      <th>aim_fraction_colu</th>\n",
       "      <th>aim_fraction_arab</th>\n",
       "      <th>species_gambcolu_arabiensis</th>\n",
       "      <th>species_gambiae_coluzzii</th>\n",
       "    </tr>\n",
       "  </thead>\n",
       "  <tbody>\n",
       "    <tr>\n",
       "      <th>0</th>\n",
       "      <td>AB0085-Cx</td>\n",
       "      <td>0.024</td>\n",
       "      <td>0.002</td>\n",
       "      <td>gamb_colu</td>\n",
       "      <td>gambiae</td>\n",
       "    </tr>\n",
       "    <tr>\n",
       "      <th>1</th>\n",
       "      <td>AB0086-Cx</td>\n",
       "      <td>0.038</td>\n",
       "      <td>0.002</td>\n",
       "      <td>gamb_colu</td>\n",
       "      <td>gambiae</td>\n",
       "    </tr>\n",
       "    <tr>\n",
       "      <th>2</th>\n",
       "      <td>AB0087-C</td>\n",
       "      <td>0.982</td>\n",
       "      <td>0.002</td>\n",
       "      <td>gamb_colu</td>\n",
       "      <td>coluzzii</td>\n",
       "    </tr>\n",
       "    <tr>\n",
       "      <th>3</th>\n",
       "      <td>AB0088-C</td>\n",
       "      <td>0.990</td>\n",
       "      <td>0.002</td>\n",
       "      <td>gamb_colu</td>\n",
       "      <td>coluzzii</td>\n",
       "    </tr>\n",
       "    <tr>\n",
       "      <th>4</th>\n",
       "      <td>AB0089-Cx</td>\n",
       "      <td>0.975</td>\n",
       "      <td>0.002</td>\n",
       "      <td>gamb_colu</td>\n",
       "      <td>coluzzii</td>\n",
       "    </tr>\n",
       "  </tbody>\n",
       "</table>\n",
       "</div>"
      ],
      "text/plain": [
       "   sample_id  aim_fraction_colu  aim_fraction_arab  \\\n",
       "0  AB0085-Cx              0.024              0.002   \n",
       "1  AB0086-Cx              0.038              0.002   \n",
       "2   AB0087-C              0.982              0.002   \n",
       "3   AB0088-C              0.990              0.002   \n",
       "4  AB0089-Cx              0.975              0.002   \n",
       "\n",
       "  species_gambcolu_arabiensis species_gambiae_coluzzii  \n",
       "0                   gamb_colu                  gambiae  \n",
       "1                   gamb_colu                  gambiae  \n",
       "2                   gamb_colu                 coluzzii  \n",
       "3                   gamb_colu                 coluzzii  \n",
       "4                   gamb_colu                 coluzzii  "
      ]
     },
     "execution_count": 18,
     "metadata": {},
     "output_type": "execute_result"
    }
   ],
   "source": [
    "# read AIM species calls\n",
    "df_species_aim = pd.read_csv(ag3_path / f\"metadata/species_calls_20200422/{sample_set}/samples.species_aim.csv\")\n",
    "df_species_aim.head()"
   ]
  },
  {
   "cell_type": "code",
   "execution_count": 19,
   "metadata": {},
   "outputs": [
    {
     "data": {
      "text/plain": [
       "species_gambcolu_arabiensis  species_gambiae_coluzzii\n",
       "gamb_colu                    coluzzii                    82\n",
       "                             gambiae                     98\n",
       "                             intermediate                 1\n",
       "dtype: int64"
      ]
     },
     "execution_count": 19,
     "metadata": {},
     "output_type": "execute_result"
    }
   ],
   "source": [
    "# inspect number of samples by species\n",
    "df_species_aim.fillna(\"\").groupby([\"species_gambcolu_arabiensis\", \"species_gambiae_coluzzii\"]).size()"
   ]
  },
  {
   "cell_type": "code",
   "execution_count": 20,
   "metadata": {},
   "outputs": [
    {
     "data": {
      "text/html": [
       "<div>\n",
       "<style scoped>\n",
       "    .dataframe tbody tr th:only-of-type {\n",
       "        vertical-align: middle;\n",
       "    }\n",
       "\n",
       "    .dataframe tbody tr th {\n",
       "        vertical-align: top;\n",
       "    }\n",
       "\n",
       "    .dataframe thead th {\n",
       "        text-align: right;\n",
       "    }\n",
       "</style>\n",
       "<table border=\"1\" class=\"dataframe\">\n",
       "  <thead>\n",
       "    <tr style=\"text-align: right;\">\n",
       "      <th></th>\n",
       "      <th>sample_id</th>\n",
       "      <th>PC1</th>\n",
       "      <th>PC2</th>\n",
       "      <th>species_gambcolu_arabiensis</th>\n",
       "      <th>species_gambiae_coluzzii</th>\n",
       "    </tr>\n",
       "  </thead>\n",
       "  <tbody>\n",
       "    <tr>\n",
       "      <th>0</th>\n",
       "      <td>AB0085-Cx</td>\n",
       "      <td>-28.289</td>\n",
       "      <td>-22.870</td>\n",
       "      <td>gamb_colu</td>\n",
       "      <td>gambiae</td>\n",
       "    </tr>\n",
       "    <tr>\n",
       "      <th>1</th>\n",
       "      <td>AB0086-Cx</td>\n",
       "      <td>-31.577</td>\n",
       "      <td>-22.986</td>\n",
       "      <td>gamb_colu</td>\n",
       "      <td>gambiae</td>\n",
       "    </tr>\n",
       "    <tr>\n",
       "      <th>2</th>\n",
       "      <td>AB0087-C</td>\n",
       "      <td>-32.060</td>\n",
       "      <td>42.962</td>\n",
       "      <td>gamb_colu</td>\n",
       "      <td>coluzzii</td>\n",
       "    </tr>\n",
       "    <tr>\n",
       "      <th>3</th>\n",
       "      <td>AB0088-C</td>\n",
       "      <td>-33.315</td>\n",
       "      <td>43.974</td>\n",
       "      <td>gamb_colu</td>\n",
       "      <td>coluzzii</td>\n",
       "    </tr>\n",
       "    <tr>\n",
       "      <th>4</th>\n",
       "      <td>AB0089-Cx</td>\n",
       "      <td>-31.606</td>\n",
       "      <td>42.225</td>\n",
       "      <td>gamb_colu</td>\n",
       "      <td>coluzzii</td>\n",
       "    </tr>\n",
       "  </tbody>\n",
       "</table>\n",
       "</div>"
      ],
      "text/plain": [
       "   sample_id     PC1     PC2 species_gambcolu_arabiensis  \\\n",
       "0  AB0085-Cx -28.289 -22.870                   gamb_colu   \n",
       "1  AB0086-Cx -31.577 -22.986                   gamb_colu   \n",
       "2   AB0087-C -32.060  42.962                   gamb_colu   \n",
       "3   AB0088-C -33.315  43.974                   gamb_colu   \n",
       "4  AB0089-Cx -31.606  42.225                   gamb_colu   \n",
       "\n",
       "  species_gambiae_coluzzii  \n",
       "0                  gambiae  \n",
       "1                  gambiae  \n",
       "2                 coluzzii  \n",
       "3                 coluzzii  \n",
       "4                 coluzzii  "
      ]
     },
     "execution_count": 20,
     "metadata": {},
     "output_type": "execute_result"
    }
   ],
   "source": [
    "# read PCA species calls\n",
    "df_species_pca = pd.read_csv(ag3_path / f\"metadata/species_calls_20200422/{sample_set}/samples.species_pca.csv\")\n",
    "df_species_pca.head()"
   ]
  },
  {
   "cell_type": "code",
   "execution_count": 21,
   "metadata": {},
   "outputs": [
    {
     "data": {
      "text/plain": [
       "species_gambcolu_arabiensis  species_gambiae_coluzzii\n",
       "gamb_colu                    coluzzii                    82\n",
       "                             gambiae                     99\n",
       "dtype: int64"
      ]
     },
     "execution_count": 21,
     "metadata": {},
     "output_type": "execute_result"
    }
   ],
   "source": [
    "# inspect number of samples by species\n",
    "df_species_pca.fillna(\"\").groupby([\"species_gambcolu_arabiensis\", \"species_gambiae_coluzzii\"]).size()"
   ]
  },
  {
   "cell_type": "code",
   "execution_count": 22,
   "metadata": {},
   "outputs": [
    {
     "data": {
      "text/plain": [
       "<zarr.hierarchy.Group '/' read-only>"
      ]
     },
     "execution_count": 22,
     "metadata": {},
     "output_type": "execute_result"
    }
   ],
   "source": [
    "# read sites\n",
    "callset_sites = zarr.open(str(ag3_path / \"snp_genotypes/all/sites\"), mode='r')\n",
    "callset_sites"
   ]
  },
  {
   "cell_type": "code",
   "execution_count": 23,
   "metadata": {},
   "outputs": [
    {
     "name": "stdout",
     "output_type": "stream",
     "text": [
      "/\n",
      " ├── 2L\n",
      " │   ├── calldata\n",
      " │   └── variants\n",
      " │       ├── ALT (48525747, 3) |S1\n",
      " │       ├── POS (48525747,) int32\n",
      " │       └── REF (48525747,) |S1\n",
      " ├── 2R\n",
      " │   ├── calldata\n",
      " │   └── variants\n",
      " │       ├── ALT (60132453, 3) |S1\n",
      " │       ├── POS (60132453,) int32\n",
      " │       └── REF (60132453,) |S1\n",
      " ├── 3L\n",
      " │   ├── calldata\n",
      " │   └── variants\n",
      " │       ├── ALT (40758473, 3) |S1\n",
      " │       ├── POS (40758473,) int32\n",
      " │       └── REF (40758473,) |S1\n",
      " ├── 3R\n",
      " │   ├── calldata\n",
      " │   └── variants\n",
      " │       ├── ALT (52226568, 3) |S1\n",
      " │       ├── POS (52226568,) int32\n",
      " │       └── REF (52226568,) |S1\n",
      " ├── Mt\n",
      " │   ├── calldata\n",
      " │   └── variants\n",
      " │       ├── ALT (15363, 3) |S1\n",
      " │       ├── POS (15363,) int32\n",
      " │       └── REF (15363,) |S1\n",
      " ├── UNKN\n",
      " │   ├── calldata\n",
      " │   └── variants\n",
      " │       ├── ALT (27274988, 3) |S1\n",
      " │       ├── POS (27274988,) int32\n",
      " │       └── REF (27274988,) |S1\n",
      " ├── X\n",
      " │   ├── calldata\n",
      " │   └── variants\n",
      " │       ├── ALT (23385349, 3) |S1\n",
      " │       ├── POS (23385349,) int32\n",
      " │       └── REF (23385349,) |S1\n",
      " └── Y_unplaced\n",
      "     ├── calldata\n",
      "     └── variants\n",
      "         ├── ALT (135155, 3) |S1\n",
      "         ├── POS (135155,) int32\n",
      "         └── REF (135155,) |S1\n"
     ]
    }
   ],
   "source": [
    "# arrays are organised hierarchically\n",
    "print(callset_sites.tree())"
   ]
  },
  {
   "cell_type": "code",
   "execution_count": 24,
   "metadata": {},
   "outputs": [
    {
     "data": {
      "text/plain": [
       "array([ 1,  2,  3,  4,  5,  6,  7,  8,  9, 10], dtype=int32)"
      ]
     },
     "execution_count": 24,
     "metadata": {},
     "output_type": "execute_result"
    }
   ],
   "source": [
    "# e.g., read first 10 positions from chromosome arm 3R\n",
    "pos = callset_sites[\"3R/variants/POS\"][:10]\n",
    "pos"
   ]
  },
  {
   "cell_type": "code",
   "execution_count": 25,
   "metadata": {},
   "outputs": [
    {
     "data": {
      "text/plain": [
       "array([b'C', b'C', b'T', b'C', b'T', b'A', b'C', b'G', b'T', b'T'],\n",
       "      dtype='|S1')"
      ]
     },
     "execution_count": 25,
     "metadata": {},
     "output_type": "execute_result"
    }
   ],
   "source": [
    "# e.g., read fist 10 reference alleles from chromosome arm 3R\n",
    "ref = callset_sites[\"3R/variants/REF\"][:10]\n",
    "ref"
   ]
  },
  {
   "cell_type": "code",
   "execution_count": 26,
   "metadata": {},
   "outputs": [
    {
     "data": {
      "text/plain": [
       "array([[b'A', b'T', b'G'],\n",
       "       [b'A', b'T', b'G'],\n",
       "       [b'A', b'C', b'G'],\n",
       "       [b'A', b'T', b'G'],\n",
       "       [b'A', b'C', b'G'],\n",
       "       [b'C', b'T', b'G'],\n",
       "       [b'A', b'T', b'G'],\n",
       "       [b'A', b'C', b'T'],\n",
       "       [b'A', b'C', b'G'],\n",
       "       [b'A', b'C', b'G']], dtype='|S1')"
      ]
     },
     "execution_count": 26,
     "metadata": {},
     "output_type": "execute_result"
    }
   ],
   "source": [
    "# e.g., read first 10 alternate alleles from chromosome arm 3R\n",
    "alt = callset_sites[\"3R/variants/ALT\"][:10]\n",
    "alt"
   ]
  },
  {
   "cell_type": "code",
   "execution_count": 27,
   "metadata": {},
   "outputs": [
    {
     "data": {
      "text/plain": [
       "<zarr.hierarchy.Group '/' read-only>"
      ]
     },
     "execution_count": 27,
     "metadata": {},
     "output_type": "execute_result"
    }
   ],
   "source": [
    "# read gamb_colu site filters\n",
    "callset_filters_gamb_colu = zarr.open(str(ag3_path / \"site_filters/dt_20200416/gamb_colu\"), mode='r')\n",
    "callset_filters_gamb_colu"
   ]
  },
  {
   "cell_type": "code",
   "execution_count": 28,
   "metadata": {},
   "outputs": [
    {
     "name": "stdout",
     "output_type": "stream",
     "text": [
      "/\n",
      " ├── 2L\n",
      " │   └── variants\n",
      " │       ├── filter_pass (48525747,) bool\n",
      " │       ├── training_negative (48525747,) bool\n",
      " │       └── training_positive (48525747,) bool\n",
      " ├── 2R\n",
      " │   └── variants\n",
      " │       ├── filter_pass (60132453,) bool\n",
      " │       ├── training_negative (60132453,) bool\n",
      " │       └── training_positive (60132453,) bool\n",
      " ├── 3L\n",
      " │   └── variants\n",
      " │       ├── filter_pass (40758473,) bool\n",
      " │       ├── training_negative (40758473,) bool\n",
      " │       └── training_positive (40758473,) bool\n",
      " ├── 3R\n",
      " │   └── variants\n",
      " │       ├── filter_pass (52226568,) bool\n",
      " │       ├── training_negative (52226568,) bool\n",
      " │       └── training_positive (52226568,) bool\n",
      " └── X\n",
      "     └── variants\n",
      "         └── filter_pass (23385349,) bool\n"
     ]
    }
   ],
   "source": [
    "# arrays are organised hierarchically\n",
    "print(callset_filters_gamb_colu.tree())"
   ]
  },
  {
   "cell_type": "markdown",
   "metadata": {},
   "source": [
    "Each set of site filters provides a \"filter_pass\" Boolean mask for each chromosome arm, where True indicates that the site passed the filter and is accessible to high quality SNP calling."
   ]
  },
  {
   "cell_type": "code",
   "execution_count": 29,
   "metadata": {},
   "outputs": [
    {
     "data": {
      "text/plain": [
       "array([False, False, False, False, False, False, False, False, False,\n",
       "       False])"
      ]
     },
     "execution_count": 29,
     "metadata": {},
     "output_type": "execute_result"
    }
   ],
   "source": [
    "# e.g., load the mask for the first 10 SNPs on chromosome arm 3R\n",
    "filter_pass = callset_filters_gamb_colu[\"3R/variants/filter_pass\"][:10]\n",
    "filter_pass"
   ]
  },
  {
   "cell_type": "code",
   "execution_count": 30,
   "metadata": {},
   "outputs": [
    {
     "data": {
      "text/plain": [
       "<zarr.hierarchy.Group '/'>"
      ]
     },
     "execution_count": 30,
     "metadata": {},
     "output_type": "execute_result"
    }
   ],
   "source": [
    "# open SNP genotypes\n",
    "callset_genotypes = zarr.open(str(ag3_path / f\"snp_genotypes/all/{sample_set}\"))\n",
    "callset_genotypes"
   ]
  },
  {
   "cell_type": "code",
   "execution_count": 31,
   "metadata": {},
   "outputs": [
    {
     "name": "stdout",
     "output_type": "stream",
     "text": [
      "/\n",
      " ├── 2L\n",
      " │   └── calldata\n",
      " │       └── GT (48525747, 181, 2) int8\n",
      " ├── 2R\n",
      " │   └── calldata\n",
      " │       └── GT (60132453, 181, 2) int8\n",
      " ├── 3L\n",
      " │   └── calldata\n",
      " │       └── GT (40758473, 181, 2) int8\n",
      " ├── 3R\n",
      " │   └── calldata\n",
      " │       └── GT (52226568, 181, 2) int8\n",
      " ├── X\n",
      " │   └── calldata\n",
      " │       └── GT (23385349, 181, 2) int8\n",
      " └── samples (181,) |S24\n"
     ]
    }
   ],
   "source": [
    "print(callset_genotypes.tree())"
   ]
  },
  {
   "cell_type": "markdown",
   "metadata": {},
   "source": [
    "For each sample set, data are grouped by chromosome arm. The \"calldata/GT\" array provides the actual genotypes. Genotypes are stored as a three-dimensional array, where the first dimension corresponds to genomic positions, the second dimension is samples, and the third dimension is ploidy (2). Values coded as integers, where -1 represents a missing value, 0 represents the reference allele, and 1, 2, and 3 represent alternate alleles."
   ]
  },
  {
   "cell_type": "code",
   "execution_count": 32,
   "metadata": {},
   "outputs": [
    {
     "data": {
      "text/plain": [
       "array([[[0, 0],\n",
       "        [0, 0],\n",
       "        [0, 0]],\n",
       "\n",
       "       [[0, 0],\n",
       "        [0, 0],\n",
       "        [0, 0]],\n",
       "\n",
       "       [[0, 0],\n",
       "        [0, 0],\n",
       "        [0, 0]],\n",
       "\n",
       "       [[0, 0],\n",
       "        [0, 0],\n",
       "        [0, 0]],\n",
       "\n",
       "       [[0, 0],\n",
       "        [0, 0],\n",
       "        [0, 0]]], dtype=int8)"
      ]
     },
     "execution_count": 32,
     "metadata": {},
     "output_type": "execute_result"
    }
   ],
   "source": [
    "# e.g., load genotypes for the first 5 SNPs on chromosome arm 3R and the first 3 samples\n",
    "gt = callset_genotypes[\"3R/calldata/GT\"][:5, :3, :]\n",
    "gt"
   ]
  },
  {
   "cell_type": "markdown",
   "metadata": {},
   "source": [
    "### Concatenating data from multiple sample sets\n",
    "\n",
    "Often you may wish to work with multiple sample sets simultaneously, in which case data needs to concatenated.\n",
    "\n",
    "Concatenating can be done directly. E.g., concatenate sample metadata for two sample sets:"
   ]
  },
  {
   "cell_type": "code",
   "execution_count": 33,
   "metadata": {},
   "outputs": [
    {
     "data": {
      "text/html": [
       "<div>\n",
       "<style scoped>\n",
       "    .dataframe tbody tr th:only-of-type {\n",
       "        vertical-align: middle;\n",
       "    }\n",
       "\n",
       "    .dataframe tbody tr th {\n",
       "        vertical-align: top;\n",
       "    }\n",
       "\n",
       "    .dataframe thead th {\n",
       "        text-align: right;\n",
       "    }\n",
       "</style>\n",
       "<table border=\"1\" class=\"dataframe\">\n",
       "  <thead>\n",
       "    <tr style=\"text-align: right;\">\n",
       "      <th></th>\n",
       "      <th>sample_id</th>\n",
       "      <th>partner_sample_id</th>\n",
       "      <th>contributor</th>\n",
       "      <th>country</th>\n",
       "      <th>location</th>\n",
       "      <th>year</th>\n",
       "      <th>month</th>\n",
       "      <th>latitude</th>\n",
       "      <th>longitude</th>\n",
       "      <th>sex_call</th>\n",
       "    </tr>\n",
       "  </thead>\n",
       "  <tbody>\n",
       "    <tr>\n",
       "      <th>0</th>\n",
       "      <td>AB0085-Cx</td>\n",
       "      <td>BF2-4</td>\n",
       "      <td>Austin Burt</td>\n",
       "      <td>Burkina Faso</td>\n",
       "      <td>Pala</td>\n",
       "      <td>2012</td>\n",
       "      <td>7</td>\n",
       "      <td>11.150</td>\n",
       "      <td>-4.235</td>\n",
       "      <td>F</td>\n",
       "    </tr>\n",
       "    <tr>\n",
       "      <th>1</th>\n",
       "      <td>AB0086-Cx</td>\n",
       "      <td>BF2-6</td>\n",
       "      <td>Austin Burt</td>\n",
       "      <td>Burkina Faso</td>\n",
       "      <td>Pala</td>\n",
       "      <td>2012</td>\n",
       "      <td>7</td>\n",
       "      <td>11.150</td>\n",
       "      <td>-4.235</td>\n",
       "      <td>F</td>\n",
       "    </tr>\n",
       "    <tr>\n",
       "      <th>2</th>\n",
       "      <td>AB0087-C</td>\n",
       "      <td>BF3-3</td>\n",
       "      <td>Austin Burt</td>\n",
       "      <td>Burkina Faso</td>\n",
       "      <td>Bana</td>\n",
       "      <td>2012</td>\n",
       "      <td>7</td>\n",
       "      <td>11.233</td>\n",
       "      <td>-4.472</td>\n",
       "      <td>F</td>\n",
       "    </tr>\n",
       "    <tr>\n",
       "      <th>3</th>\n",
       "      <td>AB0088-C</td>\n",
       "      <td>BF3-5</td>\n",
       "      <td>Austin Burt</td>\n",
       "      <td>Burkina Faso</td>\n",
       "      <td>Bana</td>\n",
       "      <td>2012</td>\n",
       "      <td>7</td>\n",
       "      <td>11.233</td>\n",
       "      <td>-4.472</td>\n",
       "      <td>F</td>\n",
       "    </tr>\n",
       "    <tr>\n",
       "      <th>4</th>\n",
       "      <td>AB0089-Cx</td>\n",
       "      <td>BF3-8</td>\n",
       "      <td>Austin Burt</td>\n",
       "      <td>Burkina Faso</td>\n",
       "      <td>Bana</td>\n",
       "      <td>2012</td>\n",
       "      <td>7</td>\n",
       "      <td>11.233</td>\n",
       "      <td>-4.472</td>\n",
       "      <td>F</td>\n",
       "    </tr>\n",
       "  </tbody>\n",
       "</table>\n",
       "</div>"
      ],
      "text/plain": [
       "   sample_id partner_sample_id  contributor       country location  year  \\\n",
       "0  AB0085-Cx             BF2-4  Austin Burt  Burkina Faso     Pala  2012   \n",
       "1  AB0086-Cx             BF2-6  Austin Burt  Burkina Faso     Pala  2012   \n",
       "2   AB0087-C             BF3-3  Austin Burt  Burkina Faso     Bana  2012   \n",
       "3   AB0088-C             BF3-5  Austin Burt  Burkina Faso     Bana  2012   \n",
       "4  AB0089-Cx             BF3-8  Austin Burt  Burkina Faso     Bana  2012   \n",
       "\n",
       "   month  latitude  longitude sex_call  \n",
       "0      7    11.150     -4.235        F  \n",
       "1      7    11.150     -4.235        F  \n",
       "2      7    11.233     -4.472        F  \n",
       "3      7    11.233     -4.472        F  \n",
       "4      7    11.233     -4.472        F  "
      ]
     },
     "execution_count": 33,
     "metadata": {},
     "output_type": "execute_result"
    }
   ],
   "source": [
    "sample_sets = [\"AG1000G-BF-A\", \"AG1000G-BF-B\"]\n",
    "df_samples = (\n",
    "    pd.concat(\n",
    "        [pd.read_csv(ag3_path / f\"metadata/general/{sample_set}/samples.meta.csv\") \n",
    "         for sample_set in sample_sets], \n",
    "        axis=0)\n",
    "    .reset_index(drop=True)\n",
    ")\n",
    "df_samples.head()"
   ]
  },
  {
   "cell_type": "code",
   "execution_count": 34,
   "metadata": {},
   "outputs": [
    {
     "data": {
      "text/plain": [
       "283"
      ]
     },
     "execution_count": 34,
     "metadata": {},
     "output_type": "execute_result"
    }
   ],
   "source": [
    "len(df_samples)"
   ]
  },
  {
   "cell_type": "code",
   "execution_count": 35,
   "metadata": {},
   "outputs": [
    {
     "data": {
      "text/plain": [
       "country       location        year\n",
       "Burkina Faso  Bana            2012    65\n",
       "                              2014    63\n",
       "              Pala            2012    59\n",
       "                              2014    18\n",
       "              Souroukoudinga  2012    57\n",
       "                              2014    21\n",
       "dtype: int64"
      ]
     },
     "execution_count": 35,
     "metadata": {},
     "output_type": "execute_result"
    }
   ],
   "source": [
    "df_samples.groupby([\"country\", \"location\", \"year\"]).size()"
   ]
  },
  {
   "cell_type": "markdown",
   "metadata": {},
   "source": [
    "SNP genotypes for multiple sample sets can be concatenated using [dask](https://docs.dask.org/en/latest/array.html). E.g.:"
   ]
  },
  {
   "cell_type": "code",
   "execution_count": 36,
   "metadata": {},
   "outputs": [
    {
     "data": {
      "text/html": [
       "<div class=\"allel allel-DisplayAs2D\"><span>&lt;GenotypeDaskArray shape=(52226568, 283, 2) dtype=int8&gt;</span><table><thead><tr><th></th><th style=\"text-align: center\">0</th><th style=\"text-align: center\">1</th><th style=\"text-align: center\">2</th><th style=\"text-align: center\">3</th><th style=\"text-align: center\">4</th><th style=\"text-align: center\">...</th><th style=\"text-align: center\">278</th><th style=\"text-align: center\">279</th><th style=\"text-align: center\">280</th><th style=\"text-align: center\">281</th><th style=\"text-align: center\">282</th></tr></thead><tbody><tr><th style=\"text-align: center; background-color: white; border-right: 1px solid black; \">0</th><td style=\"text-align: center\">0/0</td><td style=\"text-align: center\">0/0</td><td style=\"text-align: center\">0/0</td><td style=\"text-align: center\">0/0</td><td style=\"text-align: center\">0/0</td><td style=\"text-align: center\">...</td><td style=\"text-align: center\">0/0</td><td style=\"text-align: center\">0/0</td><td style=\"text-align: center\">0/0</td><td style=\"text-align: center\">0/0</td><td style=\"text-align: center\">0/0</td></tr><tr><th style=\"text-align: center; background-color: white; border-right: 1px solid black; \">1</th><td style=\"text-align: center\">0/0</td><td style=\"text-align: center\">0/0</td><td style=\"text-align: center\">0/0</td><td style=\"text-align: center\">0/0</td><td style=\"text-align: center\">0/0</td><td style=\"text-align: center\">...</td><td style=\"text-align: center\">0/0</td><td style=\"text-align: center\">0/0</td><td style=\"text-align: center\">0/0</td><td style=\"text-align: center\">0/0</td><td style=\"text-align: center\">0/0</td></tr><tr><th style=\"text-align: center; background-color: white; border-right: 1px solid black; \">2</th><td style=\"text-align: center\">0/0</td><td style=\"text-align: center\">0/0</td><td style=\"text-align: center\">0/0</td><td style=\"text-align: center\">0/0</td><td style=\"text-align: center\">0/0</td><td style=\"text-align: center\">...</td><td style=\"text-align: center\">0/0</td><td style=\"text-align: center\">0/0</td><td style=\"text-align: center\">0/0</td><td style=\"text-align: center\">0/0</td><td style=\"text-align: center\">0/0</td></tr><tr><th style=\"text-align: center; background-color: white; border-right: 1px solid black; \">...</th><td style=\"text-align: center\" colspan=\"12\">...</td></tr><tr><th style=\"text-align: center; background-color: white; border-right: 1px solid black; \">52226565</th><td style=\"text-align: center\">./.</td><td style=\"text-align: center\">./.</td><td style=\"text-align: center\">./.</td><td style=\"text-align: center\">./.</td><td style=\"text-align: center\">./.</td><td style=\"text-align: center\">...</td><td style=\"text-align: center\">0/0</td><td style=\"text-align: center\">./.</td><td style=\"text-align: center\">./.</td><td style=\"text-align: center\">./.</td><td style=\"text-align: center\">./.</td></tr><tr><th style=\"text-align: center; background-color: white; border-right: 1px solid black; \">52226566</th><td style=\"text-align: center\">./.</td><td style=\"text-align: center\">./.</td><td style=\"text-align: center\">./.</td><td style=\"text-align: center\">./.</td><td style=\"text-align: center\">./.</td><td style=\"text-align: center\">...</td><td style=\"text-align: center\">./.</td><td style=\"text-align: center\">./.</td><td style=\"text-align: center\">./.</td><td style=\"text-align: center\">./.</td><td style=\"text-align: center\">./.</td></tr><tr><th style=\"text-align: center; background-color: white; border-right: 1px solid black; \">52226567</th><td style=\"text-align: center\">./.</td><td style=\"text-align: center\">./.</td><td style=\"text-align: center\">./.</td><td style=\"text-align: center\">./.</td><td style=\"text-align: center\">./.</td><td style=\"text-align: center\">...</td><td style=\"text-align: center\">./.</td><td style=\"text-align: center\">./.</td><td style=\"text-align: center\">./.</td><td style=\"text-align: center\">./.</td><td style=\"text-align: center\">./.</td></tr></tbody></table></div>"
      ],
      "text/plain": [
       "<GenotypeDaskArray shape=(52226568, 283, 2) dtype=int8>"
      ]
     },
     "execution_count": 36,
     "metadata": {},
     "output_type": "execute_result"
    }
   ],
   "source": [
    "sample_sets = [\"AG1000G-BF-A\", \"AG1000G-BF-B\"]\n",
    "callsets = [zarr.open(str(ag3_path / f\"snp_genotypes/all/{sample_set}\"), mode='r') \n",
    "            for sample_set in sample_sets]\n",
    "gt_arrays = [da.from_array(callset[\"3R/calldata/GT\"]) for callset in callsets]\n",
    "# note that arrays are concatenated across axis 1 - the samples dimension\n",
    "gt = da.concatenate(gt_arrays, axis=1)\n",
    "\n",
    "# wrap with scikit-allel class for convenience \n",
    "gt = allel.GenotypeDaskArray(gt)\n",
    "gt"
   ]
  },
  {
   "cell_type": "markdown",
   "metadata": {},
   "source": [
    "To load some of these data into memory, call `.compute()`, e.g.:"
   ]
  },
  {
   "cell_type": "code",
   "execution_count": 37,
   "metadata": {},
   "outputs": [
    {
     "data": {
      "text/html": [
       "<div class=\"allel allel-DisplayAs2D\"><span>&lt;GenotypeArray shape=(5, 3, 2) dtype=int8&gt;</span><table><thead><tr><th></th><th style=\"text-align: center\">0</th><th style=\"text-align: center\">1</th><th style=\"text-align: center\">2</th></tr></thead><tbody><tr><th style=\"text-align: center; background-color: white; border-right: 1px solid black; \">0</th><td style=\"text-align: center\">0/0</td><td style=\"text-align: center\">0/0</td><td style=\"text-align: center\">0/0</td></tr><tr><th style=\"text-align: center; background-color: white; border-right: 1px solid black; \">1</th><td style=\"text-align: center\">0/0</td><td style=\"text-align: center\">0/0</td><td style=\"text-align: center\">0/0</td></tr><tr><th style=\"text-align: center; background-color: white; border-right: 1px solid black; \">2</th><td style=\"text-align: center\">0/0</td><td style=\"text-align: center\">0/0</td><td style=\"text-align: center\">0/0</td></tr><tr><th style=\"text-align: center; background-color: white; border-right: 1px solid black; \">3</th><td style=\"text-align: center\">0/0</td><td style=\"text-align: center\">0/0</td><td style=\"text-align: center\">0/0</td></tr><tr><th style=\"text-align: center; background-color: white; border-right: 1px solid black; \">4</th><td style=\"text-align: center\">0/0</td><td style=\"text-align: center\">0/0</td><td style=\"text-align: center\">0/0</td></tr></tbody></table></div>"
      ],
      "text/plain": [
       "<GenotypeArray shape=(5, 3, 2) dtype=int8>\n",
       "0/0 0/0 0/0\n",
       "0/0 0/0 0/0\n",
       "0/0 0/0 0/0\n",
       "0/0 0/0 0/0\n",
       "0/0 0/0 0/0"
      ]
     },
     "execution_count": 37,
     "metadata": {},
     "output_type": "execute_result"
    }
   ],
   "source": [
    "gt[:5, :3, :].compute()"
   ]
  },
  {
   "cell_type": "markdown",
   "metadata": {},
   "source": [
    "Here's a computation to count the number of segregating sites on chromosome arm 3R that also pass filters:"
   ]
  },
  {
   "cell_type": "code",
   "execution_count": 38,
   "metadata": {},
   "outputs": [
    {
     "name": "stdout",
     "output_type": "stream",
     "text": [
      "[########################################] | 100% Completed | 18.6s\n"
     ]
    },
    {
     "data": {
      "text/plain": [
       "12990674"
      ]
     },
     "execution_count": 38,
     "metadata": {},
     "output_type": "execute_result"
    }
   ],
   "source": [
    "# locate pass sites\n",
    "loc_pass = callset_filters_gamb_colu[\"3R/variants/filter_pass\"][:]\n",
    "\n",
    "# perform an allele count over genotypes\n",
    "with progress():\n",
    "    ac = gt.count_alleles(max_allele=3).compute()\n",
    "    \n",
    "# locate segregating sites\n",
    "loc_seg = ac.is_segregating()\n",
    "\n",
    "# count segregating and pass sites\n",
    "np.count_nonzero(loc_pass & loc_seg)"
   ]
  },
  {
   "cell_type": "markdown",
   "metadata": {},
   "source": [
    "### Convenience functions for accessing data\n",
    "\n",
    "When performing more complex analyses using data from multiple sample sets, it may be useful to have some convenience functions for loading data. The [ag3_local.py](ag3_local.py) module provides some convenience functions for loading locally downloaded data. If you have this module in your Python path or local directory, you can do, e.g.:"
   ]
  },
  {
   "cell_type": "code",
   "execution_count": 39,
   "metadata": {},
   "outputs": [],
   "source": [
    "import ag3_local\n",
    "ag3 = ag3_local.Data(\"~/data/ag3\")"
   ]
  },
  {
   "cell_type": "code",
   "execution_count": 40,
   "metadata": {},
   "outputs": [],
   "source": [
    "sample_sets = [\"AG1000G-BF-A\", \"AG1000G-BF-B\"]\n",
    "seq_id = \"3R\"\n",
    "mask = \"gamb_colu\""
   ]
  },
  {
   "cell_type": "code",
   "execution_count": 41,
   "metadata": {},
   "outputs": [
    {
     "data": {
      "text/html": [
       "<div>\n",
       "<style scoped>\n",
       "    .dataframe tbody tr th:only-of-type {\n",
       "        vertical-align: middle;\n",
       "    }\n",
       "\n",
       "    .dataframe tbody tr th {\n",
       "        vertical-align: top;\n",
       "    }\n",
       "\n",
       "    .dataframe thead th {\n",
       "        text-align: right;\n",
       "    }\n",
       "</style>\n",
       "<table border=\"1\" class=\"dataframe\">\n",
       "  <thead>\n",
       "    <tr style=\"text-align: right;\">\n",
       "      <th></th>\n",
       "      <th>sample_id</th>\n",
       "      <th>partner_sample_id</th>\n",
       "      <th>contributor</th>\n",
       "      <th>country</th>\n",
       "      <th>location</th>\n",
       "      <th>year</th>\n",
       "      <th>month</th>\n",
       "      <th>latitude</th>\n",
       "      <th>longitude</th>\n",
       "      <th>sex_call</th>\n",
       "      <th>sample_set</th>\n",
       "      <th>aim_fraction_colu</th>\n",
       "      <th>aim_fraction_arab</th>\n",
       "      <th>species_gambcolu_arabiensis</th>\n",
       "      <th>species_gambiae_coluzzii</th>\n",
       "    </tr>\n",
       "  </thead>\n",
       "  <tbody>\n",
       "    <tr>\n",
       "      <th>0</th>\n",
       "      <td>AB0085-Cx</td>\n",
       "      <td>BF2-4</td>\n",
       "      <td>Austin Burt</td>\n",
       "      <td>Burkina Faso</td>\n",
       "      <td>Pala</td>\n",
       "      <td>2012</td>\n",
       "      <td>7</td>\n",
       "      <td>11.150</td>\n",
       "      <td>-4.235</td>\n",
       "      <td>F</td>\n",
       "      <td>AG1000G-BF-A</td>\n",
       "      <td>0.024</td>\n",
       "      <td>0.002</td>\n",
       "      <td>gamb_colu</td>\n",
       "      <td>gambiae</td>\n",
       "    </tr>\n",
       "    <tr>\n",
       "      <th>1</th>\n",
       "      <td>AB0086-Cx</td>\n",
       "      <td>BF2-6</td>\n",
       "      <td>Austin Burt</td>\n",
       "      <td>Burkina Faso</td>\n",
       "      <td>Pala</td>\n",
       "      <td>2012</td>\n",
       "      <td>7</td>\n",
       "      <td>11.150</td>\n",
       "      <td>-4.235</td>\n",
       "      <td>F</td>\n",
       "      <td>AG1000G-BF-A</td>\n",
       "      <td>0.038</td>\n",
       "      <td>0.002</td>\n",
       "      <td>gamb_colu</td>\n",
       "      <td>gambiae</td>\n",
       "    </tr>\n",
       "    <tr>\n",
       "      <th>2</th>\n",
       "      <td>AB0087-C</td>\n",
       "      <td>BF3-3</td>\n",
       "      <td>Austin Burt</td>\n",
       "      <td>Burkina Faso</td>\n",
       "      <td>Bana</td>\n",
       "      <td>2012</td>\n",
       "      <td>7</td>\n",
       "      <td>11.233</td>\n",
       "      <td>-4.472</td>\n",
       "      <td>F</td>\n",
       "      <td>AG1000G-BF-A</td>\n",
       "      <td>0.982</td>\n",
       "      <td>0.002</td>\n",
       "      <td>gamb_colu</td>\n",
       "      <td>coluzzii</td>\n",
       "    </tr>\n",
       "    <tr>\n",
       "      <th>3</th>\n",
       "      <td>AB0088-C</td>\n",
       "      <td>BF3-5</td>\n",
       "      <td>Austin Burt</td>\n",
       "      <td>Burkina Faso</td>\n",
       "      <td>Bana</td>\n",
       "      <td>2012</td>\n",
       "      <td>7</td>\n",
       "      <td>11.233</td>\n",
       "      <td>-4.472</td>\n",
       "      <td>F</td>\n",
       "      <td>AG1000G-BF-A</td>\n",
       "      <td>0.990</td>\n",
       "      <td>0.002</td>\n",
       "      <td>gamb_colu</td>\n",
       "      <td>coluzzii</td>\n",
       "    </tr>\n",
       "    <tr>\n",
       "      <th>4</th>\n",
       "      <td>AB0089-Cx</td>\n",
       "      <td>BF3-8</td>\n",
       "      <td>Austin Burt</td>\n",
       "      <td>Burkina Faso</td>\n",
       "      <td>Bana</td>\n",
       "      <td>2012</td>\n",
       "      <td>7</td>\n",
       "      <td>11.233</td>\n",
       "      <td>-4.472</td>\n",
       "      <td>F</td>\n",
       "      <td>AG1000G-BF-A</td>\n",
       "      <td>0.975</td>\n",
       "      <td>0.002</td>\n",
       "      <td>gamb_colu</td>\n",
       "      <td>coluzzii</td>\n",
       "    </tr>\n",
       "    <tr>\n",
       "      <th>...</th>\n",
       "      <td>...</td>\n",
       "      <td>...</td>\n",
       "      <td>...</td>\n",
       "      <td>...</td>\n",
       "      <td>...</td>\n",
       "      <td>...</td>\n",
       "      <td>...</td>\n",
       "      <td>...</td>\n",
       "      <td>...</td>\n",
       "      <td>...</td>\n",
       "      <td>...</td>\n",
       "      <td>...</td>\n",
       "      <td>...</td>\n",
       "      <td>...</td>\n",
       "      <td>...</td>\n",
       "    </tr>\n",
       "    <tr>\n",
       "      <th>278</th>\n",
       "      <td>AB0533-C</td>\n",
       "      <td>BF13-18</td>\n",
       "      <td>Austin Burt</td>\n",
       "      <td>Burkina Faso</td>\n",
       "      <td>Souroukoudinga</td>\n",
       "      <td>2014</td>\n",
       "      <td>7</td>\n",
       "      <td>11.235</td>\n",
       "      <td>-4.535</td>\n",
       "      <td>F</td>\n",
       "      <td>AG1000G-BF-B</td>\n",
       "      <td>0.021</td>\n",
       "      <td>0.002</td>\n",
       "      <td>gamb_colu</td>\n",
       "      <td>gambiae</td>\n",
       "    </tr>\n",
       "    <tr>\n",
       "      <th>279</th>\n",
       "      <td>AB0536-C</td>\n",
       "      <td>BF13-31</td>\n",
       "      <td>Austin Burt</td>\n",
       "      <td>Burkina Faso</td>\n",
       "      <td>Souroukoudinga</td>\n",
       "      <td>2014</td>\n",
       "      <td>7</td>\n",
       "      <td>11.235</td>\n",
       "      <td>-4.535</td>\n",
       "      <td>F</td>\n",
       "      <td>AG1000G-BF-B</td>\n",
       "      <td>0.025</td>\n",
       "      <td>0.002</td>\n",
       "      <td>gamb_colu</td>\n",
       "      <td>gambiae</td>\n",
       "    </tr>\n",
       "    <tr>\n",
       "      <th>280</th>\n",
       "      <td>AB0537-C</td>\n",
       "      <td>BF13-32</td>\n",
       "      <td>Austin Burt</td>\n",
       "      <td>Burkina Faso</td>\n",
       "      <td>Souroukoudinga</td>\n",
       "      <td>2014</td>\n",
       "      <td>7</td>\n",
       "      <td>11.235</td>\n",
       "      <td>-4.535</td>\n",
       "      <td>F</td>\n",
       "      <td>AG1000G-BF-B</td>\n",
       "      <td>0.029</td>\n",
       "      <td>0.002</td>\n",
       "      <td>gamb_colu</td>\n",
       "      <td>gambiae</td>\n",
       "    </tr>\n",
       "    <tr>\n",
       "      <th>281</th>\n",
       "      <td>AB0538-C</td>\n",
       "      <td>BF13-33</td>\n",
       "      <td>Austin Burt</td>\n",
       "      <td>Burkina Faso</td>\n",
       "      <td>Souroukoudinga</td>\n",
       "      <td>2014</td>\n",
       "      <td>7</td>\n",
       "      <td>11.235</td>\n",
       "      <td>-4.535</td>\n",
       "      <td>F</td>\n",
       "      <td>AG1000G-BF-B</td>\n",
       "      <td>0.018</td>\n",
       "      <td>0.002</td>\n",
       "      <td>gamb_colu</td>\n",
       "      <td>gambiae</td>\n",
       "    </tr>\n",
       "    <tr>\n",
       "      <th>282</th>\n",
       "      <td>AB0408-C</td>\n",
       "      <td>BF14-20</td>\n",
       "      <td>Austin Burt</td>\n",
       "      <td>Burkina Faso</td>\n",
       "      <td>Bana</td>\n",
       "      <td>2014</td>\n",
       "      <td>7</td>\n",
       "      <td>11.233</td>\n",
       "      <td>-4.472</td>\n",
       "      <td>F</td>\n",
       "      <td>AG1000G-BF-B</td>\n",
       "      <td>0.986</td>\n",
       "      <td>0.002</td>\n",
       "      <td>gamb_colu</td>\n",
       "      <td>coluzzii</td>\n",
       "    </tr>\n",
       "  </tbody>\n",
       "</table>\n",
       "<p>283 rows × 15 columns</p>\n",
       "</div>"
      ],
      "text/plain": [
       "     sample_id partner_sample_id  contributor       country        location  \\\n",
       "0    AB0085-Cx             BF2-4  Austin Burt  Burkina Faso            Pala   \n",
       "1    AB0086-Cx             BF2-6  Austin Burt  Burkina Faso            Pala   \n",
       "2     AB0087-C             BF3-3  Austin Burt  Burkina Faso            Bana   \n",
       "3     AB0088-C             BF3-5  Austin Burt  Burkina Faso            Bana   \n",
       "4    AB0089-Cx             BF3-8  Austin Burt  Burkina Faso            Bana   \n",
       "..         ...               ...          ...           ...             ...   \n",
       "278   AB0533-C           BF13-18  Austin Burt  Burkina Faso  Souroukoudinga   \n",
       "279   AB0536-C           BF13-31  Austin Burt  Burkina Faso  Souroukoudinga   \n",
       "280   AB0537-C           BF13-32  Austin Burt  Burkina Faso  Souroukoudinga   \n",
       "281   AB0538-C           BF13-33  Austin Burt  Burkina Faso  Souroukoudinga   \n",
       "282   AB0408-C           BF14-20  Austin Burt  Burkina Faso            Bana   \n",
       "\n",
       "     year  month  latitude  longitude sex_call    sample_set  \\\n",
       "0    2012      7    11.150     -4.235        F  AG1000G-BF-A   \n",
       "1    2012      7    11.150     -4.235        F  AG1000G-BF-A   \n",
       "2    2012      7    11.233     -4.472        F  AG1000G-BF-A   \n",
       "3    2012      7    11.233     -4.472        F  AG1000G-BF-A   \n",
       "4    2012      7    11.233     -4.472        F  AG1000G-BF-A   \n",
       "..    ...    ...       ...        ...      ...           ...   \n",
       "278  2014      7    11.235     -4.535        F  AG1000G-BF-B   \n",
       "279  2014      7    11.235     -4.535        F  AG1000G-BF-B   \n",
       "280  2014      7    11.235     -4.535        F  AG1000G-BF-B   \n",
       "281  2014      7    11.235     -4.535        F  AG1000G-BF-B   \n",
       "282  2014      7    11.233     -4.472        F  AG1000G-BF-B   \n",
       "\n",
       "     aim_fraction_colu  aim_fraction_arab species_gambcolu_arabiensis  \\\n",
       "0                0.024              0.002                   gamb_colu   \n",
       "1                0.038              0.002                   gamb_colu   \n",
       "2                0.982              0.002                   gamb_colu   \n",
       "3                0.990              0.002                   gamb_colu   \n",
       "4                0.975              0.002                   gamb_colu   \n",
       "..                 ...                ...                         ...   \n",
       "278              0.021              0.002                   gamb_colu   \n",
       "279              0.025              0.002                   gamb_colu   \n",
       "280              0.029              0.002                   gamb_colu   \n",
       "281              0.018              0.002                   gamb_colu   \n",
       "282              0.986              0.002                   gamb_colu   \n",
       "\n",
       "    species_gambiae_coluzzii  \n",
       "0                    gambiae  \n",
       "1                    gambiae  \n",
       "2                   coluzzii  \n",
       "3                   coluzzii  \n",
       "4                   coluzzii  \n",
       "..                       ...  \n",
       "278                  gambiae  \n",
       "279                  gambiae  \n",
       "280                  gambiae  \n",
       "281                  gambiae  \n",
       "282                 coluzzii  \n",
       "\n",
       "[283 rows x 15 columns]"
      ]
     },
     "execution_count": 41,
     "metadata": {},
     "output_type": "execute_result"
    }
   ],
   "source": [
    "df_samples = ag3.load_sample_metadata(sample_set=sample_sets)\n",
    "df_samples"
   ]
  },
  {
   "cell_type": "code",
   "execution_count": 42,
   "metadata": {},
   "outputs": [
    {
     "data": {
      "text/plain": [
       "array([False, False, False, ..., False, False, False])"
      ]
     },
     "execution_count": 42,
     "metadata": {},
     "output_type": "execute_result"
    }
   ],
   "source": [
    "filter_pass = ag3.load_mask(seq_id=seq_id, mask=mask)\n",
    "filter_pass"
   ]
  },
  {
   "cell_type": "code",
   "execution_count": 43,
   "metadata": {},
   "outputs": [
    {
     "data": {
      "text/plain": [
       "array([     180,      185,      236, ..., 53196502, 53196504, 53196522],\n",
       "      dtype=int32)"
      ]
     },
     "execution_count": 43,
     "metadata": {},
     "output_type": "execute_result"
    }
   ],
   "source": [
    "pos = ag3.load_variants_array(seq_id=seq_id, field=\"POS\", mask=mask)\n",
    "pos"
   ]
  },
  {
   "cell_type": "code",
   "execution_count": 44,
   "metadata": {},
   "outputs": [
    {
     "data": {
      "text/html": [
       "<div class=\"allel allel-DisplayAs2D\"><span>&lt;GenotypeDaskArray shape=(37199402, 283, 2) dtype=int8&gt;</span><table><thead><tr><th></th><th style=\"text-align: center\">0</th><th style=\"text-align: center\">1</th><th style=\"text-align: center\">2</th><th style=\"text-align: center\">3</th><th style=\"text-align: center\">4</th><th style=\"text-align: center\">...</th><th style=\"text-align: center\">278</th><th style=\"text-align: center\">279</th><th style=\"text-align: center\">280</th><th style=\"text-align: center\">281</th><th style=\"text-align: center\">282</th></tr></thead><tbody><tr><th style=\"text-align: center; background-color: white; border-right: 1px solid black; \">0</th><td style=\"text-align: center\">0/0</td><td style=\"text-align: center\">0/0</td><td style=\"text-align: center\">0/0</td><td style=\"text-align: center\">0/0</td><td style=\"text-align: center\">0/0</td><td style=\"text-align: center\">...</td><td style=\"text-align: center\">0/0</td><td style=\"text-align: center\">0/0</td><td style=\"text-align: center\">0/0</td><td style=\"text-align: center\">0/0</td><td style=\"text-align: center\">0/0</td></tr><tr><th style=\"text-align: center; background-color: white; border-right: 1px solid black; \">1</th><td style=\"text-align: center\">0/0</td><td style=\"text-align: center\">0/0</td><td style=\"text-align: center\">0/0</td><td style=\"text-align: center\">0/0</td><td style=\"text-align: center\">0/0</td><td style=\"text-align: center\">...</td><td style=\"text-align: center\">0/0</td><td style=\"text-align: center\">0/0</td><td style=\"text-align: center\">0/0</td><td style=\"text-align: center\">0/0</td><td style=\"text-align: center\">0/0</td></tr><tr><th style=\"text-align: center; background-color: white; border-right: 1px solid black; \">2</th><td style=\"text-align: center\">0/0</td><td style=\"text-align: center\">0/0</td><td style=\"text-align: center\">0/0</td><td style=\"text-align: center\">0/0</td><td style=\"text-align: center\">0/0</td><td style=\"text-align: center\">...</td><td style=\"text-align: center\">0/0</td><td style=\"text-align: center\">0/0</td><td style=\"text-align: center\">0/0</td><td style=\"text-align: center\">0/0</td><td style=\"text-align: center\">0/0</td></tr><tr><th style=\"text-align: center; background-color: white; border-right: 1px solid black; \">...</th><td style=\"text-align: center\" colspan=\"12\">...</td></tr><tr><th style=\"text-align: center; background-color: white; border-right: 1px solid black; \">37199399</th><td style=\"text-align: center\">0/0</td><td style=\"text-align: center\">0/0</td><td style=\"text-align: center\">0/0</td><td style=\"text-align: center\">0/0</td><td style=\"text-align: center\">0/0</td><td style=\"text-align: center\">...</td><td style=\"text-align: center\">0/0</td><td style=\"text-align: center\">0/0</td><td style=\"text-align: center\">0/0</td><td style=\"text-align: center\">0/0</td><td style=\"text-align: center\">0/0</td></tr><tr><th style=\"text-align: center; background-color: white; border-right: 1px solid black; \">37199400</th><td style=\"text-align: center\">0/0</td><td style=\"text-align: center\">0/0</td><td style=\"text-align: center\">0/0</td><td style=\"text-align: center\">0/0</td><td style=\"text-align: center\">0/0</td><td style=\"text-align: center\">...</td><td style=\"text-align: center\">0/0</td><td style=\"text-align: center\">0/0</td><td style=\"text-align: center\">0/0</td><td style=\"text-align: center\">0/0</td><td style=\"text-align: center\">0/0</td></tr><tr><th style=\"text-align: center; background-color: white; border-right: 1px solid black; \">37199401</th><td style=\"text-align: center\">0/0</td><td style=\"text-align: center\">0/0</td><td style=\"text-align: center\">0/0</td><td style=\"text-align: center\">0/0</td><td style=\"text-align: center\">0/0</td><td style=\"text-align: center\">...</td><td style=\"text-align: center\">0/0</td><td style=\"text-align: center\">0/0</td><td style=\"text-align: center\">0/0</td><td style=\"text-align: center\">0/0</td><td style=\"text-align: center\">0/0</td></tr></tbody></table></div>"
      ],
      "text/plain": [
       "<GenotypeDaskArray shape=(37199402, 283, 2) dtype=int8>"
      ]
     },
     "execution_count": 44,
     "metadata": {},
     "output_type": "execute_result"
    }
   ],
   "source": [
    "gt = ag3.load_calldata_array(seq_id=seq_id, field=\"GT\", sample_set=sample_sets, mask=mask)\n",
    "gt"
   ]
  },
  {
   "cell_type": "code",
   "execution_count": null,
   "metadata": {},
   "outputs": [],
   "source": []
  }
 ],
 "metadata": {
  "kernelspec": {
   "display_name": "Python 3",
   "language": "python",
   "name": "python3"
  },
  "language_info": {
   "codemirror_mode": {
    "name": "ipython",
    "version": 3
   },
   "file_extension": ".py",
   "mimetype": "text/x-python",
   "name": "python",
   "nbconvert_exporter": "python",
   "pygments_lexer": "ipython3",
   "version": "3.7.6"
  }
 },
 "nbformat": 4,
 "nbformat_minor": 4
}

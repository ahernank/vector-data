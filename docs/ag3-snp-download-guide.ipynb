{
 "cells": [
  {
   "cell_type": "markdown",
   "metadata": {},
   "source": [
    "# Ag1000G phase 3 SNP data release - data download guide\n",
    "\n",
    "**7 January 2021**\n",
    "\n",
    "This notebook provides information about how to download data from the [MalariaGEN Anopheles gambiae 1000 Genomes project (Ag1000G) phase 3 SNP data release](https://www.malariagen.net/data/ag1000g-phase3-snp). This includes sample metadata, raw sequence reads, sequence read alignments, and single nucleotide polymorphism (SNP) calls.\n",
    "\n",
    "If you have any questions about this guide or how to use the data, please [start a new discussion](https://github.com/malariagen/vector-public-data/discussions/new) on the malariagen/vector-public-data repo on GitHub. If you find any bugs, please [raise an issue](https://github.com/malariagen/vector-public-data/issues/new/choose).\n",
    "\n",
    "## About this guide\n",
    "\n",
    "This guide is written as a Jupyter notebook. Code examples that are intended to be run via a Linux command line are prefixed with an exclamation mark (!). If you are running these commands directly from a terminal, remove the exclamation mark.\n",
    "\n",
    "Examples in this guide assume you are downloading data to a local folder within your home directory at the path `~/vo_agam_release/`. Change this if you want to download to a different folder on the local file system.\n",
    "\n",
    "## Data hosting\n",
    "\n",
    "Data in this release are hosted by several different services. \n",
    "\n",
    "Raw sequence reads in FASTQ format, sequence read alignments in BAM format, and SNP calls in VCF format are hosted by the European Nucleotide Archive (ENA). This guide provides examples of downloading data from ENA via FTP using the `wget` command line tool, but please note that there are several other options for downloading data, see the [ENA documentation on how to download data files](https://ena-docs.readthedocs.io/en/latest/retrieval/file-download.html) for more information.  \n",
    "\n",
    "Sample metadata in CSV format and SNP calls in Zarr format are hosted on Google Cloud Storage (GCS) in the `vo_agam_release` bucket, which is a multi-region bucket located in the United States. All data hosted on GCS are publicly accessible and do not require any authentication to access. This guide provides examples of downloading data from GCS to a local computer using the `gsutil` command line tool. For more information about `gsutil`, see the [gsutil tool documentation](https://cloud.google.com/storage/docs/gsutil)."
   ]
  },
  {
   "cell_type": "markdown",
   "metadata": {},
   "source": [
    "## Sample sets\n",
    "\n",
    "Data in this release are organised into 28 sample sets. Each of these sample sets corresponds to a set of mosquito specimens contributed by a collaborating study. Depending on your objectives, you may want to download data from only specific sample sets, or all sample sets. For convenience there is a tab-delimited manifest file listing all sample sets in the release. Here is a direct download link for the sample set manifest:\n",
    "\n",
    "* https://storage.googleapis.com/vo_agam_release/v3/manifest.tsv\n",
    "\n",
    "The sample set manifest can also be downloaded via `gsutil` to a directory on the local file system, e.g.:"
   ]
  },
  {
   "cell_type": "code",
   "execution_count": 2,
   "metadata": {},
   "outputs": [
    {
     "name": "stdout",
     "output_type": "stream",
     "text": [
      "Copying gs://vo_agam_release/v3/manifest.tsv...\n",
      "/ [1 files][  453.0 B/  453.0 B]                                                \n",
      "Operation completed over 1 objects/453.0 B.                                      \n"
     ]
    }
   ],
   "source": [
    "!mkdir -pv ~/vo_agam_release/v3/\n",
    "!gsutil cp gs://vo_agam_release/v3/manifest.tsv ~/vo_agam_release/v3/"
   ]
  },
  {
   "cell_type": "markdown",
   "metadata": {},
   "source": [
    "Here are the file contents:"
   ]
  },
  {
   "cell_type": "code",
   "execution_count": 3,
   "metadata": {},
   "outputs": [
    {
     "name": "stdout",
     "output_type": "stream",
     "text": [
      "sample_set\tsample_count\n",
      "AG1000G-AO\t81\n",
      "AG1000G-BF-A\t181\n",
      "AG1000G-BF-B\t102\n",
      "AG1000G-BF-C\t13\n",
      "AG1000G-CD\t76\n",
      "AG1000G-CF\t73\n",
      "AG1000G-CI\t80\n",
      "AG1000G-CM-A\t303\n",
      "AG1000G-CM-B\t97\n",
      "AG1000G-CM-C\t44\n",
      "AG1000G-FR\t23\n",
      "AG1000G-GA-A\t69\n",
      "AG1000G-GH\t100\n",
      "AG1000G-GM-A\t74\n",
      "AG1000G-GM-B\t31\n",
      "AG1000G-GM-C\t174\n",
      "AG1000G-GN-A\t45\n",
      "AG1000G-GN-B\t185\n",
      "AG1000G-GQ\t10\n",
      "AG1000G-GW\t101\n",
      "AG1000G-KE\t86\n",
      "AG1000G-ML-A\t60\n",
      "AG1000G-ML-B\t71\n",
      "AG1000G-MW\t41\n",
      "AG1000G-MZ\t74\n",
      "AG1000G-TZ\t300\n",
      "AG1000G-UG\t290\n",
      "AG1000G-X\t297\n"
     ]
    }
   ],
   "source": [
    "!cat ~/vo_agam_release/v3/manifest.tsv"
   ]
  },
  {
   "cell_type": "markdown",
   "metadata": {},
   "source": [
    "The sample set identifiers all start with \"AG1000G-\" followed by the two-letter code of the country from which samples were collected (e.g., \"AO\" is Angola). Where there are multiple sample sets from the same country, these have been given alphabetical suffixes, e.g., \"AG1000G-BF-A\", \"AG1000G-BF-B\" and \"AG1000G-BF-C\" are three sample sets from Burkina Faso.\n",
    "\n",
    "These country code suffixes are just a convenience to help remember which sample sets contain which data, please see the sample metadata for more precise location information. Note also that sample set AG1000G-GN-B contains samples from both Guinea and Mali."
   ]
  },
  {
   "cell_type": "markdown",
   "metadata": {},
   "source": [
    "## Sample metadata\n",
    "\n",
    "Data about the samples that were sequenced to generate this data resource are available, including the time and place of collection, the gender of the specimen, and our call regarding the species of the specimen.\n",
    "\n",
    "### Collection metadata\n",
    "\n",
    "Specimen collection metadata can be downloaded from GCS. E.g., here is the download link for the sample metadata for sample set AG1000G-BF-A:\n",
    "\n",
    "* https://storage.googleapis.com/vo_agam_release/v3/metadata/general/AG1000G-BF-A/samples.meta.csv\n",
    "\n",
    "Sample metadata for all sample sets can also be downloaded using `gsutil`:"
   ]
  },
  {
   "cell_type": "code",
   "execution_count": 5,
   "metadata": {},
   "outputs": [
    {
     "name": "stdout",
     "output_type": "stream",
     "text": [
      "Building synchronization state...\n",
      "Starting synchronization...\n"
     ]
    }
   ],
   "source": [
    "!mkdir -pv ~/vo_agam_release/v3/metadata/\n",
    "!gsutil -m rsync -r gs://vo_agam_release/v3/metadata/ ~/vo_agam_release/v3/metadata/"
   ]
  },
  {
   "cell_type": "markdown",
   "metadata": {},
   "source": [
    "Here are the first few rows of the sample metadata for sample set AG1000G-BF-A:"
   ]
  },
  {
   "cell_type": "code",
   "execution_count": 6,
   "metadata": {},
   "outputs": [
    {
     "name": "stdout",
     "output_type": "stream",
     "text": [
      "sample_id,partner_sample_id,contributor,country,location,year,month,latitude,longitude,sex_call\n",
      "AB0085-Cx,BF2-4,Austin Burt,Burkina Faso,Pala,2012,7,11.150,-4.235,F\n",
      "AB0086-Cx,BF2-6,Austin Burt,Burkina Faso,Pala,2012,7,11.150,-4.235,F\n",
      "AB0087-C,BF3-3,Austin Burt,Burkina Faso,Bana,2012,7,11.233,-4.472,F\n",
      "AB0088-C,BF3-5,Austin Burt,Burkina Faso,Bana,2012,7,11.233,-4.472,F\n",
      "AB0089-Cx,BF3-8,Austin Burt,Burkina Faso,Bana,2012,7,11.233,-4.472,F\n",
      "AB0090-C,BF3-10,Austin Burt,Burkina Faso,Bana,2012,7,11.233,-4.472,F\n",
      "AB0091-C,BF3-12,Austin Burt,Burkina Faso,Bana,2012,7,11.233,-4.472,F\n",
      "AB0092-C,BF3-13,Austin Burt,Burkina Faso,Bana,2012,7,11.233,-4.472,F\n",
      "AB0094-Cx,BF3-17,Austin Burt,Burkina Faso,Bana,2012,7,11.233,-4.472,F\n"
     ]
    }
   ],
   "source": [
    "!head ~/vo_agam_release/v3/metadata/general/AG1000G-BF-A/samples.meta.csv"
   ]
  },
  {
   "cell_type": "markdown",
   "metadata": {},
   "source": [
    "The `sample_id` columns gives the sample identifier used throughout all Ag1000G analyses.\n",
    "\n",
    "The `country`, `location`, `latitude` and `longitude` columns give the location where the specimen was collected.\n",
    "\n",
    "The `year` and `month` columns give the approximate date when the specimen was collected.\n",
    "\n",
    "The `sex_call` column gives the gender as determined from the sequence data."
   ]
  },
  {
   "cell_type": "markdown",
   "metadata": {},
   "source": [
    "### Species calls\n",
    "\n",
    "We have made a call for each specimen as to which species it belongs to (*Anopheles gambiae*, *Anopheles coluzzii*, *Anopheles arabiensis*) based on the genotypes of the samples. These calls were made from the sequence data, and there are cases where the species is not easy to determine. We report species calls using two methods, principal components analysis (PCA) and ancestry informative markers (AIMs). \n",
    "\n",
    "Species calls can be downloaded from GCS, e.g., for sample set AG1000G-BF-A:\n",
    "\n",
    "* PCA species calls - https://storage.googleapis.com/vo_agam_release/v3/metadata/species_calls_20200422/AG1000G-BF-A/samples.species_pca.csv\n",
    "* AIM species calls - https://storage.googleapis.com/vo_agam_release/v3/metadata/species_calls_20200422/AG1000G-BF-A/samples.species_aim.csv\n",
    "\n",
    "Alternatively if you ran the `gsutil rsync` command above to download sample metadata then this file will already be present on your local file system.\n",
    "\n",
    "Here are the first few rows of the AIM species calls for sample set AG1000G-BF-A:"
   ]
  },
  {
   "cell_type": "code",
   "execution_count": 7,
   "metadata": {},
   "outputs": [
    {
     "name": "stdout",
     "output_type": "stream",
     "text": [
      "sample_id,aim_fraction_colu,aim_fraction_arab,species_gambcolu_arabiensis,species_gambiae_coluzzii\n",
      "AB0085-Cx,0.024,0.002,gamb_colu,gambiae\n",
      "AB0086-Cx,0.038,0.002,gamb_colu,gambiae\n",
      "AB0087-C,0.982,0.002,gamb_colu,coluzzii\n",
      "AB0088-C,0.990,0.002,gamb_colu,coluzzii\n",
      "AB0089-Cx,0.975,0.002,gamb_colu,coluzzii\n",
      "AB0090-C,0.977,0.002,gamb_colu,coluzzii\n",
      "AB0091-C,0.974,0.002,gamb_colu,coluzzii\n",
      "AB0092-C,0.978,0.002,gamb_colu,coluzzii\n",
      "AB0094-Cx,0.986,0.002,gamb_colu,coluzzii\n"
     ]
    }
   ],
   "source": [
    "!head ~/vo_agam_release/v3/metadata/species_calls_20200422/AG1000G-BF-A/samples.species_aim.csv"
   ]
  },
  {
   "cell_type": "markdown",
   "metadata": {},
   "source": [
    "The `species_gambcolu_arabiensis` column provides a call as to whether the specimen is arabiensis or not (gamb_colu).\n",
    "\n",
    "The `species_gambiae_coluzzii` column applies to samples that are not arabiensis, and differentiates gambiae versus coluzzii."
   ]
  },
  {
   "cell_type": "markdown",
   "metadata": {},
   "source": [
    "## Raw sequence reads (FASTQ format)\n",
    "\n",
    "The raw sequence reads used in this data release can be downloaded from ENA. Note that for most samples there were multiple sequencing runs, and hence there are usually multiple ENA run accessions per sample. For most samples there were 3 sequencing runs, but some samples have 4 and some have a single sequencing run.\n",
    "\n",
    "To find the ENA run accessions for a given sample, first download the catalog of run accessions:\n",
    "\n",
    "* https://storage.googleapis.com/vo_agam_release/v3/metadata/ena_runs.csv\n",
    "\n",
    "Alternatively if you ran the `gsutil rsync` command above to download sample metadata then this file will already be present on your local file system. Inspect the file:"
   ]
  },
  {
   "cell_type": "code",
   "execution_count": 8,
   "metadata": {},
   "outputs": [
    {
     "name": "stdout",
     "output_type": "stream",
     "text": [
      "sample_id,ena_run\n",
      "AR0001-C,ERR347035\n",
      "AR0001-C,ERR347047\n",
      "AR0001-C,ERR352136\n",
      "AR0002-C,ERR328585\n",
      "AR0002-C,ERR323844\n",
      "AR0002-C,ERR328597\n",
      "AR0004-C,ERR343648\n",
      "AR0004-C,ERR343636\n",
      "AR0004-C,ERR343468\n"
     ]
    }
   ],
   "source": [
    "!head ~/vo_agam_release/v3/metadata/ena_runs.csv"
   ]
  },
  {
   "cell_type": "markdown",
   "metadata": {},
   "source": [
    "For example, the sequence reads for sample AR0001-C are available from three ENA accessions: ERR347035, ERR347047 and ERR352136. To download the sequence reads, visit the ENA website and search for these accessions. E.g., links to download sequence reads for run ERR352136 are available from this web page: https://www.ebi.ac.uk/ena/browser/view/ERR352136. To download the FASTQ files for this run via `wget`:"
   ]
  },
  {
   "cell_type": "code",
   "execution_count": null,
   "metadata": {},
   "outputs": [],
   "source": [
    "!wget ftp://ftp.sra.ebi.ac.uk/vol1/fastq/ERR352/ERR352136/ERR352136_1.fastq.gz\n",
    "!wget ftp://ftp.sra.ebi.ac.uk/vol1/fastq/ERR352/ERR352136/ERR352136_2.fastq.gz"
   ]
  },
  {
   "cell_type": "markdown",
   "metadata": {},
   "source": [
    "Note that FASTQ files are relatively large, several GB per sample, so they may take a long time to download, and may require a substantial amount of disk space on your local system."
   ]
  },
  {
   "cell_type": "markdown",
   "metadata": {},
   "source": [
    "## Sequence read alignments (BAM format)\n",
    "\n",
    "Analysis-ready sequence read alignments are available in BAM format for all samples in the release and can be downloaded from ENA. A catalog file mapping sample identifiers to ENA accessions is available at this link:\n",
    "\n",
    "* https://storage.googleapis.com/vo_agam_release/v3/metadata/ena_alignments.csv\n",
    "\n",
    "Alternatively if you ran the `gsutil rsync` command above to download sample metadata then this file will already be present on your local file system. Here are the first few rows:"
   ]
  },
  {
   "cell_type": "code",
   "execution_count": 9,
   "metadata": {},
   "outputs": [
    {
     "name": "stdout",
     "output_type": "stream",
     "text": [
      "sample_id,ena_analysis\n",
      "AR0001-C,ERZ1695275\n",
      "AR0002-C,ERZ1695276\n",
      "AR0004-C,ERZ1695277\n",
      "AR0006-C,ERZ1695278\n",
      "AR0007-C,ERZ1695279\n",
      "AR0008-C,ERZ1695280\n",
      "AR0009-C,ERZ1695281\n",
      "AR0010-Cx,ERZ1695282\n",
      "AR0011-C,ERZ1695283\n"
     ]
    }
   ],
   "source": [
    "!head ~/vo_agam_release/v3/metadata/ena_alignments.csv"
   ]
  },
  {
   "cell_type": "markdown",
   "metadata": {},
   "source": [
    "Each row in this file provides a mapping from Ag1000G sample identifiers to ENA analysis accessions. To find links for downloading the data, visit the ENA website and search for the corresponding analysis accession. E.g., the analysis-ready BAM file for sample AR0001-C can be downloaded from this web page: https://www.ebi.ac.uk/ena/browser/view/ERZ1695275. To download the BAM file via `wget`:"
   ]
  },
  {
   "cell_type": "code",
   "execution_count": null,
   "metadata": {},
   "outputs": [],
   "source": [
    "!wget ftp://ftp.sra.ebi.ac.uk/vol1/ERZ169/ERZ1695275/AR0001-C.bam"
   ]
  },
  {
   "cell_type": "markdown",
   "metadata": {},
   "source": [
    "Note that BAM files are relatively large, approximately 10G per sample, so they may take a long time to download, and may require a substantial amount of disk space on your local system."
   ]
  },
  {
   "cell_type": "markdown",
   "metadata": {},
   "source": [
    "## SNP calls (VCF format)\n",
    "\n",
    "### SNP genotypes\n",
    "\n",
    "SNP calls in VCF format are available from EVA. There is one VCF file for each individual sample. A catalog file mapping sample identifiers to EVA accessions is available at this link:\n",
    "\n",
    "* https://storage.googleapis.com/vo_agam_release/v3/metadata/eva_snp_genotypes.csv (@@TODO)\n",
    "\n",
    "Alternatively if you ran the `gsutil rsync` command above to download sample metadata then this file will already be present on your local file system. Inspect the file:"
   ]
  },
  {
   "cell_type": "code",
   "execution_count": null,
   "metadata": {},
   "outputs": [],
   "source": [
    "!head ~/vo_agam_release/v3/metadata/ena_snp_genotypes.csv"
   ]
  },
  {
   "cell_type": "markdown",
   "metadata": {},
   "source": [
    "Each row in this file provides a mapping from Ag1000G sample identifiers to EVA analysis accessions. To find links for downloading the data, visit the EVA website and search for the corresponding analysis accession. E.g., the VCF file for sample @@TODO can be downloaded from this web page: @@TODO\n",
    "\n",
    "Note that each sample has been genotyped at all genome positions (except for those where the reference sequence is 'N') and considering all possible SNP alleles. It is possible to combine VCF files for multiple samples if you need to analyse a multi-sample VCF. E.g., here are commands to download VCFs for three samples then merge them into a single multi-sample VCF:"
   ]
  },
  {
   "cell_type": "code",
   "execution_count": null,
   "metadata": {},
   "outputs": [],
   "source": [
    "!@@TODO download and merge VCFs"
   ]
  },
  {
   "cell_type": "markdown",
   "metadata": {},
   "source": [
    "### Site filters\n",
    "\n",
    "SNP calling is not always reliable, and we have created some site filters to allow excluding low quality SNPs. We have created some sites-only VCF files with site filter information in the `FILTER` column. These VCF files are hosted on GCS. \n",
    "\n",
    "Because different species may have different genome accessibility issues, we have created three separate site filters:\n",
    "\n",
    "* The \"gamb_colu\" site filter is designed for working only with samples that are not *An. arabiensis*.\n",
    "* The \"arab\" filter is designed for when only working with samples that are *An. arabiensis*.\n",
    "* The \"gamb_colu_arab\" filter is suitable for when analysing samples of any species together.\n",
    "\n",
    "Each filter is available as a set of VCF files, one per chromosome arm. E.g., here is the direct download link for the gamb_colu_arab filters on chromosome arm 3R:\n",
    "\n",
    "* https://storage.googleapis.com/vo_agam_release/v3/site_filters/dt_20200416/vcf/gamb_colu_arab/3R_sitefilters.vcf.gz\n",
    "\n",
    "Alternatively, all site filters VCFs can be downloaded using `gsutil`, e.g.:"
   ]
  },
  {
   "cell_type": "code",
   "execution_count": null,
   "metadata": {},
   "outputs": [],
   "source": [
    "!mkdir -pv ~/vo_agam_release/v3/site_filters/dt_20200416/vcf/\n",
    "!gsutil -m rsync -r \\\n",
    "    gs://vo_agam_release/v3/site_filters/dt_20200416/vcf/ \\\n",
    "    ~/vo_agam_release/v3/site_filters/dt_20200416/vcf/"
   ]
  },
  {
   "cell_type": "markdown",
   "metadata": {},
   "source": [
    "@@TODO describe how to use site filters VCFs with the genotypes VCF."
   ]
  },
  {
   "cell_type": "markdown",
   "metadata": {},
   "source": [
    "## SNP calls (Zarr format)\n",
    "\n",
    "SNP data are also available in Zarr format, which can be convenient and efficient to use for certain types of analysis. These data can be analysed directly in the cloud without downloading to the local system, see the [cloud user guide @@TODO link](@@TODO) for more information. The data can also be downloaded to your own system for local analysis if that is more convenient. Below are examples of how to download the Zarr data to your local system.\n",
    "\n",
    "The data are organised into several Zarr hierarchies. \n",
    "\n",
    "### SNP sites and alleles\n",
    "\n",
    "Data on the genomic positions (sites) and reference and alternate alleles that were genotyped can be downloaded as follows:"
   ]
  },
  {
   "cell_type": "code",
   "execution_count": 10,
   "metadata": {},
   "outputs": [
    {
     "name": "stdout",
     "output_type": "stream",
     "text": [
      "Building synchronization state...\n",
      "Starting synchronization...\n"
     ]
    }
   ],
   "source": [
    "!mkdir -pv ~/vo_agam_release/v3/snp_genotypes/all/sites/\n",
    "!gsutil -m rsync -r \\\n",
    "    gs://vo_agam_release/v3/snp_genotypes/all/sites/ \\\n",
    "    ~/vo_agam_release/v3/snp_genotypes/all/sites/"
   ]
  },
  {
   "cell_type": "markdown",
   "metadata": {},
   "source": [
    "### Site filters\n",
    "\n",
    "SNP calling is not always reliable, and we have created some site filters to allow excluding low quality SNPs. To download site filters data in Zarr format, excluding some parts of the data that you probably won't need:"
   ]
  },
  {
   "cell_type": "code",
   "execution_count": 12,
   "metadata": {},
   "outputs": [
    {
     "name": "stdout",
     "output_type": "stream",
     "text": [
      "Building synchronization state...\n",
      "Starting synchronization...\n"
     ]
    }
   ],
   "source": [
    "!mkdir -pv ~/vo_agam_release/v3/site_filters/\n",
    "!gsutil -m rsync -r \\\n",
    "    -x '.*vcf.*|.*crosses_stats.*|.*[MG]Q10.*|.*[MG]Q30.*|.*[MG]Q_mean.*|.*[MG]Q_std.*|.*/lo_.*|.*/hi_.*|.*no_cov.*|.*allele_consistency.*|.*heterozygosity.*' \\\n",
    "    gs://vo_agam_release/v3/site_filters/ \\\n",
    "    ~/vo_agam_release/v3/site_filters/"
   ]
  },
  {
   "cell_type": "markdown",
   "metadata": {},
   "source": [
    "### SNP genotypes\n",
    "\n",
    "SNP genotypes are available for each sample set separately. E.g., to download SNP genotypes in Zarr format for sample set AG1000G-BF-A, excluding some data you probably won't need:"
   ]
  },
  {
   "cell_type": "code",
   "execution_count": 13,
   "metadata": {},
   "outputs": [
    {
     "name": "stdout",
     "output_type": "stream",
     "text": [
      "Building synchronization state...\n",
      "Starting synchronization...\n"
     ]
    }
   ],
   "source": [
    "!mkdir -pv ~/vo_agam_release/v3/snp_genotypes/all/AG1000G-BF-A/\n",
    "!gsutil -m rsync -r \\\n",
    "        -x '.*/calldata/(AD|GQ|MQ)/.*' \\\n",
    "        gs://vo_agam_release/v3/snp_genotypes/all/AG1000G-BF-A/ \\\n",
    "        ~/vo_agam_release/v3/snp_genotypes/all/AG1000G-BF-A/"
   ]
  },
  {
   "cell_type": "markdown",
   "metadata": {},
   "source": [
    "## Accessing downloaded data from Python\n",
    "\n",
    "There are a wide variety of tools available for analysing the data from Ag1000G phase 3 once downloaded to your local system. If you would like to ask about possible approaches for a given analysis, please feel free to [start a new discussion](https://github.com/malariagen/vector-public-data/discussions/new) on the malariagen/vector-public-data repo on GitHub. Please note that these data can also be analysed directly in the cloud without downloading to the local system, see the [cloud user guide @@TODO link](@@TODO) for more information.\n",
    "\n",
    "Within the MalariaGEN vector genomics team we primarily use the Python programming language for analysing the SNP data, making use of software packages in the Scientific Python / PyData ecosystem. This section gives some simple examples illustrating how to use these tools to read downloaded data.\n",
    "\n",
    "These examples use data from two sample sets, AG1000G-BF-A and AG1000G-BF-B. \n",
    "\n",
    "Firstly, here are all the commands again to download the data needed to run these examples (requires about 10G of local storage):"
   ]
  },
  {
   "cell_type": "code",
   "execution_count": 14,
   "metadata": {},
   "outputs": [
    {
     "name": "stdout",
     "output_type": "stream",
     "text": [
      "Copying gs://vo_agam_release/v3/manifest.tsv...\n",
      "/ [1 files][  453.0 B/  453.0 B]                                                \n",
      "Operation completed over 1 objects/453.0 B.                                      \n",
      "Building synchronization state...\n",
      "Starting synchronization...\n",
      "Building synchronization state...\n",
      "Starting synchronization...\n",
      "Building synchronization state...\n",
      "Starting synchronization...\n",
      "Building synchronization state...\n",
      "Starting synchronization...\n",
      "Building synchronization state...\n",
      "Starting synchronization...\n"
     ]
    }
   ],
   "source": [
    "# download sample set manifest\n",
    "!mkdir -pv ~/vo_agam_release/v3/\n",
    "!gsutil cp gs://vo_agam_release/v3/manifest.tsv ~/vo_agam_release/v3/\n",
    "\n",
    "# download sample metadata\n",
    "!mkdir -pv ~/vo_agam_release/v3/metadata/\n",
    "!gsutil -m rsync -r gs://vo_agam_release/v3/metadata/ ~/vo_agam_release/v3/metadata/\n",
    "\n",
    "# download sites data\n",
    "!mkdir -pv ~/vo_agam_release/v3/snp_genotypes/all/sites/\n",
    "!gsutil -m rsync -r \\\n",
    "    gs://vo_agam_release/v3/snp_genotypes/all/sites/ \\\n",
    "    ~/vo_agam_release/v3/snp_genotypes/all/sites/\n",
    "\n",
    "# download site filters data\n",
    "!mkdir -pv ~/vo_agam_release/v3/site_filters/\n",
    "!gsutil -m rsync -r \\\n",
    "    -x '.*vcf.*|.*crosses_stats.*|.*[MG]Q10.*|.*[MG]Q30.*|.*[MG]Q_mean.*|.*[MG]Q_std.*|.*/lo_.*|.*/hi_.*|.*no_cov.*|.*allele_consistency.*|.*heterozygosity.*' \\\n",
    "    gs://vo_agam_release/v3/site_filters/ \\\n",
    "    ~/vo_agam_release/v3/site_filters/\n",
    "\n",
    "# download SNP genotype data for all sample sets\n",
    "!mkdir -pv ~/vo_agam_release/v3/snp_genotypes/all/AG1000G-BF-A/\n",
    "!gsutil -m rsync -r \\\n",
    "        -x '.*/calldata/(AD|GQ|MQ)/.*' \\\n",
    "        gs://vo_agam_release/v3/snp_genotypes/all/AG1000G-BF-A/ \\\n",
    "        ~/vo_agam_release/v3/snp_genotypes/all/AG1000G-BF-A/\n",
    "!mkdir -pv ~/vo_agam_release/v3/snp_genotypes/all/AG1000G-BF-B/\n",
    "!gsutil -m rsync -r \\\n",
    "        -x '.*/calldata/(AD|GQ|MQ)/.*' \\\n",
    "        gs://vo_agam_release/v3/snp_genotypes/all/AG1000G-BF-B/ \\\n",
    "        ~/vo_agam_release/v3/snp_genotypes/all/AG1000G-BF-B/\n"
   ]
  },
  {
   "cell_type": "markdown",
   "metadata": {},
   "source": [
    "The following Python packages need to be installed on the local system: numpy, pandas, dask, matplotlib, zarr and scikit-allel.\n",
    "\n",
    "To make accessing these data more convenient, we've also created a `malariagen_data` Python package, which is available from PyPI. This is experimental so please let us know if you find any bugs or have any suggestions. Install the package:"
   ]
  },
  {
   "cell_type": "code",
   "execution_count": null,
   "metadata": {},
   "outputs": [],
   "source": [
    "!pip install --pre malariagen-data"
   ]
  },
  {
   "cell_type": "markdown",
   "metadata": {},
   "source": [
    "Set up access to the Ag1000G phase 3 data, at the local path where data were downloaded:"
   ]
  },
  {
   "cell_type": "code",
   "execution_count": 1,
   "metadata": {},
   "outputs": [],
   "source": [
    "import malariagen_data\n",
    "ag3 = malariagen_data.Ag3(\"~/vo_agam_release/\")"
   ]
  },
  {
   "cell_type": "markdown",
   "metadata": {},
   "source": [
    "Examples of reading/opening various files:"
   ]
  },
  {
   "cell_type": "code",
   "execution_count": 2,
   "metadata": {},
   "outputs": [
    {
     "data": {
      "text/html": [
       "<div>\n",
       "<style scoped>\n",
       "    .dataframe tbody tr th:only-of-type {\n",
       "        vertical-align: middle;\n",
       "    }\n",
       "\n",
       "    .dataframe tbody tr th {\n",
       "        vertical-align: top;\n",
       "    }\n",
       "\n",
       "    .dataframe thead th {\n",
       "        text-align: right;\n",
       "    }\n",
       "</style>\n",
       "<table border=\"1\" class=\"dataframe\">\n",
       "  <thead>\n",
       "    <tr style=\"text-align: right;\">\n",
       "      <th></th>\n",
       "      <th>sample_set</th>\n",
       "      <th>sample_count</th>\n",
       "      <th>release</th>\n",
       "    </tr>\n",
       "  </thead>\n",
       "  <tbody>\n",
       "    <tr>\n",
       "      <th>0</th>\n",
       "      <td>AG1000G-AO</td>\n",
       "      <td>81</td>\n",
       "      <td>v3</td>\n",
       "    </tr>\n",
       "    <tr>\n",
       "      <th>1</th>\n",
       "      <td>AG1000G-BF-A</td>\n",
       "      <td>181</td>\n",
       "      <td>v3</td>\n",
       "    </tr>\n",
       "    <tr>\n",
       "      <th>2</th>\n",
       "      <td>AG1000G-BF-B</td>\n",
       "      <td>102</td>\n",
       "      <td>v3</td>\n",
       "    </tr>\n",
       "    <tr>\n",
       "      <th>3</th>\n",
       "      <td>AG1000G-BF-C</td>\n",
       "      <td>13</td>\n",
       "      <td>v3</td>\n",
       "    </tr>\n",
       "    <tr>\n",
       "      <th>4</th>\n",
       "      <td>AG1000G-CD</td>\n",
       "      <td>76</td>\n",
       "      <td>v3</td>\n",
       "    </tr>\n",
       "    <tr>\n",
       "      <th>5</th>\n",
       "      <td>AG1000G-CF</td>\n",
       "      <td>73</td>\n",
       "      <td>v3</td>\n",
       "    </tr>\n",
       "    <tr>\n",
       "      <th>6</th>\n",
       "      <td>AG1000G-CI</td>\n",
       "      <td>80</td>\n",
       "      <td>v3</td>\n",
       "    </tr>\n",
       "    <tr>\n",
       "      <th>7</th>\n",
       "      <td>AG1000G-CM-A</td>\n",
       "      <td>303</td>\n",
       "      <td>v3</td>\n",
       "    </tr>\n",
       "    <tr>\n",
       "      <th>8</th>\n",
       "      <td>AG1000G-CM-B</td>\n",
       "      <td>97</td>\n",
       "      <td>v3</td>\n",
       "    </tr>\n",
       "    <tr>\n",
       "      <th>9</th>\n",
       "      <td>AG1000G-CM-C</td>\n",
       "      <td>44</td>\n",
       "      <td>v3</td>\n",
       "    </tr>\n",
       "    <tr>\n",
       "      <th>10</th>\n",
       "      <td>AG1000G-FR</td>\n",
       "      <td>23</td>\n",
       "      <td>v3</td>\n",
       "    </tr>\n",
       "    <tr>\n",
       "      <th>11</th>\n",
       "      <td>AG1000G-GA-A</td>\n",
       "      <td>69</td>\n",
       "      <td>v3</td>\n",
       "    </tr>\n",
       "    <tr>\n",
       "      <th>12</th>\n",
       "      <td>AG1000G-GH</td>\n",
       "      <td>100</td>\n",
       "      <td>v3</td>\n",
       "    </tr>\n",
       "    <tr>\n",
       "      <th>13</th>\n",
       "      <td>AG1000G-GM-A</td>\n",
       "      <td>74</td>\n",
       "      <td>v3</td>\n",
       "    </tr>\n",
       "    <tr>\n",
       "      <th>14</th>\n",
       "      <td>AG1000G-GM-B</td>\n",
       "      <td>31</td>\n",
       "      <td>v3</td>\n",
       "    </tr>\n",
       "    <tr>\n",
       "      <th>15</th>\n",
       "      <td>AG1000G-GM-C</td>\n",
       "      <td>174</td>\n",
       "      <td>v3</td>\n",
       "    </tr>\n",
       "    <tr>\n",
       "      <th>16</th>\n",
       "      <td>AG1000G-GN-A</td>\n",
       "      <td>45</td>\n",
       "      <td>v3</td>\n",
       "    </tr>\n",
       "    <tr>\n",
       "      <th>17</th>\n",
       "      <td>AG1000G-GN-B</td>\n",
       "      <td>185</td>\n",
       "      <td>v3</td>\n",
       "    </tr>\n",
       "    <tr>\n",
       "      <th>18</th>\n",
       "      <td>AG1000G-GQ</td>\n",
       "      <td>10</td>\n",
       "      <td>v3</td>\n",
       "    </tr>\n",
       "    <tr>\n",
       "      <th>19</th>\n",
       "      <td>AG1000G-GW</td>\n",
       "      <td>101</td>\n",
       "      <td>v3</td>\n",
       "    </tr>\n",
       "    <tr>\n",
       "      <th>20</th>\n",
       "      <td>AG1000G-KE</td>\n",
       "      <td>86</td>\n",
       "      <td>v3</td>\n",
       "    </tr>\n",
       "    <tr>\n",
       "      <th>21</th>\n",
       "      <td>AG1000G-ML-A</td>\n",
       "      <td>60</td>\n",
       "      <td>v3</td>\n",
       "    </tr>\n",
       "    <tr>\n",
       "      <th>22</th>\n",
       "      <td>AG1000G-ML-B</td>\n",
       "      <td>71</td>\n",
       "      <td>v3</td>\n",
       "    </tr>\n",
       "    <tr>\n",
       "      <th>23</th>\n",
       "      <td>AG1000G-MW</td>\n",
       "      <td>41</td>\n",
       "      <td>v3</td>\n",
       "    </tr>\n",
       "    <tr>\n",
       "      <th>24</th>\n",
       "      <td>AG1000G-MZ</td>\n",
       "      <td>74</td>\n",
       "      <td>v3</td>\n",
       "    </tr>\n",
       "    <tr>\n",
       "      <th>25</th>\n",
       "      <td>AG1000G-TZ</td>\n",
       "      <td>300</td>\n",
       "      <td>v3</td>\n",
       "    </tr>\n",
       "    <tr>\n",
       "      <th>26</th>\n",
       "      <td>AG1000G-UG</td>\n",
       "      <td>290</td>\n",
       "      <td>v3</td>\n",
       "    </tr>\n",
       "    <tr>\n",
       "      <th>27</th>\n",
       "      <td>AG1000G-X</td>\n",
       "      <td>297</td>\n",
       "      <td>v3</td>\n",
       "    </tr>\n",
       "  </tbody>\n",
       "</table>\n",
       "</div>"
      ],
      "text/plain": [
       "      sample_set  sample_count release\n",
       "0     AG1000G-AO            81      v3\n",
       "1   AG1000G-BF-A           181      v3\n",
       "2   AG1000G-BF-B           102      v3\n",
       "3   AG1000G-BF-C            13      v3\n",
       "4     AG1000G-CD            76      v3\n",
       "5     AG1000G-CF            73      v3\n",
       "6     AG1000G-CI            80      v3\n",
       "7   AG1000G-CM-A           303      v3\n",
       "8   AG1000G-CM-B            97      v3\n",
       "9   AG1000G-CM-C            44      v3\n",
       "10    AG1000G-FR            23      v3\n",
       "11  AG1000G-GA-A            69      v3\n",
       "12    AG1000G-GH           100      v3\n",
       "13  AG1000G-GM-A            74      v3\n",
       "14  AG1000G-GM-B            31      v3\n",
       "15  AG1000G-GM-C           174      v3\n",
       "16  AG1000G-GN-A            45      v3\n",
       "17  AG1000G-GN-B           185      v3\n",
       "18    AG1000G-GQ            10      v3\n",
       "19    AG1000G-GW           101      v3\n",
       "20    AG1000G-KE            86      v3\n",
       "21  AG1000G-ML-A            60      v3\n",
       "22  AG1000G-ML-B            71      v3\n",
       "23    AG1000G-MW            41      v3\n",
       "24    AG1000G-MZ            74      v3\n",
       "25    AG1000G-TZ           300      v3\n",
       "26    AG1000G-UG           290      v3\n",
       "27     AG1000G-X           297      v3"
      ]
     },
     "execution_count": 2,
     "metadata": {},
     "output_type": "execute_result"
    }
   ],
   "source": [
    "# read sample set manifest into a pandas dataframe\n",
    "df_sample_sets = ag3.sample_sets()\n",
    "df_sample_sets"
   ]
  },
  {
   "cell_type": "code",
   "execution_count": 3,
   "metadata": {},
   "outputs": [
    {
     "data": {
      "text/html": [
       "<div>\n",
       "<style scoped>\n",
       "    .dataframe tbody tr th:only-of-type {\n",
       "        vertical-align: middle;\n",
       "    }\n",
       "\n",
       "    .dataframe tbody tr th {\n",
       "        vertical-align: top;\n",
       "    }\n",
       "\n",
       "    .dataframe thead th {\n",
       "        text-align: right;\n",
       "    }\n",
       "</style>\n",
       "<table border=\"1\" class=\"dataframe\">\n",
       "  <thead>\n",
       "    <tr style=\"text-align: right;\">\n",
       "      <th></th>\n",
       "      <th>sample_id</th>\n",
       "      <th>partner_sample_id</th>\n",
       "      <th>contributor</th>\n",
       "      <th>country</th>\n",
       "      <th>location</th>\n",
       "      <th>year</th>\n",
       "      <th>month</th>\n",
       "      <th>latitude</th>\n",
       "      <th>longitude</th>\n",
       "      <th>sex_call</th>\n",
       "      <th>sample_set</th>\n",
       "      <th>release</th>\n",
       "      <th>aim_fraction_colu</th>\n",
       "      <th>aim_fraction_arab</th>\n",
       "      <th>species_gambcolu_arabiensis</th>\n",
       "      <th>species_gambiae_coluzzii</th>\n",
       "      <th>species</th>\n",
       "    </tr>\n",
       "  </thead>\n",
       "  <tbody>\n",
       "    <tr>\n",
       "      <th>0</th>\n",
       "      <td>AB0085-Cx</td>\n",
       "      <td>BF2-4</td>\n",
       "      <td>Austin Burt</td>\n",
       "      <td>Burkina Faso</td>\n",
       "      <td>Pala</td>\n",
       "      <td>2012</td>\n",
       "      <td>7</td>\n",
       "      <td>11.150</td>\n",
       "      <td>-4.235</td>\n",
       "      <td>F</td>\n",
       "      <td>AG1000G-BF-A</td>\n",
       "      <td>v3</td>\n",
       "      <td>0.024</td>\n",
       "      <td>0.002</td>\n",
       "      <td>gamb_colu</td>\n",
       "      <td>gambiae</td>\n",
       "      <td>gambiae</td>\n",
       "    </tr>\n",
       "    <tr>\n",
       "      <th>1</th>\n",
       "      <td>AB0086-Cx</td>\n",
       "      <td>BF2-6</td>\n",
       "      <td>Austin Burt</td>\n",
       "      <td>Burkina Faso</td>\n",
       "      <td>Pala</td>\n",
       "      <td>2012</td>\n",
       "      <td>7</td>\n",
       "      <td>11.150</td>\n",
       "      <td>-4.235</td>\n",
       "      <td>F</td>\n",
       "      <td>AG1000G-BF-A</td>\n",
       "      <td>v3</td>\n",
       "      <td>0.038</td>\n",
       "      <td>0.002</td>\n",
       "      <td>gamb_colu</td>\n",
       "      <td>gambiae</td>\n",
       "      <td>gambiae</td>\n",
       "    </tr>\n",
       "    <tr>\n",
       "      <th>2</th>\n",
       "      <td>AB0087-C</td>\n",
       "      <td>BF3-3</td>\n",
       "      <td>Austin Burt</td>\n",
       "      <td>Burkina Faso</td>\n",
       "      <td>Bana</td>\n",
       "      <td>2012</td>\n",
       "      <td>7</td>\n",
       "      <td>11.233</td>\n",
       "      <td>-4.472</td>\n",
       "      <td>F</td>\n",
       "      <td>AG1000G-BF-A</td>\n",
       "      <td>v3</td>\n",
       "      <td>0.982</td>\n",
       "      <td>0.002</td>\n",
       "      <td>gamb_colu</td>\n",
       "      <td>coluzzii</td>\n",
       "      <td>coluzzii</td>\n",
       "    </tr>\n",
       "    <tr>\n",
       "      <th>3</th>\n",
       "      <td>AB0088-C</td>\n",
       "      <td>BF3-5</td>\n",
       "      <td>Austin Burt</td>\n",
       "      <td>Burkina Faso</td>\n",
       "      <td>Bana</td>\n",
       "      <td>2012</td>\n",
       "      <td>7</td>\n",
       "      <td>11.233</td>\n",
       "      <td>-4.472</td>\n",
       "      <td>F</td>\n",
       "      <td>AG1000G-BF-A</td>\n",
       "      <td>v3</td>\n",
       "      <td>0.990</td>\n",
       "      <td>0.002</td>\n",
       "      <td>gamb_colu</td>\n",
       "      <td>coluzzii</td>\n",
       "      <td>coluzzii</td>\n",
       "    </tr>\n",
       "    <tr>\n",
       "      <th>4</th>\n",
       "      <td>AB0089-Cx</td>\n",
       "      <td>BF3-8</td>\n",
       "      <td>Austin Burt</td>\n",
       "      <td>Burkina Faso</td>\n",
       "      <td>Bana</td>\n",
       "      <td>2012</td>\n",
       "      <td>7</td>\n",
       "      <td>11.233</td>\n",
       "      <td>-4.472</td>\n",
       "      <td>F</td>\n",
       "      <td>AG1000G-BF-A</td>\n",
       "      <td>v3</td>\n",
       "      <td>0.975</td>\n",
       "      <td>0.002</td>\n",
       "      <td>gamb_colu</td>\n",
       "      <td>coluzzii</td>\n",
       "      <td>coluzzii</td>\n",
       "    </tr>\n",
       "    <tr>\n",
       "      <th>...</th>\n",
       "      <td>...</td>\n",
       "      <td>...</td>\n",
       "      <td>...</td>\n",
       "      <td>...</td>\n",
       "      <td>...</td>\n",
       "      <td>...</td>\n",
       "      <td>...</td>\n",
       "      <td>...</td>\n",
       "      <td>...</td>\n",
       "      <td>...</td>\n",
       "      <td>...</td>\n",
       "      <td>...</td>\n",
       "      <td>...</td>\n",
       "      <td>...</td>\n",
       "      <td>...</td>\n",
       "      <td>...</td>\n",
       "      <td>...</td>\n",
       "    </tr>\n",
       "    <tr>\n",
       "      <th>278</th>\n",
       "      <td>AB0533-C</td>\n",
       "      <td>BF13-18</td>\n",
       "      <td>Austin Burt</td>\n",
       "      <td>Burkina Faso</td>\n",
       "      <td>Souroukoudinga</td>\n",
       "      <td>2014</td>\n",
       "      <td>7</td>\n",
       "      <td>11.235</td>\n",
       "      <td>-4.535</td>\n",
       "      <td>F</td>\n",
       "      <td>AG1000G-BF-B</td>\n",
       "      <td>v3</td>\n",
       "      <td>0.021</td>\n",
       "      <td>0.002</td>\n",
       "      <td>gamb_colu</td>\n",
       "      <td>gambiae</td>\n",
       "      <td>gambiae</td>\n",
       "    </tr>\n",
       "    <tr>\n",
       "      <th>279</th>\n",
       "      <td>AB0536-C</td>\n",
       "      <td>BF13-31</td>\n",
       "      <td>Austin Burt</td>\n",
       "      <td>Burkina Faso</td>\n",
       "      <td>Souroukoudinga</td>\n",
       "      <td>2014</td>\n",
       "      <td>7</td>\n",
       "      <td>11.235</td>\n",
       "      <td>-4.535</td>\n",
       "      <td>F</td>\n",
       "      <td>AG1000G-BF-B</td>\n",
       "      <td>v3</td>\n",
       "      <td>0.025</td>\n",
       "      <td>0.002</td>\n",
       "      <td>gamb_colu</td>\n",
       "      <td>gambiae</td>\n",
       "      <td>gambiae</td>\n",
       "    </tr>\n",
       "    <tr>\n",
       "      <th>280</th>\n",
       "      <td>AB0537-C</td>\n",
       "      <td>BF13-32</td>\n",
       "      <td>Austin Burt</td>\n",
       "      <td>Burkina Faso</td>\n",
       "      <td>Souroukoudinga</td>\n",
       "      <td>2014</td>\n",
       "      <td>7</td>\n",
       "      <td>11.235</td>\n",
       "      <td>-4.535</td>\n",
       "      <td>F</td>\n",
       "      <td>AG1000G-BF-B</td>\n",
       "      <td>v3</td>\n",
       "      <td>0.029</td>\n",
       "      <td>0.002</td>\n",
       "      <td>gamb_colu</td>\n",
       "      <td>gambiae</td>\n",
       "      <td>gambiae</td>\n",
       "    </tr>\n",
       "    <tr>\n",
       "      <th>281</th>\n",
       "      <td>AB0538-C</td>\n",
       "      <td>BF13-33</td>\n",
       "      <td>Austin Burt</td>\n",
       "      <td>Burkina Faso</td>\n",
       "      <td>Souroukoudinga</td>\n",
       "      <td>2014</td>\n",
       "      <td>7</td>\n",
       "      <td>11.235</td>\n",
       "      <td>-4.535</td>\n",
       "      <td>F</td>\n",
       "      <td>AG1000G-BF-B</td>\n",
       "      <td>v3</td>\n",
       "      <td>0.018</td>\n",
       "      <td>0.002</td>\n",
       "      <td>gamb_colu</td>\n",
       "      <td>gambiae</td>\n",
       "      <td>gambiae</td>\n",
       "    </tr>\n",
       "    <tr>\n",
       "      <th>282</th>\n",
       "      <td>AB0408-C</td>\n",
       "      <td>BF14-20</td>\n",
       "      <td>Austin Burt</td>\n",
       "      <td>Burkina Faso</td>\n",
       "      <td>Bana</td>\n",
       "      <td>2014</td>\n",
       "      <td>7</td>\n",
       "      <td>11.233</td>\n",
       "      <td>-4.472</td>\n",
       "      <td>F</td>\n",
       "      <td>AG1000G-BF-B</td>\n",
       "      <td>v3</td>\n",
       "      <td>0.986</td>\n",
       "      <td>0.002</td>\n",
       "      <td>gamb_colu</td>\n",
       "      <td>coluzzii</td>\n",
       "      <td>coluzzii</td>\n",
       "    </tr>\n",
       "  </tbody>\n",
       "</table>\n",
       "<p>283 rows × 17 columns</p>\n",
       "</div>"
      ],
      "text/plain": [
       "     sample_id partner_sample_id  contributor       country        location  \\\n",
       "0    AB0085-Cx             BF2-4  Austin Burt  Burkina Faso            Pala   \n",
       "1    AB0086-Cx             BF2-6  Austin Burt  Burkina Faso            Pala   \n",
       "2     AB0087-C             BF3-3  Austin Burt  Burkina Faso            Bana   \n",
       "3     AB0088-C             BF3-5  Austin Burt  Burkina Faso            Bana   \n",
       "4    AB0089-Cx             BF3-8  Austin Burt  Burkina Faso            Bana   \n",
       "..         ...               ...          ...           ...             ...   \n",
       "278   AB0533-C           BF13-18  Austin Burt  Burkina Faso  Souroukoudinga   \n",
       "279   AB0536-C           BF13-31  Austin Burt  Burkina Faso  Souroukoudinga   \n",
       "280   AB0537-C           BF13-32  Austin Burt  Burkina Faso  Souroukoudinga   \n",
       "281   AB0538-C           BF13-33  Austin Burt  Burkina Faso  Souroukoudinga   \n",
       "282   AB0408-C           BF14-20  Austin Burt  Burkina Faso            Bana   \n",
       "\n",
       "     year  month  latitude  longitude sex_call    sample_set release  \\\n",
       "0    2012      7    11.150     -4.235        F  AG1000G-BF-A      v3   \n",
       "1    2012      7    11.150     -4.235        F  AG1000G-BF-A      v3   \n",
       "2    2012      7    11.233     -4.472        F  AG1000G-BF-A      v3   \n",
       "3    2012      7    11.233     -4.472        F  AG1000G-BF-A      v3   \n",
       "4    2012      7    11.233     -4.472        F  AG1000G-BF-A      v3   \n",
       "..    ...    ...       ...        ...      ...           ...     ...   \n",
       "278  2014      7    11.235     -4.535        F  AG1000G-BF-B      v3   \n",
       "279  2014      7    11.235     -4.535        F  AG1000G-BF-B      v3   \n",
       "280  2014      7    11.235     -4.535        F  AG1000G-BF-B      v3   \n",
       "281  2014      7    11.235     -4.535        F  AG1000G-BF-B      v3   \n",
       "282  2014      7    11.233     -4.472        F  AG1000G-BF-B      v3   \n",
       "\n",
       "     aim_fraction_colu  aim_fraction_arab species_gambcolu_arabiensis  \\\n",
       "0                0.024              0.002                   gamb_colu   \n",
       "1                0.038              0.002                   gamb_colu   \n",
       "2                0.982              0.002                   gamb_colu   \n",
       "3                0.990              0.002                   gamb_colu   \n",
       "4                0.975              0.002                   gamb_colu   \n",
       "..                 ...                ...                         ...   \n",
       "278              0.021              0.002                   gamb_colu   \n",
       "279              0.025              0.002                   gamb_colu   \n",
       "280              0.029              0.002                   gamb_colu   \n",
       "281              0.018              0.002                   gamb_colu   \n",
       "282              0.986              0.002                   gamb_colu   \n",
       "\n",
       "    species_gambiae_coluzzii   species  \n",
       "0                    gambiae   gambiae  \n",
       "1                    gambiae   gambiae  \n",
       "2                   coluzzii  coluzzii  \n",
       "3                   coluzzii  coluzzii  \n",
       "4                   coluzzii  coluzzii  \n",
       "..                       ...       ...  \n",
       "278                  gambiae   gambiae  \n",
       "279                  gambiae   gambiae  \n",
       "280                  gambiae   gambiae  \n",
       "281                  gambiae   gambiae  \n",
       "282                 coluzzii  coluzzii  \n",
       "\n",
       "[283 rows x 17 columns]"
      ]
     },
     "execution_count": 3,
     "metadata": {},
     "output_type": "execute_result"
    }
   ],
   "source": [
    "# read sample metadata for AG1000G-BF-A and AG1000G-BF-B into a pandas dataframe\n",
    "df_samples = ag3.sample_metadata(cohort=['AG1000G-BF-A', 'AG1000G-BF-B'])\n",
    "df_samples"
   ]
  },
  {
   "cell_type": "code",
   "execution_count": 4,
   "metadata": {},
   "outputs": [
    {
     "data": {
      "text/plain": [
       "sample_set    country       location        year  species                      \n",
       "AG1000G-BF-A  Burkina Faso  Bana            2012  coluzzii                         42\n",
       "                                                  gambiae                          22\n",
       "                                                  intermediate_gambiae_coluzzii     1\n",
       "                            Pala            2012  coluzzii                         11\n",
       "                                                  gambiae                          48\n",
       "                            Souroukoudinga  2012  coluzzii                         29\n",
       "                                                  gambiae                          28\n",
       "AG1000G-BF-B  Burkina Faso  Bana            2014  arabiensis                        1\n",
       "                                                  coluzzii                         47\n",
       "                                                  gambiae                          15\n",
       "                            Pala            2014  arabiensis                        2\n",
       "                                                  gambiae                          16\n",
       "                            Souroukoudinga  2014  coluzzii                          6\n",
       "                                                  gambiae                          15\n",
       "dtype: int64"
      ]
     },
     "execution_count": 4,
     "metadata": {},
     "output_type": "execute_result"
    }
   ],
   "source": [
    "# inspect number of samples by collection location, year and species\n",
    "df_samples.groupby([\"sample_set\", \"country\", \"location\", \"year\", \"species\"]).size()"
   ]
  },
  {
   "cell_type": "code",
   "execution_count": 11,
   "metadata": {},
   "outputs": [
    {
     "data": {
      "text/html": [
       "<table>\n",
       "<tr>\n",
       "<td>\n",
       "<table>\n",
       "  <thead>\n",
       "    <tr><td> </td><th> Array </th><th> Chunk </th></tr>\n",
       "  </thead>\n",
       "  <tbody>\n",
       "    <tr><th> Bytes </th><td> 208.91 MB </td> <td> 134.22 MB </td></tr>\n",
       "    <tr><th> Shape </th><td> (52226568,) </td> <td> (33554432,) </td></tr>\n",
       "    <tr><th> Count </th><td> 3 Tasks </td><td> 2 Chunks </td></tr>\n",
       "    <tr><th> Type </th><td> int32 </td><td> numpy.ndarray </td></tr>\n",
       "  </tbody>\n",
       "</table>\n",
       "</td>\n",
       "<td>\n",
       "<svg width=\"170\" height=\"75\" style=\"stroke:rgb(0,0,0);stroke-width:1\" >\n",
       "\n",
       "  <!-- Horizontal lines -->\n",
       "  <line x1=\"0\" y1=\"0\" x2=\"120\" y2=\"0\" style=\"stroke-width:2\" />\n",
       "  <line x1=\"0\" y1=\"25\" x2=\"120\" y2=\"25\" style=\"stroke-width:2\" />\n",
       "\n",
       "  <!-- Vertical lines -->\n",
       "  <line x1=\"0\" y1=\"0\" x2=\"0\" y2=\"25\" style=\"stroke-width:2\" />\n",
       "  <line x1=\"77\" y1=\"0\" x2=\"77\" y2=\"25\" />\n",
       "  <line x1=\"120\" y1=\"0\" x2=\"120\" y2=\"25\" style=\"stroke-width:2\" />\n",
       "\n",
       "  <!-- Colored Rectangle -->\n",
       "  <polygon points=\"0.000000,0.000000 120.000000,0.000000 120.000000,25.412617 0.000000,25.412617\" style=\"fill:#ECB172A0;stroke-width:0\"/>\n",
       "\n",
       "  <!-- Text -->\n",
       "  <text x=\"60.000000\" y=\"45.412617\" font-size=\"1.0rem\" font-weight=\"100\" text-anchor=\"middle\" >52226568</text>\n",
       "  <text x=\"140.000000\" y=\"12.706308\" font-size=\"1.0rem\" font-weight=\"100\" text-anchor=\"middle\" transform=\"rotate(0,140.000000,12.706308)\">1</text>\n",
       "</svg>\n",
       "</td>\n",
       "</tr>\n",
       "</table>"
      ],
      "text/plain": [
       "dask.array<array, shape=(52226568,), dtype=int32, chunksize=(33554432,), chunktype=numpy.ndarray>"
      ]
     },
     "execution_count": 11,
     "metadata": {},
     "output_type": "execute_result"
    }
   ],
   "source": [
    "# access SNP positions and alleles for chromosome arm 3R as dask arrays\n",
    "pos, ref, alt = ag3.snp_sites(\"3R\")\n",
    "pos"
   ]
  },
  {
   "cell_type": "code",
   "execution_count": 6,
   "metadata": {},
   "outputs": [
    {
     "data": {
      "text/html": [
       "<table>\n",
       "<tr>\n",
       "<td>\n",
       "<table>\n",
       "  <thead>\n",
       "    <tr><td> </td><th> Array </th><th> Chunk </th></tr>\n",
       "  </thead>\n",
       "  <tbody>\n",
       "    <tr><th> Bytes </th><td> 52.23 MB </td> <td> 52.23 MB </td></tr>\n",
       "    <tr><th> Shape </th><td> (52226568,) </td> <td> (52226568,) </td></tr>\n",
       "    <tr><th> Count </th><td> 2 Tasks </td><td> 1 Chunks </td></tr>\n",
       "    <tr><th> Type </th><td> |S1 </td><td> numpy.ndarray </td></tr>\n",
       "  </tbody>\n",
       "</table>\n",
       "</td>\n",
       "<td>\n",
       "<svg width=\"170\" height=\"75\" style=\"stroke:rgb(0,0,0);stroke-width:1\" >\n",
       "\n",
       "  <!-- Horizontal lines -->\n",
       "  <line x1=\"0\" y1=\"0\" x2=\"120\" y2=\"0\" style=\"stroke-width:2\" />\n",
       "  <line x1=\"0\" y1=\"25\" x2=\"120\" y2=\"25\" style=\"stroke-width:2\" />\n",
       "\n",
       "  <!-- Vertical lines -->\n",
       "  <line x1=\"0\" y1=\"0\" x2=\"0\" y2=\"25\" style=\"stroke-width:2\" />\n",
       "  <line x1=\"120\" y1=\"0\" x2=\"120\" y2=\"25\" style=\"stroke-width:2\" />\n",
       "\n",
       "  <!-- Colored Rectangle -->\n",
       "  <polygon points=\"0.000000,0.000000 120.000000,0.000000 120.000000,25.412617 0.000000,25.412617\" style=\"fill:#ECB172A0;stroke-width:0\"/>\n",
       "\n",
       "  <!-- Text -->\n",
       "  <text x=\"60.000000\" y=\"45.412617\" font-size=\"1.0rem\" font-weight=\"100\" text-anchor=\"middle\" >52226568</text>\n",
       "  <text x=\"140.000000\" y=\"12.706308\" font-size=\"1.0rem\" font-weight=\"100\" text-anchor=\"middle\" transform=\"rotate(0,140.000000,12.706308)\">1</text>\n",
       "</svg>\n",
       "</td>\n",
       "</tr>\n",
       "</table>"
      ],
      "text/plain": [
       "dask.array<array, shape=(52226568,), dtype=|S1, chunksize=(52226568,), chunktype=numpy.ndarray>"
      ]
     },
     "execution_count": 6,
     "metadata": {},
     "output_type": "execute_result"
    }
   ],
   "source": [
    "ref"
   ]
  },
  {
   "cell_type": "code",
   "execution_count": 7,
   "metadata": {},
   "outputs": [
    {
     "data": {
      "text/html": [
       "<table>\n",
       "<tr>\n",
       "<td>\n",
       "<table>\n",
       "  <thead>\n",
       "    <tr><td> </td><th> Array </th><th> Chunk </th></tr>\n",
       "  </thead>\n",
       "  <tbody>\n",
       "    <tr><th> Bytes </th><td> 156.68 MB </td> <td> 133.69 MB </td></tr>\n",
       "    <tr><th> Shape </th><td> (52226568, 3) </td> <td> (44564480, 3) </td></tr>\n",
       "    <tr><th> Count </th><td> 3 Tasks </td><td> 2 Chunks </td></tr>\n",
       "    <tr><th> Type </th><td> |S1 </td><td> numpy.ndarray </td></tr>\n",
       "  </tbody>\n",
       "</table>\n",
       "</td>\n",
       "<td>\n",
       "<svg width=\"75\" height=\"170\" style=\"stroke:rgb(0,0,0);stroke-width:1\" >\n",
       "\n",
       "  <!-- Horizontal lines -->\n",
       "  <line x1=\"0\" y1=\"0\" x2=\"25\" y2=\"0\" style=\"stroke-width:2\" />\n",
       "  <line x1=\"0\" y1=\"102\" x2=\"25\" y2=\"102\" />\n",
       "  <line x1=\"0\" y1=\"120\" x2=\"25\" y2=\"120\" style=\"stroke-width:2\" />\n",
       "\n",
       "  <!-- Vertical lines -->\n",
       "  <line x1=\"0\" y1=\"0\" x2=\"0\" y2=\"120\" style=\"stroke-width:2\" />\n",
       "  <line x1=\"25\" y1=\"0\" x2=\"25\" y2=\"120\" style=\"stroke-width:2\" />\n",
       "\n",
       "  <!-- Colored Rectangle -->\n",
       "  <polygon points=\"0.000000,0.000000 25.412617,0.000000 25.412617,120.000000 0.000000,120.000000\" style=\"fill:#ECB172A0;stroke-width:0\"/>\n",
       "\n",
       "  <!-- Text -->\n",
       "  <text x=\"12.706308\" y=\"140.000000\" font-size=\"1.0rem\" font-weight=\"100\" text-anchor=\"middle\" >3</text>\n",
       "  <text x=\"45.412617\" y=\"60.000000\" font-size=\"1.0rem\" font-weight=\"100\" text-anchor=\"middle\" transform=\"rotate(-90,45.412617,60.000000)\">52226568</text>\n",
       "</svg>\n",
       "</td>\n",
       "</tr>\n",
       "</table>"
      ],
      "text/plain": [
       "dask.array<array, shape=(52226568, 3), dtype=|S1, chunksize=(44564480, 3), chunktype=numpy.ndarray>"
      ]
     },
     "execution_count": 7,
     "metadata": {},
     "output_type": "execute_result"
    }
   ],
   "source": [
    "alt"
   ]
  },
  {
   "cell_type": "code",
   "execution_count": 8,
   "metadata": {},
   "outputs": [
    {
     "data": {
      "text/plain": [
       "array([ 1,  2,  3,  4,  5,  6,  7,  8,  9, 10], dtype=int32)"
      ]
     },
     "execution_count": 8,
     "metadata": {},
     "output_type": "execute_result"
    }
   ],
   "source": [
    "# read first 10 SNP positions into a numpy array\n",
    "p = pos[:10].compute()\n",
    "p"
   ]
  },
  {
   "cell_type": "code",
   "execution_count": 9,
   "metadata": {},
   "outputs": [
    {
     "data": {
      "text/plain": [
       "array([b'C', b'C', b'T', b'C', b'T', b'A', b'C', b'G', b'T', b'T'],\n",
       "      dtype='|S1')"
      ]
     },
     "execution_count": 9,
     "metadata": {},
     "output_type": "execute_result"
    }
   ],
   "source": [
    "# read first 10 SNP reference alleles\n",
    "r = ref[:10].compute()\n",
    "r"
   ]
  },
  {
   "cell_type": "code",
   "execution_count": 10,
   "metadata": {},
   "outputs": [
    {
     "data": {
      "text/plain": [
       "array([[b'A', b'T', b'G'],\n",
       "       [b'A', b'T', b'G'],\n",
       "       [b'A', b'C', b'G'],\n",
       "       [b'A', b'T', b'G'],\n",
       "       [b'A', b'C', b'G'],\n",
       "       [b'C', b'T', b'G'],\n",
       "       [b'A', b'T', b'G'],\n",
       "       [b'A', b'C', b'T'],\n",
       "       [b'A', b'C', b'G'],\n",
       "       [b'A', b'C', b'G']], dtype='|S1')"
      ]
     },
     "execution_count": 10,
     "metadata": {},
     "output_type": "execute_result"
    }
   ],
   "source": [
    "# read first 10 SNP alternate alleles\n",
    "a = alt[:10].compute()\n",
    "a"
   ]
  },
  {
   "cell_type": "code",
   "execution_count": 12,
   "metadata": {},
   "outputs": [
    {
     "data": {
      "text/html": [
       "<table>\n",
       "<tr>\n",
       "<td>\n",
       "<table>\n",
       "  <thead>\n",
       "    <tr><td> </td><th> Array </th><th> Chunk </th></tr>\n",
       "  </thead>\n",
       "  <tbody>\n",
       "    <tr><th> Bytes </th><td> 52.23 MB </td> <td> 52.23 MB </td></tr>\n",
       "    <tr><th> Shape </th><td> (52226568,) </td> <td> (52226568,) </td></tr>\n",
       "    <tr><th> Count </th><td> 2 Tasks </td><td> 1 Chunks </td></tr>\n",
       "    <tr><th> Type </th><td> bool </td><td> numpy.ndarray </td></tr>\n",
       "  </tbody>\n",
       "</table>\n",
       "</td>\n",
       "<td>\n",
       "<svg width=\"170\" height=\"75\" style=\"stroke:rgb(0,0,0);stroke-width:1\" >\n",
       "\n",
       "  <!-- Horizontal lines -->\n",
       "  <line x1=\"0\" y1=\"0\" x2=\"120\" y2=\"0\" style=\"stroke-width:2\" />\n",
       "  <line x1=\"0\" y1=\"25\" x2=\"120\" y2=\"25\" style=\"stroke-width:2\" />\n",
       "\n",
       "  <!-- Vertical lines -->\n",
       "  <line x1=\"0\" y1=\"0\" x2=\"0\" y2=\"25\" style=\"stroke-width:2\" />\n",
       "  <line x1=\"120\" y1=\"0\" x2=\"120\" y2=\"25\" style=\"stroke-width:2\" />\n",
       "\n",
       "  <!-- Colored Rectangle -->\n",
       "  <polygon points=\"0.000000,0.000000 120.000000,0.000000 120.000000,25.412617 0.000000,25.412617\" style=\"fill:#ECB172A0;stroke-width:0\"/>\n",
       "\n",
       "  <!-- Text -->\n",
       "  <text x=\"60.000000\" y=\"45.412617\" font-size=\"1.0rem\" font-weight=\"100\" text-anchor=\"middle\" >52226568</text>\n",
       "  <text x=\"140.000000\" y=\"12.706308\" font-size=\"1.0rem\" font-weight=\"100\" text-anchor=\"middle\" transform=\"rotate(0,140.000000,12.706308)\">1</text>\n",
       "</svg>\n",
       "</td>\n",
       "</tr>\n",
       "</table>"
      ],
      "text/plain": [
       "dask.array<array, shape=(52226568,), dtype=bool, chunksize=(52226568,), chunktype=numpy.ndarray>"
      ]
     },
     "execution_count": 12,
     "metadata": {},
     "output_type": "execute_result"
    }
   ],
   "source": [
    "# access gamb_colu_arab site filters for chromosome arm 3R as a dask array\n",
    "filter_pass = ag3.site_filters(\"3R\", mask=\"gamb_colu_arab\")\n",
    "filter_pass"
   ]
  },
  {
   "cell_type": "code",
   "execution_count": 14,
   "metadata": {},
   "outputs": [
    {
     "data": {
      "text/plain": [
       "array([False, False, False, False, False, False, False, False, False,\n",
       "       False])"
      ]
     },
     "execution_count": 14,
     "metadata": {},
     "output_type": "execute_result"
    }
   ],
   "source": [
    "# read filter values for first 10 SNPs (True means the site passes filters)\n",
    "f = filter_pass[:10].compute()\n",
    "f"
   ]
  },
  {
   "cell_type": "code",
   "execution_count": 15,
   "metadata": {},
   "outputs": [
    {
     "data": {
      "text/html": [
       "<table>\n",
       "<tr>\n",
       "<td>\n",
       "<table>\n",
       "  <thead>\n",
       "    <tr><td> </td><th> Array </th><th> Chunk </th></tr>\n",
       "  </thead>\n",
       "  <tbody>\n",
       "    <tr><th> Bytes </th><td> 29.56 GB </td> <td> 122.40 MB </td></tr>\n",
       "    <tr><th> Shape </th><td> (52226568, 283, 2) </td> <td> (600000, 102, 2) </td></tr>\n",
       "    <tr><th> Count </th><td> 530 Tasks </td><td> 264 Chunks </td></tr>\n",
       "    <tr><th> Type </th><td> int8 </td><td> numpy.ndarray </td></tr>\n",
       "  </tbody>\n",
       "</table>\n",
       "</td>\n",
       "<td>\n",
       "<svg width=\"156\" height=\"146\" style=\"stroke:rgb(0,0,0);stroke-width:1\" >\n",
       "\n",
       "  <!-- Horizontal lines -->\n",
       "  <line x1=\"10\" y1=\"0\" x2=\"80\" y2=\"70\" style=\"stroke-width:2\" />\n",
       "  <line x1=\"10\" y1=\"8\" x2=\"80\" y2=\"79\" />\n",
       "  <line x1=\"10\" y1=\"16\" x2=\"80\" y2=\"86\" />\n",
       "  <line x1=\"10\" y1=\"25\" x2=\"80\" y2=\"96\" style=\"stroke-width:2\" />\n",
       "\n",
       "  <!-- Vertical lines -->\n",
       "  <line x1=\"10\" y1=\"0\" x2=\"10\" y2=\"25\" style=\"stroke-width:2\" />\n",
       "  <line x1=\"10\" y1=\"0\" x2=\"10\" y2=\"26\" />\n",
       "  <line x1=\"11\" y1=\"1\" x2=\"11\" y2=\"27\" />\n",
       "  <line x1=\"12\" y1=\"2\" x2=\"12\" y2=\"27\" />\n",
       "  <line x1=\"13\" y1=\"3\" x2=\"13\" y2=\"28\" />\n",
       "  <line x1=\"14\" y1=\"4\" x2=\"14\" y2=\"29\" />\n",
       "  <line x1=\"14\" y1=\"4\" x2=\"14\" y2=\"30\" />\n",
       "  <line x1=\"15\" y1=\"5\" x2=\"15\" y2=\"31\" />\n",
       "  <line x1=\"16\" y1=\"6\" x2=\"16\" y2=\"31\" />\n",
       "  <line x1=\"17\" y1=\"7\" x2=\"17\" y2=\"32\" />\n",
       "  <line x1=\"18\" y1=\"8\" x2=\"18\" y2=\"33\" />\n",
       "  <line x1=\"18\" y1=\"8\" x2=\"18\" y2=\"34\" />\n",
       "  <line x1=\"19\" y1=\"9\" x2=\"19\" y2=\"35\" />\n",
       "  <line x1=\"20\" y1=\"10\" x2=\"20\" y2=\"35\" />\n",
       "  <line x1=\"21\" y1=\"11\" x2=\"21\" y2=\"36\" />\n",
       "  <line x1=\"22\" y1=\"12\" x2=\"22\" y2=\"37\" />\n",
       "  <line x1=\"22\" y1=\"12\" x2=\"22\" y2=\"38\" />\n",
       "  <line x1=\"23\" y1=\"13\" x2=\"23\" y2=\"39\" />\n",
       "  <line x1=\"24\" y1=\"14\" x2=\"24\" y2=\"40\" />\n",
       "  <line x1=\"25\" y1=\"15\" x2=\"25\" y2=\"40\" />\n",
       "  <line x1=\"26\" y1=\"16\" x2=\"26\" y2=\"41\" />\n",
       "  <line x1=\"27\" y1=\"17\" x2=\"27\" y2=\"42\" />\n",
       "  <line x1=\"27\" y1=\"17\" x2=\"27\" y2=\"43\" />\n",
       "  <line x1=\"28\" y1=\"18\" x2=\"28\" y2=\"44\" />\n",
       "  <line x1=\"29\" y1=\"19\" x2=\"29\" y2=\"44\" />\n",
       "  <line x1=\"30\" y1=\"20\" x2=\"30\" y2=\"45\" />\n",
       "  <line x1=\"31\" y1=\"21\" x2=\"31\" y2=\"46\" />\n",
       "  <line x1=\"31\" y1=\"21\" x2=\"31\" y2=\"47\" />\n",
       "  <line x1=\"32\" y1=\"22\" x2=\"32\" y2=\"48\" />\n",
       "  <line x1=\"33\" y1=\"23\" x2=\"33\" y2=\"48\" />\n",
       "  <line x1=\"34\" y1=\"24\" x2=\"34\" y2=\"49\" />\n",
       "  <line x1=\"35\" y1=\"25\" x2=\"35\" y2=\"50\" />\n",
       "  <line x1=\"35\" y1=\"25\" x2=\"35\" y2=\"51\" />\n",
       "  <line x1=\"36\" y1=\"26\" x2=\"36\" y2=\"52\" />\n",
       "  <line x1=\"37\" y1=\"27\" x2=\"37\" y2=\"52\" />\n",
       "  <line x1=\"38\" y1=\"28\" x2=\"38\" y2=\"53\" />\n",
       "  <line x1=\"39\" y1=\"29\" x2=\"39\" y2=\"54\" />\n",
       "  <line x1=\"40\" y1=\"30\" x2=\"40\" y2=\"55\" />\n",
       "  <line x1=\"40\" y1=\"30\" x2=\"40\" y2=\"56\" />\n",
       "  <line x1=\"41\" y1=\"31\" x2=\"41\" y2=\"57\" />\n",
       "  <line x1=\"42\" y1=\"32\" x2=\"42\" y2=\"57\" />\n",
       "  <line x1=\"43\" y1=\"33\" x2=\"43\" y2=\"58\" />\n",
       "  <line x1=\"44\" y1=\"34\" x2=\"44\" y2=\"59\" />\n",
       "  <line x1=\"44\" y1=\"34\" x2=\"44\" y2=\"60\" />\n",
       "  <line x1=\"45\" y1=\"35\" x2=\"45\" y2=\"61\" />\n",
       "  <line x1=\"46\" y1=\"36\" x2=\"46\" y2=\"61\" />\n",
       "  <line x1=\"47\" y1=\"37\" x2=\"47\" y2=\"62\" />\n",
       "  <line x1=\"48\" y1=\"38\" x2=\"48\" y2=\"63\" />\n",
       "  <line x1=\"48\" y1=\"38\" x2=\"48\" y2=\"64\" />\n",
       "  <line x1=\"49\" y1=\"39\" x2=\"49\" y2=\"65\" />\n",
       "  <line x1=\"50\" y1=\"40\" x2=\"50\" y2=\"65\" />\n",
       "  <line x1=\"51\" y1=\"41\" x2=\"51\" y2=\"66\" />\n",
       "  <line x1=\"52\" y1=\"42\" x2=\"52\" y2=\"67\" />\n",
       "  <line x1=\"52\" y1=\"42\" x2=\"52\" y2=\"68\" />\n",
       "  <line x1=\"53\" y1=\"43\" x2=\"53\" y2=\"69\" />\n",
       "  <line x1=\"54\" y1=\"44\" x2=\"54\" y2=\"70\" />\n",
       "  <line x1=\"55\" y1=\"45\" x2=\"55\" y2=\"70\" />\n",
       "  <line x1=\"56\" y1=\"46\" x2=\"56\" y2=\"71\" />\n",
       "  <line x1=\"57\" y1=\"47\" x2=\"57\" y2=\"72\" />\n",
       "  <line x1=\"57\" y1=\"47\" x2=\"57\" y2=\"73\" />\n",
       "  <line x1=\"58\" y1=\"48\" x2=\"58\" y2=\"74\" />\n",
       "  <line x1=\"59\" y1=\"49\" x2=\"59\" y2=\"74\" />\n",
       "  <line x1=\"60\" y1=\"50\" x2=\"60\" y2=\"75\" />\n",
       "  <line x1=\"61\" y1=\"51\" x2=\"61\" y2=\"76\" />\n",
       "  <line x1=\"61\" y1=\"51\" x2=\"61\" y2=\"77\" />\n",
       "  <line x1=\"62\" y1=\"52\" x2=\"62\" y2=\"78\" />\n",
       "  <line x1=\"63\" y1=\"53\" x2=\"63\" y2=\"78\" />\n",
       "  <line x1=\"64\" y1=\"54\" x2=\"64\" y2=\"79\" />\n",
       "  <line x1=\"65\" y1=\"55\" x2=\"65\" y2=\"80\" />\n",
       "  <line x1=\"65\" y1=\"55\" x2=\"65\" y2=\"81\" />\n",
       "  <line x1=\"66\" y1=\"56\" x2=\"66\" y2=\"82\" />\n",
       "  <line x1=\"67\" y1=\"57\" x2=\"67\" y2=\"82\" />\n",
       "  <line x1=\"68\" y1=\"58\" x2=\"68\" y2=\"83\" />\n",
       "  <line x1=\"69\" y1=\"59\" x2=\"69\" y2=\"84\" />\n",
       "  <line x1=\"70\" y1=\"60\" x2=\"70\" y2=\"85\" />\n",
       "  <line x1=\"70\" y1=\"60\" x2=\"70\" y2=\"86\" />\n",
       "  <line x1=\"71\" y1=\"61\" x2=\"71\" y2=\"87\" />\n",
       "  <line x1=\"72\" y1=\"62\" x2=\"72\" y2=\"87\" />\n",
       "  <line x1=\"73\" y1=\"63\" x2=\"73\" y2=\"88\" />\n",
       "  <line x1=\"74\" y1=\"64\" x2=\"74\" y2=\"89\" />\n",
       "  <line x1=\"74\" y1=\"64\" x2=\"74\" y2=\"90\" />\n",
       "  <line x1=\"75\" y1=\"65\" x2=\"75\" y2=\"91\" />\n",
       "  <line x1=\"76\" y1=\"66\" x2=\"76\" y2=\"91\" />\n",
       "  <line x1=\"77\" y1=\"67\" x2=\"77\" y2=\"92\" />\n",
       "  <line x1=\"78\" y1=\"68\" x2=\"78\" y2=\"93\" />\n",
       "  <line x1=\"78\" y1=\"68\" x2=\"78\" y2=\"94\" />\n",
       "  <line x1=\"79\" y1=\"69\" x2=\"79\" y2=\"95\" />\n",
       "  <line x1=\"80\" y1=\"70\" x2=\"80\" y2=\"95\" />\n",
       "  <line x1=\"80\" y1=\"70\" x2=\"80\" y2=\"96\" style=\"stroke-width:2\" />\n",
       "\n",
       "  <!-- Colored Rectangle -->\n",
       "  <polygon points=\"10.000000,0.000000 80.588235,70.588235 80.588235,96.000852 10.000000,25.412617\" style=\"fill:#ECB172A0;stroke-width:0\"/>\n",
       "\n",
       "  <!-- Horizontal lines -->\n",
       "  <line x1=\"10\" y1=\"0\" x2=\"35\" y2=\"0\" style=\"stroke-width:2\" />\n",
       "  <line x1=\"10\" y1=\"0\" x2=\"36\" y2=\"0\" />\n",
       "  <line x1=\"11\" y1=\"1\" x2=\"37\" y2=\"1\" />\n",
       "  <line x1=\"12\" y1=\"2\" x2=\"37\" y2=\"2\" />\n",
       "  <line x1=\"13\" y1=\"3\" x2=\"38\" y2=\"3\" />\n",
       "  <line x1=\"14\" y1=\"4\" x2=\"39\" y2=\"4\" />\n",
       "  <line x1=\"14\" y1=\"4\" x2=\"40\" y2=\"4\" />\n",
       "  <line x1=\"15\" y1=\"5\" x2=\"41\" y2=\"5\" />\n",
       "  <line x1=\"16\" y1=\"6\" x2=\"41\" y2=\"6\" />\n",
       "  <line x1=\"17\" y1=\"7\" x2=\"42\" y2=\"7\" />\n",
       "  <line x1=\"18\" y1=\"8\" x2=\"43\" y2=\"8\" />\n",
       "  <line x1=\"18\" y1=\"8\" x2=\"44\" y2=\"8\" />\n",
       "  <line x1=\"19\" y1=\"9\" x2=\"45\" y2=\"9\" />\n",
       "  <line x1=\"20\" y1=\"10\" x2=\"45\" y2=\"10\" />\n",
       "  <line x1=\"21\" y1=\"11\" x2=\"46\" y2=\"11\" />\n",
       "  <line x1=\"22\" y1=\"12\" x2=\"47\" y2=\"12\" />\n",
       "  <line x1=\"22\" y1=\"12\" x2=\"48\" y2=\"12\" />\n",
       "  <line x1=\"23\" y1=\"13\" x2=\"49\" y2=\"13\" />\n",
       "  <line x1=\"24\" y1=\"14\" x2=\"50\" y2=\"14\" />\n",
       "  <line x1=\"25\" y1=\"15\" x2=\"50\" y2=\"15\" />\n",
       "  <line x1=\"26\" y1=\"16\" x2=\"51\" y2=\"16\" />\n",
       "  <line x1=\"27\" y1=\"17\" x2=\"52\" y2=\"17\" />\n",
       "  <line x1=\"27\" y1=\"17\" x2=\"53\" y2=\"17\" />\n",
       "  <line x1=\"28\" y1=\"18\" x2=\"54\" y2=\"18\" />\n",
       "  <line x1=\"29\" y1=\"19\" x2=\"54\" y2=\"19\" />\n",
       "  <line x1=\"30\" y1=\"20\" x2=\"55\" y2=\"20\" />\n",
       "  <line x1=\"31\" y1=\"21\" x2=\"56\" y2=\"21\" />\n",
       "  <line x1=\"31\" y1=\"21\" x2=\"57\" y2=\"21\" />\n",
       "  <line x1=\"32\" y1=\"22\" x2=\"58\" y2=\"22\" />\n",
       "  <line x1=\"33\" y1=\"23\" x2=\"58\" y2=\"23\" />\n",
       "  <line x1=\"34\" y1=\"24\" x2=\"59\" y2=\"24\" />\n",
       "  <line x1=\"35\" y1=\"25\" x2=\"60\" y2=\"25\" />\n",
       "  <line x1=\"35\" y1=\"25\" x2=\"61\" y2=\"25\" />\n",
       "  <line x1=\"36\" y1=\"26\" x2=\"62\" y2=\"26\" />\n",
       "  <line x1=\"37\" y1=\"27\" x2=\"62\" y2=\"27\" />\n",
       "  <line x1=\"38\" y1=\"28\" x2=\"63\" y2=\"28\" />\n",
       "  <line x1=\"39\" y1=\"29\" x2=\"64\" y2=\"29\" />\n",
       "  <line x1=\"40\" y1=\"30\" x2=\"65\" y2=\"30\" />\n",
       "  <line x1=\"40\" y1=\"30\" x2=\"66\" y2=\"30\" />\n",
       "  <line x1=\"41\" y1=\"31\" x2=\"67\" y2=\"31\" />\n",
       "  <line x1=\"42\" y1=\"32\" x2=\"67\" y2=\"32\" />\n",
       "  <line x1=\"43\" y1=\"33\" x2=\"68\" y2=\"33\" />\n",
       "  <line x1=\"44\" y1=\"34\" x2=\"69\" y2=\"34\" />\n",
       "  <line x1=\"44\" y1=\"34\" x2=\"70\" y2=\"34\" />\n",
       "  <line x1=\"45\" y1=\"35\" x2=\"71\" y2=\"35\" />\n",
       "  <line x1=\"46\" y1=\"36\" x2=\"71\" y2=\"36\" />\n",
       "  <line x1=\"47\" y1=\"37\" x2=\"72\" y2=\"37\" />\n",
       "  <line x1=\"48\" y1=\"38\" x2=\"73\" y2=\"38\" />\n",
       "  <line x1=\"48\" y1=\"38\" x2=\"74\" y2=\"38\" />\n",
       "  <line x1=\"49\" y1=\"39\" x2=\"75\" y2=\"39\" />\n",
       "  <line x1=\"50\" y1=\"40\" x2=\"75\" y2=\"40\" />\n",
       "  <line x1=\"51\" y1=\"41\" x2=\"76\" y2=\"41\" />\n",
       "  <line x1=\"52\" y1=\"42\" x2=\"77\" y2=\"42\" />\n",
       "  <line x1=\"52\" y1=\"42\" x2=\"78\" y2=\"42\" />\n",
       "  <line x1=\"53\" y1=\"43\" x2=\"79\" y2=\"43\" />\n",
       "  <line x1=\"54\" y1=\"44\" x2=\"80\" y2=\"44\" />\n",
       "  <line x1=\"55\" y1=\"45\" x2=\"80\" y2=\"45\" />\n",
       "  <line x1=\"56\" y1=\"46\" x2=\"81\" y2=\"46\" />\n",
       "  <line x1=\"57\" y1=\"47\" x2=\"82\" y2=\"47\" />\n",
       "  <line x1=\"57\" y1=\"47\" x2=\"83\" y2=\"47\" />\n",
       "  <line x1=\"58\" y1=\"48\" x2=\"84\" y2=\"48\" />\n",
       "  <line x1=\"59\" y1=\"49\" x2=\"84\" y2=\"49\" />\n",
       "  <line x1=\"60\" y1=\"50\" x2=\"85\" y2=\"50\" />\n",
       "  <line x1=\"61\" y1=\"51\" x2=\"86\" y2=\"51\" />\n",
       "  <line x1=\"61\" y1=\"51\" x2=\"87\" y2=\"51\" />\n",
       "  <line x1=\"62\" y1=\"52\" x2=\"88\" y2=\"52\" />\n",
       "  <line x1=\"63\" y1=\"53\" x2=\"88\" y2=\"53\" />\n",
       "  <line x1=\"64\" y1=\"54\" x2=\"89\" y2=\"54\" />\n",
       "  <line x1=\"65\" y1=\"55\" x2=\"90\" y2=\"55\" />\n",
       "  <line x1=\"65\" y1=\"55\" x2=\"91\" y2=\"55\" />\n",
       "  <line x1=\"66\" y1=\"56\" x2=\"92\" y2=\"56\" />\n",
       "  <line x1=\"67\" y1=\"57\" x2=\"92\" y2=\"57\" />\n",
       "  <line x1=\"68\" y1=\"58\" x2=\"93\" y2=\"58\" />\n",
       "  <line x1=\"69\" y1=\"59\" x2=\"94\" y2=\"59\" />\n",
       "  <line x1=\"70\" y1=\"60\" x2=\"95\" y2=\"60\" />\n",
       "  <line x1=\"70\" y1=\"60\" x2=\"96\" y2=\"60\" />\n",
       "  <line x1=\"71\" y1=\"61\" x2=\"97\" y2=\"61\" />\n",
       "  <line x1=\"72\" y1=\"62\" x2=\"97\" y2=\"62\" />\n",
       "  <line x1=\"73\" y1=\"63\" x2=\"98\" y2=\"63\" />\n",
       "  <line x1=\"74\" y1=\"64\" x2=\"99\" y2=\"64\" />\n",
       "  <line x1=\"74\" y1=\"64\" x2=\"100\" y2=\"64\" />\n",
       "  <line x1=\"75\" y1=\"65\" x2=\"101\" y2=\"65\" />\n",
       "  <line x1=\"76\" y1=\"66\" x2=\"101\" y2=\"66\" />\n",
       "  <line x1=\"77\" y1=\"67\" x2=\"102\" y2=\"67\" />\n",
       "  <line x1=\"78\" y1=\"68\" x2=\"103\" y2=\"68\" />\n",
       "  <line x1=\"78\" y1=\"68\" x2=\"104\" y2=\"68\" />\n",
       "  <line x1=\"79\" y1=\"69\" x2=\"105\" y2=\"69\" />\n",
       "  <line x1=\"80\" y1=\"70\" x2=\"105\" y2=\"70\" />\n",
       "  <line x1=\"80\" y1=\"70\" x2=\"106\" y2=\"70\" style=\"stroke-width:2\" />\n",
       "\n",
       "  <!-- Vertical lines -->\n",
       "  <line x1=\"10\" y1=\"0\" x2=\"80\" y2=\"70\" style=\"stroke-width:2\" />\n",
       "  <line x1=\"35\" y1=\"0\" x2=\"106\" y2=\"70\" style=\"stroke-width:2\" />\n",
       "\n",
       "  <!-- Colored Rectangle -->\n",
       "  <polygon points=\"10.000000,0.000000 35.412617,0.000000 106.000852,70.588235 80.588235,70.588235\" style=\"fill:#ECB172A0;stroke-width:0\"/>\n",
       "\n",
       "  <!-- Horizontal lines -->\n",
       "  <line x1=\"80\" y1=\"70\" x2=\"106\" y2=\"70\" style=\"stroke-width:2\" />\n",
       "  <line x1=\"80\" y1=\"79\" x2=\"106\" y2=\"79\" />\n",
       "  <line x1=\"80\" y1=\"86\" x2=\"106\" y2=\"86\" />\n",
       "  <line x1=\"80\" y1=\"96\" x2=\"106\" y2=\"96\" style=\"stroke-width:2\" />\n",
       "\n",
       "  <!-- Vertical lines -->\n",
       "  <line x1=\"80\" y1=\"70\" x2=\"80\" y2=\"96\" style=\"stroke-width:2\" />\n",
       "  <line x1=\"106\" y1=\"70\" x2=\"106\" y2=\"96\" style=\"stroke-width:2\" />\n",
       "\n",
       "  <!-- Colored Rectangle -->\n",
       "  <polygon points=\"80.588235,70.588235 106.000852,70.588235 106.000852,96.000852 80.588235,96.000852\" style=\"fill:#ECB172A0;stroke-width:0\"/>\n",
       "\n",
       "  <!-- Text -->\n",
       "  <text x=\"93.294544\" y=\"116.000852\" font-size=\"1.0rem\" font-weight=\"100\" text-anchor=\"middle\" >2</text>\n",
       "  <text x=\"126.000852\" y=\"83.294544\" font-size=\"1.0rem\" font-weight=\"100\" text-anchor=\"middle\" transform=\"rotate(-90,126.000852,83.294544)\">283</text>\n",
       "  <text x=\"35.294118\" y=\"80.706734\" font-size=\"1.0rem\" font-weight=\"100\" text-anchor=\"middle\" transform=\"rotate(45,35.294118,80.706734)\">52226568</text>\n",
       "</svg>\n",
       "</td>\n",
       "</tr>\n",
       "</table>"
      ],
      "text/plain": [
       "dask.array<concatenate, shape=(52226568, 283, 2), dtype=int8, chunksize=(600000, 102, 2), chunktype=numpy.ndarray>"
      ]
     },
     "execution_count": 15,
     "metadata": {},
     "output_type": "execute_result"
    }
   ],
   "source": [
    "# access SNP genotypes for AG1000G-BF-A and AG1000G-BF-B as a dask array\n",
    "gt = ag3.snp_genotypes(\"3R\", cohort=[\"AG1000G-BF-A\", \"AG1000G-BF-B\"])\n",
    "gt"
   ]
  },
  {
   "cell_type": "markdown",
   "metadata": {},
   "source": [
    "Genotypes are stored as a three-dimensional array, where the first dimension corresponds to genomic positions, the second dimension is samples, and the third dimension is ploidy (2). Values coded as integers, where -1 represents a missing value, 0 represents the reference allele, and 1, 2, and 3 represent alternate alleles."
   ]
  },
  {
   "cell_type": "code",
   "execution_count": 16,
   "metadata": {},
   "outputs": [
    {
     "data": {
      "text/plain": [
       "array([[[0, 0],\n",
       "        [0, 0],\n",
       "        [0, 0]],\n",
       "\n",
       "       [[0, 0],\n",
       "        [0, 0],\n",
       "        [0, 0]],\n",
       "\n",
       "       [[0, 0],\n",
       "        [0, 0],\n",
       "        [0, 0]],\n",
       "\n",
       "       [[0, 0],\n",
       "        [0, 0],\n",
       "        [0, 0]],\n",
       "\n",
       "       [[0, 0],\n",
       "        [0, 0],\n",
       "        [0, 0]]], dtype=int8)"
      ]
     },
     "execution_count": 16,
     "metadata": {},
     "output_type": "execute_result"
    }
   ],
   "source": [
    "# e.g., read genotypes for the first 5 SNPs and the first 3 samples\n",
    "g = gt[:5, :3, :].compute()\n",
    "g"
   ]
  },
  {
   "cell_type": "markdown",
   "metadata": {},
   "source": [
    "Here's an example computation to count the number of segregating SNPs on chromosome arm 3R that also pass gamb_colu_arab site filters:"
   ]
  },
  {
   "cell_type": "code",
   "execution_count": 22,
   "metadata": {},
   "outputs": [
    {
     "name": "stdout",
     "output_type": "stream",
     "text": [
      "[########################################] | 100% Completed | 11.0s\n"
     ]
    },
    {
     "data": {
      "text/plain": [
       "11226723"
      ]
     },
     "execution_count": 22,
     "metadata": {},
     "output_type": "execute_result"
    }
   ],
   "source": [
    "# import scikit-allel\n",
    "import allel\n",
    "\n",
    "# import dask progress bar\n",
    "from dask.diagnostics.progress import ProgressBar\n",
    "\n",
    "# import numpy\n",
    "import numpy as np\n",
    "\n",
    "# choose chromosome arm\n",
    "seq_id = \"3R\"\n",
    "\n",
    "# choose site filter mask\n",
    "mask = \"gamb_colu_arab\"\n",
    "\n",
    "# choose cohort\n",
    "cohort = [\"AG1000G-BF-A\", \"AG1000G-BF-B\"]\n",
    "\n",
    "# locate pass sites\n",
    "loc_pass = ag3.site_filters(seq_id=seq_id, mask=mask).compute()\n",
    "\n",
    "# perform an allele count over genotypes\n",
    "gt = ag3.snp_genotypes(seq_id=seq_id, cohort=cohort)\n",
    "gt = allel.GenotypeDaskArray(gt)\n",
    "with ProgressBar():\n",
    "    ac = gt.count_alleles(max_allele=3).compute()\n",
    "    \n",
    "# locate segregating sites\n",
    "loc_seg = ac.is_segregating()\n",
    "\n",
    "# count segregating and pass sites\n",
    "np.count_nonzero(loc_pass & loc_seg)"
   ]
  },
  {
   "cell_type": "markdown",
   "metadata": {},
   "source": [
    "For further examples of analysing data please follow [@malariagenomics](https://twitter.com/malariagenomics) on Twitter or keep an eye on the [malariagen/vector-public-data GitHub discussion board](https://github.com/malariagen/vector-public-data/discussions)."
   ]
  },
  {
   "cell_type": "code",
   "execution_count": null,
   "metadata": {},
   "outputs": [],
   "source": []
  }
 ],
 "metadata": {
  "kernelspec": {
   "display_name": "Python 3",
   "language": "python",
   "name": "python3"
  },
  "language_info": {
   "codemirror_mode": {
    "name": "ipython",
    "version": 3
   },
   "file_extension": ".py",
   "mimetype": "text/x-python",
   "name": "python",
   "nbconvert_exporter": "python",
   "pygments_lexer": "ipython3",
   "version": "3.7.6"
  }
 },
 "nbformat": 4,
 "nbformat_minor": 4
}

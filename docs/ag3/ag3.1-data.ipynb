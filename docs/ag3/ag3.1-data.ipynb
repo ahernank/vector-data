{
 "cells": [
  {
   "cell_type": "markdown",
   "metadata": {
    "id": "p0VbAgTdnvpP"
   },
   "source": [
    "# Ag3.1 data access\n",
    "\n",
    "This notebook provides information about how to download data from the [*Ag3.1* release](intro). This includes sample metadata, raw sequence reads, sequence read alignments, and single nucleotide polymorphism (SNP) calls.\n",
    "\n",
    "Code examples that are intended to be run via a Linux command line are prefixed with an exclamation mark (!). If you are running these commands directly from a terminal, remove the exclamation mark.\n",
    "\n",
    "Examples in this notebook assume you are downloading data to a local folder within your home directory at the path `~/vo_agam_release/`. Change this if you want to download to a different folder on the local file system.\n",
    "\n",
    "## Data hosting\n",
    "\n",
    "`Ag3.1` data are hosted by several different services.\n",
    "\n",
    "Raw sequence reads in FASTQ format and sequence read alignments in BAM format are hosted by the European Nucleotide Archive (ENA). This guide provides examples of downloading data from ENA via FTP using the `wget` command line tool, but please note that there are several other options for downloading data, see the [ENA documentation on how to download data files](https://ena-docs.readthedocs.io/en/latest/retrieval/file-download.html) for more information.  \n",
    "\n",
    "SNP calls in VCF and Zarr formats are hosted on S3-compatible object storage at the Sanger Institute. This guide provides examples of downloading thes data using `wget`.\n",
    "\n",
    "Sample metadata in CSV format are hosted on Google Cloud Storage (GCS) in the `vo_agam_release` bucket, which is a multi-region bucket located in the United States. All data hosted on GCS are publicly accessible and do not require any authentication to access. \n",
    "\n",
    "This guide provides examples of:\n",
    "- **Cloud access** - accessing data using the `malariagen_data` python package \n",
    "- **Downloads** - downloading data from GCS to a local computer using the `wget` and `gsutil` command line tools. For more information about `gsutil`, see the [gsutil tool documentation](https://cloud.google.com/storage/docs/gsutil)."
   ]
  },
  {
   "cell_type": "markdown",
   "metadata": {},
   "source": [
    "## Data - cloud access\n",
    "\n",
    "To make accessing these data more convenient, we've created the [malariagen_data](https://github.com/malariagen/malariagen-data-python) Python package. This is experimental so please let us know if you find any bugs or have any suggestions. See the [Ag3 API docs](api) for documentation of all functions available from this package. \n",
    "\n",
    "Install the `malariagen_data` python package:"
   ]
  },
  {
   "cell_type": "code",
   "execution_count": 1,
   "metadata": {},
   "outputs": [],
   "source": [
    "!pip install -q malariagen_data"
   ]
  },
  {
   "cell_type": "markdown",
   "metadata": {},
   "source": [
    "Import the `malariagen_data` package:"
   ]
  },
  {
   "cell_type": "code",
   "execution_count": 2,
   "metadata": {},
   "outputs": [],
   "source": [
    "import malariagen_data"
   ]
  },
  {
   "cell_type": "markdown",
   "metadata": {},
   "source": [
    "`Ag3.1`  data access from Google Cloud is set up with the following code:"
   ]
  },
  {
   "cell_type": "code",
   "execution_count": 3,
   "metadata": {},
   "outputs": [
    {
     "data": {
      "application/javascript": [
       "\n",
       "(function(root) {\n",
       "  function now() {\n",
       "    return new Date();\n",
       "  }\n",
       "\n",
       "  var force = true;\n",
       "\n",
       "  if (typeof root._bokeh_onload_callbacks === \"undefined\" || force === true) {\n",
       "    root._bokeh_onload_callbacks = [];\n",
       "    root._bokeh_is_loading = undefined;\n",
       "  }\n",
       "\n",
       "  var JS_MIME_TYPE = 'application/javascript';\n",
       "  var HTML_MIME_TYPE = 'text/html';\n",
       "  var EXEC_MIME_TYPE = 'application/vnd.bokehjs_exec.v0+json';\n",
       "  var CLASS_NAME = 'output_bokeh rendered_html';\n",
       "\n",
       "  /**\n",
       "   * Render data to the DOM node\n",
       "   */\n",
       "  function render(props, node) {\n",
       "    var script = document.createElement(\"script\");\n",
       "    node.appendChild(script);\n",
       "  }\n",
       "\n",
       "  /**\n",
       "   * Handle when an output is cleared or removed\n",
       "   */\n",
       "  function handleClearOutput(event, handle) {\n",
       "    var cell = handle.cell;\n",
       "\n",
       "    var id = cell.output_area._bokeh_element_id;\n",
       "    var server_id = cell.output_area._bokeh_server_id;\n",
       "    // Clean up Bokeh references\n",
       "    if (id != null && id in Bokeh.index) {\n",
       "      Bokeh.index[id].model.document.clear();\n",
       "      delete Bokeh.index[id];\n",
       "    }\n",
       "\n",
       "    if (server_id !== undefined) {\n",
       "      // Clean up Bokeh references\n",
       "      var cmd = \"from bokeh.io.state import curstate; print(curstate().uuid_to_server['\" + server_id + \"'].get_sessions()[0].document.roots[0]._id)\";\n",
       "      cell.notebook.kernel.execute(cmd, {\n",
       "        iopub: {\n",
       "          output: function(msg) {\n",
       "            var id = msg.content.text.trim();\n",
       "            if (id in Bokeh.index) {\n",
       "              Bokeh.index[id].model.document.clear();\n",
       "              delete Bokeh.index[id];\n",
       "            }\n",
       "          }\n",
       "        }\n",
       "      });\n",
       "      // Destroy server and session\n",
       "      var cmd = \"import bokeh.io.notebook as ion; ion.destroy_server('\" + server_id + \"')\";\n",
       "      cell.notebook.kernel.execute(cmd);\n",
       "    }\n",
       "  }\n",
       "\n",
       "  /**\n",
       "   * Handle when a new output is added\n",
       "   */\n",
       "  function handleAddOutput(event, handle) {\n",
       "    var output_area = handle.output_area;\n",
       "    var output = handle.output;\n",
       "\n",
       "    // limit handleAddOutput to display_data with EXEC_MIME_TYPE content only\n",
       "    if ((output.output_type != \"display_data\") || (!Object.prototype.hasOwnProperty.call(output.data, EXEC_MIME_TYPE))) {\n",
       "      return\n",
       "    }\n",
       "\n",
       "    var toinsert = output_area.element.find(\".\" + CLASS_NAME.split(' ')[0]);\n",
       "\n",
       "    if (output.metadata[EXEC_MIME_TYPE][\"id\"] !== undefined) {\n",
       "      toinsert[toinsert.length - 1].firstChild.textContent = output.data[JS_MIME_TYPE];\n",
       "      // store reference to embed id on output_area\n",
       "      output_area._bokeh_element_id = output.metadata[EXEC_MIME_TYPE][\"id\"];\n",
       "    }\n",
       "    if (output.metadata[EXEC_MIME_TYPE][\"server_id\"] !== undefined) {\n",
       "      var bk_div = document.createElement(\"div\");\n",
       "      bk_div.innerHTML = output.data[HTML_MIME_TYPE];\n",
       "      var script_attrs = bk_div.children[0].attributes;\n",
       "      for (var i = 0; i < script_attrs.length; i++) {\n",
       "        toinsert[toinsert.length - 1].firstChild.setAttribute(script_attrs[i].name, script_attrs[i].value);\n",
       "        toinsert[toinsert.length - 1].firstChild.textContent = bk_div.children[0].textContent\n",
       "      }\n",
       "      // store reference to server id on output_area\n",
       "      output_area._bokeh_server_id = output.metadata[EXEC_MIME_TYPE][\"server_id\"];\n",
       "    }\n",
       "  }\n",
       "\n",
       "  function register_renderer(events, OutputArea) {\n",
       "\n",
       "    function append_mime(data, metadata, element) {\n",
       "      // create a DOM node to render to\n",
       "      var toinsert = this.create_output_subarea(\n",
       "        metadata,\n",
       "        CLASS_NAME,\n",
       "        EXEC_MIME_TYPE\n",
       "      );\n",
       "      this.keyboard_manager.register_events(toinsert);\n",
       "      // Render to node\n",
       "      var props = {data: data, metadata: metadata[EXEC_MIME_TYPE]};\n",
       "      render(props, toinsert[toinsert.length - 1]);\n",
       "      element.append(toinsert);\n",
       "      return toinsert\n",
       "    }\n",
       "\n",
       "    /* Handle when an output is cleared or removed */\n",
       "    events.on('clear_output.CodeCell', handleClearOutput);\n",
       "    events.on('delete.Cell', handleClearOutput);\n",
       "\n",
       "    /* Handle when a new output is added */\n",
       "    events.on('output_added.OutputArea', handleAddOutput);\n",
       "\n",
       "    /**\n",
       "     * Register the mime type and append_mime function with output_area\n",
       "     */\n",
       "    OutputArea.prototype.register_mime_type(EXEC_MIME_TYPE, append_mime, {\n",
       "      /* Is output safe? */\n",
       "      safe: true,\n",
       "      /* Index of renderer in `output_area.display_order` */\n",
       "      index: 0\n",
       "    });\n",
       "  }\n",
       "\n",
       "  // register the mime type if in Jupyter Notebook environment and previously unregistered\n",
       "  if (root.Jupyter !== undefined) {\n",
       "    var events = require('base/js/events');\n",
       "    var OutputArea = require('notebook/js/outputarea').OutputArea;\n",
       "\n",
       "    if (OutputArea.prototype.mime_types().indexOf(EXEC_MIME_TYPE) == -1) {\n",
       "      register_renderer(events, OutputArea);\n",
       "    }\n",
       "  }\n",
       "\n",
       "  \n",
       "  if (typeof (root._bokeh_timeout) === \"undefined\" || force === true) {\n",
       "    root._bokeh_timeout = Date.now() + 5000;\n",
       "    root._bokeh_failed_load = false;\n",
       "  }\n",
       "\n",
       "  var NB_LOAD_WARNING = {'data': {'text/html':\n",
       "     \"<div style='background-color: #fdd'>\\n\"+\n",
       "     \"<p>\\n\"+\n",
       "     \"BokehJS does not appear to have successfully loaded. If loading BokehJS from CDN, this \\n\"+\n",
       "     \"may be due to a slow or bad network connection. Possible fixes:\\n\"+\n",
       "     \"</p>\\n\"+\n",
       "     \"<ul>\\n\"+\n",
       "     \"<li>re-rerun `output_notebook()` to attempt to load from CDN again, or</li>\\n\"+\n",
       "     \"<li>use INLINE resources instead, as so:</li>\\n\"+\n",
       "     \"</ul>\\n\"+\n",
       "     \"<code>\\n\"+\n",
       "     \"from bokeh.resources import INLINE\\n\"+\n",
       "     \"output_notebook(resources=INLINE)\\n\"+\n",
       "     \"</code>\\n\"+\n",
       "     \"</div>\"}};\n",
       "\n",
       "  function display_loaded() {\n",
       "    var el = document.getElementById(null);\n",
       "    if (el != null) {\n",
       "      el.textContent = \"BokehJS is loading...\";\n",
       "    }\n",
       "    if (root.Bokeh !== undefined) {\n",
       "      if (el != null) {\n",
       "        el.textContent = \"BokehJS \" + root.Bokeh.version + \" successfully loaded.\";\n",
       "      }\n",
       "    } else if (Date.now() < root._bokeh_timeout) {\n",
       "      setTimeout(display_loaded, 100)\n",
       "    }\n",
       "  }\n",
       "\n",
       "\n",
       "  function run_callbacks() {\n",
       "    try {\n",
       "      root._bokeh_onload_callbacks.forEach(function(callback) {\n",
       "        if (callback != null)\n",
       "          callback();\n",
       "      });\n",
       "    } finally {\n",
       "      delete root._bokeh_onload_callbacks\n",
       "    }\n",
       "    console.debug(\"Bokeh: all callbacks have finished\");\n",
       "  }\n",
       "\n",
       "  function load_libs(css_urls, js_urls, callback) {\n",
       "    if (css_urls == null) css_urls = [];\n",
       "    if (js_urls == null) js_urls = [];\n",
       "\n",
       "    root._bokeh_onload_callbacks.push(callback);\n",
       "    if (root._bokeh_is_loading > 0) {\n",
       "      console.debug(\"Bokeh: BokehJS is being loaded, scheduling callback at\", now());\n",
       "      return null;\n",
       "    }\n",
       "    if (js_urls == null || js_urls.length === 0) {\n",
       "      run_callbacks();\n",
       "      return null;\n",
       "    }\n",
       "    console.debug(\"Bokeh: BokehJS not loaded, scheduling load and callback at\", now());\n",
       "    root._bokeh_is_loading = css_urls.length + js_urls.length;\n",
       "\n",
       "    function on_load() {\n",
       "      root._bokeh_is_loading--;\n",
       "      if (root._bokeh_is_loading === 0) {\n",
       "        console.debug(\"Bokeh: all BokehJS libraries/stylesheets loaded\");\n",
       "        run_callbacks()\n",
       "      }\n",
       "    }\n",
       "\n",
       "    function on_error(url) {\n",
       "      console.error(\"failed to load \" + url);\n",
       "    }\n",
       "\n",
       "    for (let i = 0; i < css_urls.length; i++) {\n",
       "      const url = css_urls[i];\n",
       "      const element = document.createElement(\"link\");\n",
       "      element.onload = on_load;\n",
       "      element.onerror = on_error.bind(null, url);\n",
       "      element.rel = \"stylesheet\";\n",
       "      element.type = \"text/css\";\n",
       "      element.href = url;\n",
       "      console.debug(\"Bokeh: injecting link tag for BokehJS stylesheet: \", url);\n",
       "      document.body.appendChild(element);\n",
       "    }\n",
       "\n",
       "    const hashes = {\"https://cdn.bokeh.org/bokeh/release/bokeh-2.3.3.min.js\": \"dM3QQsP+wXdHg42wTqW85BjZQdLNNIXqlPw/BgKoExPmTG7ZLML4EGqLMfqHT6ON\", \"https://cdn.bokeh.org/bokeh/release/bokeh-tables-2.3.3.min.js\": \"8x57I4YuIfu8XyZfFo0XVr2WAT8EK4rh/uDe3wF7YuW2FNUSNEpJbsPaB1nJ2fz2\", \"https://cdn.bokeh.org/bokeh/release/bokeh-widgets-2.3.3.min.js\": \"3QTqdz9LyAm2i0sG5XTePsHec3UHWwVsrOL68SYRoAXsafvfAyqtQ+h440+qIBhS\"};\n",
       "\n",
       "    for (let i = 0; i < js_urls.length; i++) {\n",
       "      const url = js_urls[i];\n",
       "      const element = document.createElement('script');\n",
       "      element.onload = on_load;\n",
       "      element.onerror = on_error.bind(null, url);\n",
       "      element.async = false;\n",
       "      element.src = url;\n",
       "      if (url in hashes) {\n",
       "        element.crossOrigin = \"anonymous\";\n",
       "        element.integrity = \"sha384-\" + hashes[url];\n",
       "      }\n",
       "      console.debug(\"Bokeh: injecting script tag for BokehJS library: \", url);\n",
       "      document.head.appendChild(element);\n",
       "    }\n",
       "  };\n",
       "\n",
       "  function inject_raw_css(css) {\n",
       "    const element = document.createElement(\"style\");\n",
       "    element.appendChild(document.createTextNode(css));\n",
       "    document.body.appendChild(element);\n",
       "  }\n",
       "\n",
       "  \n",
       "  var js_urls = [\"https://cdn.bokeh.org/bokeh/release/bokeh-2.3.3.min.js\", \"https://cdn.bokeh.org/bokeh/release/bokeh-widgets-2.3.3.min.js\", \"https://cdn.bokeh.org/bokeh/release/bokeh-tables-2.3.3.min.js\"];\n",
       "  var css_urls = [];\n",
       "  \n",
       "\n",
       "  var inline_js = [\n",
       "    function(Bokeh) {\n",
       "      Bokeh.set_log_level(\"info\");\n",
       "    },\n",
       "    function(Bokeh) {\n",
       "    \n",
       "    \n",
       "    }\n",
       "  ];\n",
       "\n",
       "  function run_inline_js() {\n",
       "    \n",
       "    if (root.Bokeh !== undefined || force === true) {\n",
       "      \n",
       "    for (var i = 0; i < inline_js.length; i++) {\n",
       "      inline_js[i].call(root, root.Bokeh);\n",
       "    }\n",
       "    } else if (Date.now() < root._bokeh_timeout) {\n",
       "      setTimeout(run_inline_js, 100);\n",
       "    } else if (!root._bokeh_failed_load) {\n",
       "      console.log(\"Bokeh: BokehJS failed to load within specified timeout.\");\n",
       "      root._bokeh_failed_load = true;\n",
       "    } else if (force !== true) {\n",
       "      var cell = $(document.getElementById(null)).parents('.cell').data().cell;\n",
       "      cell.output_area.append_execute_result(NB_LOAD_WARNING)\n",
       "    }\n",
       "\n",
       "  }\n",
       "\n",
       "  if (root._bokeh_is_loading === 0) {\n",
       "    console.debug(\"Bokeh: BokehJS loaded, going straight to plotting\");\n",
       "    run_inline_js();\n",
       "  } else {\n",
       "    load_libs(css_urls, js_urls, function() {\n",
       "      console.debug(\"Bokeh: BokehJS plotting callback run at\", now());\n",
       "      run_inline_js();\n",
       "    });\n",
       "  }\n",
       "}(window));"
      ],
      "application/vnd.bokehjs_load.v0+json": "\n(function(root) {\n  function now() {\n    return new Date();\n  }\n\n  var force = true;\n\n  if (typeof root._bokeh_onload_callbacks === \"undefined\" || force === true) {\n    root._bokeh_onload_callbacks = [];\n    root._bokeh_is_loading = undefined;\n  }\n\n  \n\n  \n  if (typeof (root._bokeh_timeout) === \"undefined\" || force === true) {\n    root._bokeh_timeout = Date.now() + 5000;\n    root._bokeh_failed_load = false;\n  }\n\n  var NB_LOAD_WARNING = {'data': {'text/html':\n     \"<div style='background-color: #fdd'>\\n\"+\n     \"<p>\\n\"+\n     \"BokehJS does not appear to have successfully loaded. If loading BokehJS from CDN, this \\n\"+\n     \"may be due to a slow or bad network connection. Possible fixes:\\n\"+\n     \"</p>\\n\"+\n     \"<ul>\\n\"+\n     \"<li>re-rerun `output_notebook()` to attempt to load from CDN again, or</li>\\n\"+\n     \"<li>use INLINE resources instead, as so:</li>\\n\"+\n     \"</ul>\\n\"+\n     \"<code>\\n\"+\n     \"from bokeh.resources import INLINE\\n\"+\n     \"output_notebook(resources=INLINE)\\n\"+\n     \"</code>\\n\"+\n     \"</div>\"}};\n\n  function display_loaded() {\n    var el = document.getElementById(null);\n    if (el != null) {\n      el.textContent = \"BokehJS is loading...\";\n    }\n    if (root.Bokeh !== undefined) {\n      if (el != null) {\n        el.textContent = \"BokehJS \" + root.Bokeh.version + \" successfully loaded.\";\n      }\n    } else if (Date.now() < root._bokeh_timeout) {\n      setTimeout(display_loaded, 100)\n    }\n  }\n\n\n  function run_callbacks() {\n    try {\n      root._bokeh_onload_callbacks.forEach(function(callback) {\n        if (callback != null)\n          callback();\n      });\n    } finally {\n      delete root._bokeh_onload_callbacks\n    }\n    console.debug(\"Bokeh: all callbacks have finished\");\n  }\n\n  function load_libs(css_urls, js_urls, callback) {\n    if (css_urls == null) css_urls = [];\n    if (js_urls == null) js_urls = [];\n\n    root._bokeh_onload_callbacks.push(callback);\n    if (root._bokeh_is_loading > 0) {\n      console.debug(\"Bokeh: BokehJS is being loaded, scheduling callback at\", now());\n      return null;\n    }\n    if (js_urls == null || js_urls.length === 0) {\n      run_callbacks();\n      return null;\n    }\n    console.debug(\"Bokeh: BokehJS not loaded, scheduling load and callback at\", now());\n    root._bokeh_is_loading = css_urls.length + js_urls.length;\n\n    function on_load() {\n      root._bokeh_is_loading--;\n      if (root._bokeh_is_loading === 0) {\n        console.debug(\"Bokeh: all BokehJS libraries/stylesheets loaded\");\n        run_callbacks()\n      }\n    }\n\n    function on_error(url) {\n      console.error(\"failed to load \" + url);\n    }\n\n    for (let i = 0; i < css_urls.length; i++) {\n      const url = css_urls[i];\n      const element = document.createElement(\"link\");\n      element.onload = on_load;\n      element.onerror = on_error.bind(null, url);\n      element.rel = \"stylesheet\";\n      element.type = \"text/css\";\n      element.href = url;\n      console.debug(\"Bokeh: injecting link tag for BokehJS stylesheet: \", url);\n      document.body.appendChild(element);\n    }\n\n    const hashes = {\"https://cdn.bokeh.org/bokeh/release/bokeh-2.3.3.min.js\": \"dM3QQsP+wXdHg42wTqW85BjZQdLNNIXqlPw/BgKoExPmTG7ZLML4EGqLMfqHT6ON\", \"https://cdn.bokeh.org/bokeh/release/bokeh-tables-2.3.3.min.js\": \"8x57I4YuIfu8XyZfFo0XVr2WAT8EK4rh/uDe3wF7YuW2FNUSNEpJbsPaB1nJ2fz2\", \"https://cdn.bokeh.org/bokeh/release/bokeh-widgets-2.3.3.min.js\": \"3QTqdz9LyAm2i0sG5XTePsHec3UHWwVsrOL68SYRoAXsafvfAyqtQ+h440+qIBhS\"};\n\n    for (let i = 0; i < js_urls.length; i++) {\n      const url = js_urls[i];\n      const element = document.createElement('script');\n      element.onload = on_load;\n      element.onerror = on_error.bind(null, url);\n      element.async = false;\n      element.src = url;\n      if (url in hashes) {\n        element.crossOrigin = \"anonymous\";\n        element.integrity = \"sha384-\" + hashes[url];\n      }\n      console.debug(\"Bokeh: injecting script tag for BokehJS library: \", url);\n      document.head.appendChild(element);\n    }\n  };\n\n  function inject_raw_css(css) {\n    const element = document.createElement(\"style\");\n    element.appendChild(document.createTextNode(css));\n    document.body.appendChild(element);\n  }\n\n  \n  var js_urls = [\"https://cdn.bokeh.org/bokeh/release/bokeh-2.3.3.min.js\", \"https://cdn.bokeh.org/bokeh/release/bokeh-widgets-2.3.3.min.js\", \"https://cdn.bokeh.org/bokeh/release/bokeh-tables-2.3.3.min.js\"];\n  var css_urls = [];\n  \n\n  var inline_js = [\n    function(Bokeh) {\n      Bokeh.set_log_level(\"info\");\n    },\n    function(Bokeh) {\n    \n    \n    }\n  ];\n\n  function run_inline_js() {\n    \n    if (root.Bokeh !== undefined || force === true) {\n      \n    for (var i = 0; i < inline_js.length; i++) {\n      inline_js[i].call(root, root.Bokeh);\n    }\n    } else if (Date.now() < root._bokeh_timeout) {\n      setTimeout(run_inline_js, 100);\n    } else if (!root._bokeh_failed_load) {\n      console.log(\"Bokeh: BokehJS failed to load within specified timeout.\");\n      root._bokeh_failed_load = true;\n    } else if (force !== true) {\n      var cell = $(document.getElementById(null)).parents('.cell').data().cell;\n      cell.output_area.append_execute_result(NB_LOAD_WARNING)\n    }\n\n  }\n\n  if (root._bokeh_is_loading === 0) {\n    console.debug(\"Bokeh: BokehJS loaded, going straight to plotting\");\n    run_inline_js();\n  } else {\n    load_libs(css_urls, js_urls, function() {\n      console.debug(\"Bokeh: BokehJS plotting callback run at\", now());\n      run_inline_js();\n    });\n  }\n}(window));"
     },
     "metadata": {},
     "output_type": "display_data"
    },
    {
     "data": {
      "text/html": [
       "\n",
       "            <table class=\"malariagen-ag3\">\n",
       "                <thead>\n",
       "                    <tr>\n",
       "                        <th style=\"text-align: left\" colspan=\"2\">MalariaGEN Ag3 API client</th>\n",
       "                    </tr>\n",
       "                    <tr><td colspan=\"2\" style=\"text-align: left\">\n",
       "                        Please note that data are subject to terms of use,\n",
       "                        for more information see <a href=\"https://www.malariagen.net/data\">\n",
       "                        the MalariaGEN website</a> or contact data@malariagen.net.\n",
       "                        See also the <a href=\"https://malariagen.github.io/vector-data/ag3/api.html\">Ag3 API docs</a>.\n",
       "                    </td></tr>\n",
       "                </thead>\n",
       "                <tbody>\n",
       "                    <tr>\n",
       "                        <th style=\"text-align: left\">\n",
       "                            Storage URL\n",
       "                        </th>\n",
       "                        <td>gs://vo_agam_release/</td>\n",
       "                    </tr>\n",
       "                    <tr>\n",
       "                        <th style=\"text-align: left\">\n",
       "                            Data releases available\n",
       "                        </th>\n",
       "                        <td>3.0</td>\n",
       "                    </tr>\n",
       "                    <tr>\n",
       "                        <th style=\"text-align: left\">\n",
       "                            Results cache\n",
       "                        </th>\n",
       "                        <td>None</td>\n",
       "                    </tr>\n",
       "                    <tr>\n",
       "                        <th style=\"text-align: left\">\n",
       "                            Cohorts analysis\n",
       "                        </th>\n",
       "                        <td>20230223</td>\n",
       "                    </tr>\n",
       "                    <tr>\n",
       "                        <th style=\"text-align: left\">\n",
       "                            Species analysis\n",
       "                        </th>\n",
       "                        <td>aim_20220528</td>\n",
       "                    </tr>\n",
       "                    <tr>\n",
       "                        <th style=\"text-align: left\">\n",
       "                            Site filters analysis\n",
       "                        </th>\n",
       "                        <td>dt_20200416</td>\n",
       "                    </tr>\n",
       "                    <tr>\n",
       "                        <th style=\"text-align: left\">\n",
       "                            Software version\n",
       "                        </th>\n",
       "                        <td>malariagen_data 7.3.1</td>\n",
       "                    </tr>\n",
       "                    <tr>\n",
       "                        <th style=\"text-align: left\">\n",
       "                            Client location\n",
       "                        </th>\n",
       "                        <td>England, GB</td>\n",
       "                    </tr>\n",
       "                </tbody>\n",
       "            </table>\n",
       "        "
      ],
      "text/plain": [
       "<MalariaGEN Ag3 API client>\n",
       "Storage URL             : gs://vo_agam_release/\n",
       "Data releases available : 3.0\n",
       "Results cache           : None\n",
       "Cohorts analysis        : 20230223\n",
       "Species analysis        : aim_20220528\n",
       "Site filters analysis   : dt_20200416\n",
       "Software version        : malariagen_data 7.3.1\n",
       "Client location         : England, GB\n",
       "---\n",
       "Please note that data are subject to terms of use,\n",
       "for more information see https://www.malariagen.net/data\n",
       "or contact data@malariagen.net. For API documentation see \n",
       "https://malariagen.github.io/vector-data/ag3/api.html"
      ]
     },
     "execution_count": 3,
     "metadata": {},
     "output_type": "execute_result"
    }
   ],
   "source": [
    "ag3 = malariagen_data.Ag3()\n",
    "ag3"
   ]
  },
  {
   "cell_type": "markdown",
   "metadata": {},
   "source": [
    "### Sample sets"
   ]
  },
  {
   "cell_type": "code",
   "execution_count": 4,
   "metadata": {},
   "outputs": [],
   "source": [
    "release = \"3.1\""
   ]
  },
  {
   "cell_type": "code",
   "execution_count": 5,
   "metadata": {},
   "outputs": [
    {
     "data": {
      "application/javascript": [
       "\n",
       "(function(root) {\n",
       "  function now() {\n",
       "    return new Date();\n",
       "  }\n",
       "\n",
       "  var force = true;\n",
       "\n",
       "  if (typeof root._bokeh_onload_callbacks === \"undefined\" || force === true) {\n",
       "    root._bokeh_onload_callbacks = [];\n",
       "    root._bokeh_is_loading = undefined;\n",
       "  }\n",
       "\n",
       "  var JS_MIME_TYPE = 'application/javascript';\n",
       "  var HTML_MIME_TYPE = 'text/html';\n",
       "  var EXEC_MIME_TYPE = 'application/vnd.bokehjs_exec.v0+json';\n",
       "  var CLASS_NAME = 'output_bokeh rendered_html';\n",
       "\n",
       "  /**\n",
       "   * Render data to the DOM node\n",
       "   */\n",
       "  function render(props, node) {\n",
       "    var script = document.createElement(\"script\");\n",
       "    node.appendChild(script);\n",
       "  }\n",
       "\n",
       "  /**\n",
       "   * Handle when an output is cleared or removed\n",
       "   */\n",
       "  function handleClearOutput(event, handle) {\n",
       "    var cell = handle.cell;\n",
       "\n",
       "    var id = cell.output_area._bokeh_element_id;\n",
       "    var server_id = cell.output_area._bokeh_server_id;\n",
       "    // Clean up Bokeh references\n",
       "    if (id != null && id in Bokeh.index) {\n",
       "      Bokeh.index[id].model.document.clear();\n",
       "      delete Bokeh.index[id];\n",
       "    }\n",
       "\n",
       "    if (server_id !== undefined) {\n",
       "      // Clean up Bokeh references\n",
       "      var cmd = \"from bokeh.io.state import curstate; print(curstate().uuid_to_server['\" + server_id + \"'].get_sessions()[0].document.roots[0]._id)\";\n",
       "      cell.notebook.kernel.execute(cmd, {\n",
       "        iopub: {\n",
       "          output: function(msg) {\n",
       "            var id = msg.content.text.trim();\n",
       "            if (id in Bokeh.index) {\n",
       "              Bokeh.index[id].model.document.clear();\n",
       "              delete Bokeh.index[id];\n",
       "            }\n",
       "          }\n",
       "        }\n",
       "      });\n",
       "      // Destroy server and session\n",
       "      var cmd = \"import bokeh.io.notebook as ion; ion.destroy_server('\" + server_id + \"')\";\n",
       "      cell.notebook.kernel.execute(cmd);\n",
       "    }\n",
       "  }\n",
       "\n",
       "  /**\n",
       "   * Handle when a new output is added\n",
       "   */\n",
       "  function handleAddOutput(event, handle) {\n",
       "    var output_area = handle.output_area;\n",
       "    var output = handle.output;\n",
       "\n",
       "    // limit handleAddOutput to display_data with EXEC_MIME_TYPE content only\n",
       "    if ((output.output_type != \"display_data\") || (!Object.prototype.hasOwnProperty.call(output.data, EXEC_MIME_TYPE))) {\n",
       "      return\n",
       "    }\n",
       "\n",
       "    var toinsert = output_area.element.find(\".\" + CLASS_NAME.split(' ')[0]);\n",
       "\n",
       "    if (output.metadata[EXEC_MIME_TYPE][\"id\"] !== undefined) {\n",
       "      toinsert[toinsert.length - 1].firstChild.textContent = output.data[JS_MIME_TYPE];\n",
       "      // store reference to embed id on output_area\n",
       "      output_area._bokeh_element_id = output.metadata[EXEC_MIME_TYPE][\"id\"];\n",
       "    }\n",
       "    if (output.metadata[EXEC_MIME_TYPE][\"server_id\"] !== undefined) {\n",
       "      var bk_div = document.createElement(\"div\");\n",
       "      bk_div.innerHTML = output.data[HTML_MIME_TYPE];\n",
       "      var script_attrs = bk_div.children[0].attributes;\n",
       "      for (var i = 0; i < script_attrs.length; i++) {\n",
       "        toinsert[toinsert.length - 1].firstChild.setAttribute(script_attrs[i].name, script_attrs[i].value);\n",
       "        toinsert[toinsert.length - 1].firstChild.textContent = bk_div.children[0].textContent\n",
       "      }\n",
       "      // store reference to server id on output_area\n",
       "      output_area._bokeh_server_id = output.metadata[EXEC_MIME_TYPE][\"server_id\"];\n",
       "    }\n",
       "  }\n",
       "\n",
       "  function register_renderer(events, OutputArea) {\n",
       "\n",
       "    function append_mime(data, metadata, element) {\n",
       "      // create a DOM node to render to\n",
       "      var toinsert = this.create_output_subarea(\n",
       "        metadata,\n",
       "        CLASS_NAME,\n",
       "        EXEC_MIME_TYPE\n",
       "      );\n",
       "      this.keyboard_manager.register_events(toinsert);\n",
       "      // Render to node\n",
       "      var props = {data: data, metadata: metadata[EXEC_MIME_TYPE]};\n",
       "      render(props, toinsert[toinsert.length - 1]);\n",
       "      element.append(toinsert);\n",
       "      return toinsert\n",
       "    }\n",
       "\n",
       "    /* Handle when an output is cleared or removed */\n",
       "    events.on('clear_output.CodeCell', handleClearOutput);\n",
       "    events.on('delete.Cell', handleClearOutput);\n",
       "\n",
       "    /* Handle when a new output is added */\n",
       "    events.on('output_added.OutputArea', handleAddOutput);\n",
       "\n",
       "    /**\n",
       "     * Register the mime type and append_mime function with output_area\n",
       "     */\n",
       "    OutputArea.prototype.register_mime_type(EXEC_MIME_TYPE, append_mime, {\n",
       "      /* Is output safe? */\n",
       "      safe: true,\n",
       "      /* Index of renderer in `output_area.display_order` */\n",
       "      index: 0\n",
       "    });\n",
       "  }\n",
       "\n",
       "  // register the mime type if in Jupyter Notebook environment and previously unregistered\n",
       "  if (root.Jupyter !== undefined) {\n",
       "    var events = require('base/js/events');\n",
       "    var OutputArea = require('notebook/js/outputarea').OutputArea;\n",
       "\n",
       "    if (OutputArea.prototype.mime_types().indexOf(EXEC_MIME_TYPE) == -1) {\n",
       "      register_renderer(events, OutputArea);\n",
       "    }\n",
       "  }\n",
       "\n",
       "  \n",
       "  if (typeof (root._bokeh_timeout) === \"undefined\" || force === true) {\n",
       "    root._bokeh_timeout = Date.now() + 5000;\n",
       "    root._bokeh_failed_load = false;\n",
       "  }\n",
       "\n",
       "  var NB_LOAD_WARNING = {'data': {'text/html':\n",
       "     \"<div style='background-color: #fdd'>\\n\"+\n",
       "     \"<p>\\n\"+\n",
       "     \"BokehJS does not appear to have successfully loaded. If loading BokehJS from CDN, this \\n\"+\n",
       "     \"may be due to a slow or bad network connection. Possible fixes:\\n\"+\n",
       "     \"</p>\\n\"+\n",
       "     \"<ul>\\n\"+\n",
       "     \"<li>re-rerun `output_notebook()` to attempt to load from CDN again, or</li>\\n\"+\n",
       "     \"<li>use INLINE resources instead, as so:</li>\\n\"+\n",
       "     \"</ul>\\n\"+\n",
       "     \"<code>\\n\"+\n",
       "     \"from bokeh.resources import INLINE\\n\"+\n",
       "     \"output_notebook(resources=INLINE)\\n\"+\n",
       "     \"</code>\\n\"+\n",
       "     \"</div>\"}};\n",
       "\n",
       "  function display_loaded() {\n",
       "    var el = document.getElementById(null);\n",
       "    if (el != null) {\n",
       "      el.textContent = \"BokehJS is loading...\";\n",
       "    }\n",
       "    if (root.Bokeh !== undefined) {\n",
       "      if (el != null) {\n",
       "        el.textContent = \"BokehJS \" + root.Bokeh.version + \" successfully loaded.\";\n",
       "      }\n",
       "    } else if (Date.now() < root._bokeh_timeout) {\n",
       "      setTimeout(display_loaded, 100)\n",
       "    }\n",
       "  }\n",
       "\n",
       "\n",
       "  function run_callbacks() {\n",
       "    try {\n",
       "      root._bokeh_onload_callbacks.forEach(function(callback) {\n",
       "        if (callback != null)\n",
       "          callback();\n",
       "      });\n",
       "    } finally {\n",
       "      delete root._bokeh_onload_callbacks\n",
       "    }\n",
       "    console.debug(\"Bokeh: all callbacks have finished\");\n",
       "  }\n",
       "\n",
       "  function load_libs(css_urls, js_urls, callback) {\n",
       "    if (css_urls == null) css_urls = [];\n",
       "    if (js_urls == null) js_urls = [];\n",
       "\n",
       "    root._bokeh_onload_callbacks.push(callback);\n",
       "    if (root._bokeh_is_loading > 0) {\n",
       "      console.debug(\"Bokeh: BokehJS is being loaded, scheduling callback at\", now());\n",
       "      return null;\n",
       "    }\n",
       "    if (js_urls == null || js_urls.length === 0) {\n",
       "      run_callbacks();\n",
       "      return null;\n",
       "    }\n",
       "    console.debug(\"Bokeh: BokehJS not loaded, scheduling load and callback at\", now());\n",
       "    root._bokeh_is_loading = css_urls.length + js_urls.length;\n",
       "\n",
       "    function on_load() {\n",
       "      root._bokeh_is_loading--;\n",
       "      if (root._bokeh_is_loading === 0) {\n",
       "        console.debug(\"Bokeh: all BokehJS libraries/stylesheets loaded\");\n",
       "        run_callbacks()\n",
       "      }\n",
       "    }\n",
       "\n",
       "    function on_error(url) {\n",
       "      console.error(\"failed to load \" + url);\n",
       "    }\n",
       "\n",
       "    for (let i = 0; i < css_urls.length; i++) {\n",
       "      const url = css_urls[i];\n",
       "      const element = document.createElement(\"link\");\n",
       "      element.onload = on_load;\n",
       "      element.onerror = on_error.bind(null, url);\n",
       "      element.rel = \"stylesheet\";\n",
       "      element.type = \"text/css\";\n",
       "      element.href = url;\n",
       "      console.debug(\"Bokeh: injecting link tag for BokehJS stylesheet: \", url);\n",
       "      document.body.appendChild(element);\n",
       "    }\n",
       "\n",
       "    const hashes = {\"https://cdn.bokeh.org/bokeh/release/bokeh-2.3.3.min.js\": \"dM3QQsP+wXdHg42wTqW85BjZQdLNNIXqlPw/BgKoExPmTG7ZLML4EGqLMfqHT6ON\", \"https://cdn.bokeh.org/bokeh/release/bokeh-tables-2.3.3.min.js\": \"8x57I4YuIfu8XyZfFo0XVr2WAT8EK4rh/uDe3wF7YuW2FNUSNEpJbsPaB1nJ2fz2\", \"https://cdn.bokeh.org/bokeh/release/bokeh-widgets-2.3.3.min.js\": \"3QTqdz9LyAm2i0sG5XTePsHec3UHWwVsrOL68SYRoAXsafvfAyqtQ+h440+qIBhS\"};\n",
       "\n",
       "    for (let i = 0; i < js_urls.length; i++) {\n",
       "      const url = js_urls[i];\n",
       "      const element = document.createElement('script');\n",
       "      element.onload = on_load;\n",
       "      element.onerror = on_error.bind(null, url);\n",
       "      element.async = false;\n",
       "      element.src = url;\n",
       "      if (url in hashes) {\n",
       "        element.crossOrigin = \"anonymous\";\n",
       "        element.integrity = \"sha384-\" + hashes[url];\n",
       "      }\n",
       "      console.debug(\"Bokeh: injecting script tag for BokehJS library: \", url);\n",
       "      document.head.appendChild(element);\n",
       "    }\n",
       "  };\n",
       "\n",
       "  function inject_raw_css(css) {\n",
       "    const element = document.createElement(\"style\");\n",
       "    element.appendChild(document.createTextNode(css));\n",
       "    document.body.appendChild(element);\n",
       "  }\n",
       "\n",
       "  \n",
       "  var js_urls = [\"https://cdn.bokeh.org/bokeh/release/bokeh-2.3.3.min.js\", \"https://cdn.bokeh.org/bokeh/release/bokeh-widgets-2.3.3.min.js\", \"https://cdn.bokeh.org/bokeh/release/bokeh-tables-2.3.3.min.js\"];\n",
       "  var css_urls = [];\n",
       "  \n",
       "\n",
       "  var inline_js = [\n",
       "    function(Bokeh) {\n",
       "      Bokeh.set_log_level(\"info\");\n",
       "    },\n",
       "    function(Bokeh) {\n",
       "    \n",
       "    \n",
       "    }\n",
       "  ];\n",
       "\n",
       "  function run_inline_js() {\n",
       "    \n",
       "    if (root.Bokeh !== undefined || force === true) {\n",
       "      \n",
       "    for (var i = 0; i < inline_js.length; i++) {\n",
       "      inline_js[i].call(root, root.Bokeh);\n",
       "    }\n",
       "    } else if (Date.now() < root._bokeh_timeout) {\n",
       "      setTimeout(run_inline_js, 100);\n",
       "    } else if (!root._bokeh_failed_load) {\n",
       "      console.log(\"Bokeh: BokehJS failed to load within specified timeout.\");\n",
       "      root._bokeh_failed_load = true;\n",
       "    } else if (force !== true) {\n",
       "      var cell = $(document.getElementById(null)).parents('.cell').data().cell;\n",
       "      cell.output_area.append_execute_result(NB_LOAD_WARNING)\n",
       "    }\n",
       "\n",
       "  }\n",
       "\n",
       "  if (root._bokeh_is_loading === 0) {\n",
       "    console.debug(\"Bokeh: BokehJS loaded, going straight to plotting\");\n",
       "    run_inline_js();\n",
       "  } else {\n",
       "    load_libs(css_urls, js_urls, function() {\n",
       "      console.debug(\"Bokeh: BokehJS plotting callback run at\", now());\n",
       "      run_inline_js();\n",
       "    });\n",
       "  }\n",
       "}(window));"
      ],
      "application/vnd.bokehjs_load.v0+json": "\n(function(root) {\n  function now() {\n    return new Date();\n  }\n\n  var force = true;\n\n  if (typeof root._bokeh_onload_callbacks === \"undefined\" || force === true) {\n    root._bokeh_onload_callbacks = [];\n    root._bokeh_is_loading = undefined;\n  }\n\n  \n\n  \n  if (typeof (root._bokeh_timeout) === \"undefined\" || force === true) {\n    root._bokeh_timeout = Date.now() + 5000;\n    root._bokeh_failed_load = false;\n  }\n\n  var NB_LOAD_WARNING = {'data': {'text/html':\n     \"<div style='background-color: #fdd'>\\n\"+\n     \"<p>\\n\"+\n     \"BokehJS does not appear to have successfully loaded. If loading BokehJS from CDN, this \\n\"+\n     \"may be due to a slow or bad network connection. Possible fixes:\\n\"+\n     \"</p>\\n\"+\n     \"<ul>\\n\"+\n     \"<li>re-rerun `output_notebook()` to attempt to load from CDN again, or</li>\\n\"+\n     \"<li>use INLINE resources instead, as so:</li>\\n\"+\n     \"</ul>\\n\"+\n     \"<code>\\n\"+\n     \"from bokeh.resources import INLINE\\n\"+\n     \"output_notebook(resources=INLINE)\\n\"+\n     \"</code>\\n\"+\n     \"</div>\"}};\n\n  function display_loaded() {\n    var el = document.getElementById(null);\n    if (el != null) {\n      el.textContent = \"BokehJS is loading...\";\n    }\n    if (root.Bokeh !== undefined) {\n      if (el != null) {\n        el.textContent = \"BokehJS \" + root.Bokeh.version + \" successfully loaded.\";\n      }\n    } else if (Date.now() < root._bokeh_timeout) {\n      setTimeout(display_loaded, 100)\n    }\n  }\n\n\n  function run_callbacks() {\n    try {\n      root._bokeh_onload_callbacks.forEach(function(callback) {\n        if (callback != null)\n          callback();\n      });\n    } finally {\n      delete root._bokeh_onload_callbacks\n    }\n    console.debug(\"Bokeh: all callbacks have finished\");\n  }\n\n  function load_libs(css_urls, js_urls, callback) {\n    if (css_urls == null) css_urls = [];\n    if (js_urls == null) js_urls = [];\n\n    root._bokeh_onload_callbacks.push(callback);\n    if (root._bokeh_is_loading > 0) {\n      console.debug(\"Bokeh: BokehJS is being loaded, scheduling callback at\", now());\n      return null;\n    }\n    if (js_urls == null || js_urls.length === 0) {\n      run_callbacks();\n      return null;\n    }\n    console.debug(\"Bokeh: BokehJS not loaded, scheduling load and callback at\", now());\n    root._bokeh_is_loading = css_urls.length + js_urls.length;\n\n    function on_load() {\n      root._bokeh_is_loading--;\n      if (root._bokeh_is_loading === 0) {\n        console.debug(\"Bokeh: all BokehJS libraries/stylesheets loaded\");\n        run_callbacks()\n      }\n    }\n\n    function on_error(url) {\n      console.error(\"failed to load \" + url);\n    }\n\n    for (let i = 0; i < css_urls.length; i++) {\n      const url = css_urls[i];\n      const element = document.createElement(\"link\");\n      element.onload = on_load;\n      element.onerror = on_error.bind(null, url);\n      element.rel = \"stylesheet\";\n      element.type = \"text/css\";\n      element.href = url;\n      console.debug(\"Bokeh: injecting link tag for BokehJS stylesheet: \", url);\n      document.body.appendChild(element);\n    }\n\n    const hashes = {\"https://cdn.bokeh.org/bokeh/release/bokeh-2.3.3.min.js\": \"dM3QQsP+wXdHg42wTqW85BjZQdLNNIXqlPw/BgKoExPmTG7ZLML4EGqLMfqHT6ON\", \"https://cdn.bokeh.org/bokeh/release/bokeh-tables-2.3.3.min.js\": \"8x57I4YuIfu8XyZfFo0XVr2WAT8EK4rh/uDe3wF7YuW2FNUSNEpJbsPaB1nJ2fz2\", \"https://cdn.bokeh.org/bokeh/release/bokeh-widgets-2.3.3.min.js\": \"3QTqdz9LyAm2i0sG5XTePsHec3UHWwVsrOL68SYRoAXsafvfAyqtQ+h440+qIBhS\"};\n\n    for (let i = 0; i < js_urls.length; i++) {\n      const url = js_urls[i];\n      const element = document.createElement('script');\n      element.onload = on_load;\n      element.onerror = on_error.bind(null, url);\n      element.async = false;\n      element.src = url;\n      if (url in hashes) {\n        element.crossOrigin = \"anonymous\";\n        element.integrity = \"sha384-\" + hashes[url];\n      }\n      console.debug(\"Bokeh: injecting script tag for BokehJS library: \", url);\n      document.head.appendChild(element);\n    }\n  };\n\n  function inject_raw_css(css) {\n    const element = document.createElement(\"style\");\n    element.appendChild(document.createTextNode(css));\n    document.body.appendChild(element);\n  }\n\n  \n  var js_urls = [\"https://cdn.bokeh.org/bokeh/release/bokeh-2.3.3.min.js\", \"https://cdn.bokeh.org/bokeh/release/bokeh-widgets-2.3.3.min.js\", \"https://cdn.bokeh.org/bokeh/release/bokeh-tables-2.3.3.min.js\"];\n  var css_urls = [];\n  \n\n  var inline_js = [\n    function(Bokeh) {\n      Bokeh.set_log_level(\"info\");\n    },\n    function(Bokeh) {\n    \n    \n    }\n  ];\n\n  function run_inline_js() {\n    \n    if (root.Bokeh !== undefined || force === true) {\n      \n    for (var i = 0; i < inline_js.length; i++) {\n      inline_js[i].call(root, root.Bokeh);\n    }\n    } else if (Date.now() < root._bokeh_timeout) {\n      setTimeout(run_inline_js, 100);\n    } else if (!root._bokeh_failed_load) {\n      console.log(\"Bokeh: BokehJS failed to load within specified timeout.\");\n      root._bokeh_failed_load = true;\n    } else if (force !== true) {\n      var cell = $(document.getElementById(null)).parents('.cell').data().cell;\n      cell.output_area.append_execute_result(NB_LOAD_WARNING)\n    }\n\n  }\n\n  if (root._bokeh_is_loading === 0) {\n    console.debug(\"Bokeh: BokehJS loaded, going straight to plotting\");\n    run_inline_js();\n  } else {\n    load_libs(css_urls, js_urls, function() {\n      console.debug(\"Bokeh: BokehJS plotting callback run at\", now());\n      run_inline_js();\n    });\n  }\n}(window));"
     },
     "metadata": {},
     "output_type": "display_data"
    },
    {
     "data": {
      "text/html": [
       "<div>\n",
       "<style scoped>\n",
       "    .dataframe tbody tr th:only-of-type {\n",
       "        vertical-align: middle;\n",
       "    }\n",
       "\n",
       "    .dataframe tbody tr th {\n",
       "        vertical-align: top;\n",
       "    }\n",
       "\n",
       "    .dataframe thead th {\n",
       "        text-align: right;\n",
       "    }\n",
       "</style>\n",
       "<table border=\"1\" class=\"dataframe\">\n",
       "  <thead>\n",
       "    <tr style=\"text-align: right;\">\n",
       "      <th></th>\n",
       "      <th>sample_set</th>\n",
       "      <th>sample_count</th>\n",
       "      <th>release</th>\n",
       "    </tr>\n",
       "  </thead>\n",
       "  <tbody>\n",
       "    <tr>\n",
       "      <th>0</th>\n",
       "      <td>1177-VO-ML-LEHMANN-VMF00004</td>\n",
       "      <td>647</td>\n",
       "      <td>3.1</td>\n",
       "    </tr>\n",
       "  </tbody>\n",
       "</table>\n",
       "</div>"
      ],
      "text/plain": [
       "                    sample_set  sample_count release\n",
       "0  1177-VO-ML-LEHMANN-VMF00004           647     3.1"
      ]
     },
     "execution_count": 5,
     "metadata": {},
     "output_type": "execute_result"
    }
   ],
   "source": [
    "df_sample_sets = ag3.sample_sets(release=release)\n",
    "df_sample_sets"
   ]
  },
  {
   "cell_type": "markdown",
   "metadata": {},
   "source": [
    "For more examples see the [*Ag3.0* cloud data access](download) guide, replacing the release version for `3.1`. "
   ]
  },
  {
   "cell_type": "markdown",
   "metadata": {},
   "source": [
    "## Data - downloads"
   ]
  },
  {
   "cell_type": "markdown",
   "metadata": {
    "id": "t1wyCDH5nvpS"
   },
   "source": [
    "### Sample sets\n",
    "\n",
    "Data in this release are organised into 1 sample set. This sample set corresponds to a set of mosquito specimens contributed by a collaborating study. For convenience there is a tab-delimited manifest file listing all sample sets in the release. Here is a direct download link for the sample set manifest:\n",
    "\n",
    "* [https://storage.googleapis.com/vo_agam_release/v3.1/manifest.tsv](https://storage.googleapis.com/vo_agam_release/v3.1/manifest.tsv)\n",
    "\n",
    "The sample set manifest can also be downloaded via `gsutil` to a directory on the local file system, e.g.:"
   ]
  },
  {
   "cell_type": "code",
   "execution_count": 6,
   "metadata": {
    "colab": {
     "base_uri": "https://localhost:8080/"
    },
    "id": "rsX4TP6UnvpS",
    "outputId": "a9afc995-80b7-4f62-ad0b-b4d95822cf38",
    "tags": [
     "hide-output"
    ]
   },
   "outputs": [
    {
     "name": "stdout",
     "output_type": "stream",
     "text": [
      "Copying gs://vo_agam_release/v3.1/manifest.tsv...\n",
      "/ [1 files][   56.0 B/   56.0 B]                                                \n",
      "Operation completed over 1 objects/56.0 B.                                       \n"
     ]
    }
   ],
   "source": [
    "!mkdir -pv ~/vo_agam_release/v3.1/\n",
    "!gsutil cp gs://vo_agam_release/v3.1/manifest.tsv ~/vo_agam_release/v3.1/"
   ]
  },
  {
   "cell_type": "markdown",
   "metadata": {
    "id": "hWOAFxIDnvpT"
   },
   "source": [
    "Here are the file contents:"
   ]
  },
  {
   "cell_type": "code",
   "execution_count": 7,
   "metadata": {
    "colab": {
     "base_uri": "https://localhost:8080/"
    },
    "id": "vC4ACrTEnvpT",
    "outputId": "c7cfe64a-9a78-42ea-dbd9-9cc82410372d"
   },
   "outputs": [
    {
     "name": "stdout",
     "output_type": "stream",
     "text": [
      "sample_set\tsample_count\r\n",
      "1177-VO-ML-LEHMANN-VMF00004\t647\r\n"
     ]
    }
   ],
   "source": [
    "!cat ~/vo_agam_release/v3.1/manifest.tsv"
   ]
  },
  {
   "cell_type": "markdown",
   "metadata": {
    "id": "5hXT_c0pnvpU"
   },
   "source": [
    "For more information about these sample sets, see the section on sample sets in the [introduction to Ag1000G phase 3](intro)."
   ]
  },
  {
   "cell_type": "markdown",
   "metadata": {
    "id": "D0m-HL43nvpU"
   },
   "source": [
    "## Sample metadata\n",
    "\n",
    "Data about the samples that were sequenced to generate this data resource are available, including the time and place of collection, the gender of the specimen, and our call regarding the species of the specimen.\n",
    "\n",
    "### Specimen collection metadata\n",
    "\n",
    "Specimen collection metadata can be downloaded from GCS. Here is the download link for the sample metadata for sample set `1177-VO-ML-LEHMANN-VMF00004`:\n",
    "\n",
    "* [https://storage.googleapis.com/vo_agam_release/v3.1/metadata/general/1177-VO-ML-LEHMANN-VMF00004/samples.meta.csv](https://storage.googleapis.com/vo_agam_release/v3.1/metadata/general/1177-VO-ML-LEHMANN-VMF00004/samples.meta.csv)\n",
    "\n",
    "Sample metadata for all sample sets can also be downloaded using `gsutil`:"
   ]
  },
  {
   "cell_type": "code",
   "execution_count": 8,
   "metadata": {
    "colab": {
     "base_uri": "https://localhost:8080/"
    },
    "id": "CsQVgCl7nvpV",
    "outputId": "e0409bcb-5eca-4b1b-e703-e968508f3aec",
    "tags": [
     "hide-output"
    ]
   },
   "outputs": [],
   "source": [
    "!mkdir -pv ~/vo_agam_release/v3.1/metadata/\n",
    "!gsutil -m rsync -r gs://vo_agam_release/v3.1/metadata/ ~/vo_agam_release/v3.1/metadata/"
   ]
  },
  {
   "cell_type": "markdown",
   "metadata": {
    "id": "R7GeyShRnvpV"
   },
   "source": [
    "Here are the first few rows of the sample metadata for sample set `1177-VO-ML-LEHMANN-VMF00004`:"
   ]
  },
  {
   "cell_type": "code",
   "execution_count": 9,
   "metadata": {
    "colab": {
     "base_uri": "https://localhost:8080/"
    },
    "id": "dhKjnl6knvpW",
    "outputId": "6345e845-5288-41a1-e877-5417559b8c6c"
   },
   "outputs": [
    {
     "name": "stdout",
     "output_type": "stream",
     "text": [
      "sample_id,partner_sample_id,contributor,country,location,year,month,latitude,longitude,sex_call\r\n",
      "VBS00256-4651STDY7017184,GP97,Tovi Lehmann,Mali,Dallowere,2012,6,13.616,-7.037,F\r\n",
      "VBS00257-4651STDY7017185,GP98,Tovi Lehmann,Mali,Dallowere,2012,6,13.616,-7.037,F\r\n",
      "VBS00259-4651STDY7017186,GP100,Tovi Lehmann,Mali,Dallowere,2012,6,13.616,-7.037,F\r\n",
      "VBS00262-4651STDY7017187,GP103,Tovi Lehmann,Mali,Dallowere,2012,6,13.616,-7.037,F\r\n",
      "VBS00277-4651STDY7017189,GP118,Tovi Lehmann,Mali,Dallowere,2012,6,13.616,-7.037,F\r\n",
      "VBS00288-4651STDY7017191,GP129,Tovi Lehmann,Mali,Dallowere,2012,6,13.616,-7.037,F\r\n",
      "VBS00289-4651STDY7017192,GP130,Tovi Lehmann,Mali,Dallowere,2012,6,13.616,-7.037,F\r\n",
      "VBS00293-4651STDY7017193,GP134,Tovi Lehmann,Mali,Dallowere,2012,6,13.616,-7.037,F\r\n",
      "VBS00309-4651STDY7017194,GP150,Tovi Lehmann,Mali,Dallowere,2012,6,13.616,-7.037,F\r\n"
     ]
    }
   ],
   "source": [
    "!head ~/vo_agam_release/v3.1/metadata/general/1177-VO-ML-LEHMANN-VMF00004/samples.meta.csv"
   ]
  },
  {
   "cell_type": "markdown",
   "metadata": {
    "id": "VKki7qHunvpW"
   },
   "source": [
    "The `sample_id` columns gives the sample identifier used throughout all Ag1000G analyses.\n",
    "\n",
    "The `country`, `location`, `latitude` and `longitude` columns give the location where the specimen was collected.\n",
    "\n",
    "The `year` and `month` columns give the approximate date when the specimen was collected.\n",
    "\n",
    "The `sex_call` column gives the gender as determined from the sequence data."
   ]
  },
  {
   "cell_type": "markdown",
   "metadata": {
    "id": "hRrqV5NhnvpW"
   },
   "source": [
    "### Species calls\n",
    "\n",
    "We have made a preliminary call for each specimen as to which species it belongs to (*Anopheles gambiae*, *Anopheles coluzzii*, *Anopheles arabiensis*) based on the genotypes of the samples. These calls were made from the sequence data, and there are cases where the species is not easy to determine. We report species calls using ancestry informative markers (AIMs). \n",
    "\n",
    "AIM species calls can be downloaded from GCS. For sample set `1177-VO-ML-LEHMANN-VMF00004`:\n",
    "\n",
    "* [https://storage.googleapis.com/vo_agam_release/v3.1/metadata/species_calls_aim_20220528/1177-VO-ML-LEHMANN-VMF00004/samples.species_aim.csv](https://storage.googleapis.com/vo_agam_release/v3.1/metadata/species_calls_aim_20220528/1177-VO-ML-LEHMANN-VMF00004/samples.species_aim.csv)\n",
    "\n",
    "Alternatively if you ran the `gsutil rsync` command above to download sample metadata then this file will already be present on your local file system.\n",
    "\n",
    "Here are the first few rows of the AIM species calls for sample set `1177-VO-ML-LEHMANN-VMF00004`:"
   ]
  },
  {
   "cell_type": "code",
   "execution_count": 10,
   "metadata": {
    "colab": {
     "base_uri": "https://localhost:8080/"
    },
    "id": "UFQK_eHRnvpX",
    "outputId": "09a4f313-682e-42e1-9c05-7aaa658d707e"
   },
   "outputs": [
    {
     "name": "stdout",
     "output_type": "stream",
     "text": [
      "sample_id,aim_species_fraction_arab,aim_species_fraction_colu,aim_species_fraction_colu_no2L,aim_species_gambcolu_arabiensis,aim_species_gambiae_coluzzii,aim_species\r\n",
      "VBS00256-4651STDY7017184,0.002,0.858,0.973,gambcolu,coluzzii,coluzzii\r\n",
      "VBS00257-4651STDY7017185,0.002,0.977,0.982,gambcolu,coluzzii,coluzzii\r\n",
      "VBS00259-4651STDY7017186,0.001,0.917,0.974,gambcolu,coluzzii,coluzzii\r\n",
      "VBS00262-4651STDY7017187,0.002,0.860,0.974,gambcolu,coluzzii,coluzzii\r\n",
      "VBS00277-4651STDY7017189,0.002,0.924,0.984,gambcolu,coluzzii,coluzzii\r\n",
      "VBS00288-4651STDY7017191,0.001,0.858,0.976,gambcolu,coluzzii,coluzzii\r\n",
      "VBS00289-4651STDY7017192,0.002,0.923,0.983,gambcolu,coluzzii,coluzzii\r\n",
      "VBS00293-4651STDY7017193,0.001,0.867,0.984,gambcolu,coluzzii,coluzzii\r\n",
      "VBS00309-4651STDY7017194,0.001,0.908,0.974,gambcolu,coluzzii,coluzzii\r\n"
     ]
    }
   ],
   "source": [
    "!head ~/vo_agam_release/v3.1/metadata/species_calls_aim_20220528/1177-VO-ML-LEHMANN-VMF00004/samples.species_aim.csv"
   ]
  },
  {
   "cell_type": "markdown",
   "metadata": {
    "id": "NfBB-8SWnvpX"
   },
   "source": [
    "The `species_gambcolu_arabiensis` column provides a call as to whether the specimen is arabiensis or not (gamb_colu).\n",
    "\n",
    "The `species_gambiae_coluzzii` column applies to samples that are not arabiensis, and differentiates gambiae versus coluzzii."
   ]
  },
  {
   "cell_type": "markdown",
   "metadata": {
    "id": "C9Z8ng9jnvpY"
   },
   "source": [
    "## Sequence read alignments (BAM format)\n",
    "\n",
    "Analysis-ready sequence read alignments are available in BAM format for all samples in the release and can be downloaded from S3-compatible storage hosted at WSI. A catalog file mapping sample identifiers to download URLs is included as part of the metadata. To obtain the catalog files, download the sample metadata as shown above.\n",
    "\n",
    "For example, here are the first few rows of the catalog file for a chosen sample set, showing the `sample_id` and `alignments_bam` columns:"
   ]
  },
  {
   "cell_type": "code",
   "execution_count": 11,
   "metadata": {
    "colab": {
     "base_uri": "https://localhost:8080/"
    },
    "id": "BNWuMihsnvpY",
    "outputId": "41e09439-6189-4bb7-ef0d-8bf8918ac95a"
   },
   "outputs": [
    {
     "name": "stdout",
     "output_type": "stream",
     "text": [
      "sample_id,alignments_bam\r\n",
      "VBS00256-4651STDY7017184,https://1177-vo-ml-lehmann-vmf00004.cog.sanger.ac.uk/VBS00256-4651STDY7017184.fixmate.bam\r\n",
      "VBS00257-4651STDY7017185,https://1177-vo-ml-lehmann-vmf00004.cog.sanger.ac.uk/VBS00257-4651STDY7017185.fixmate.bam\r\n",
      "VBS00259-4651STDY7017186,https://1177-vo-ml-lehmann-vmf00004.cog.sanger.ac.uk/VBS00259-4651STDY7017186.fixmate.bam\r\n",
      "VBS00262-4651STDY7017187,https://1177-vo-ml-lehmann-vmf00004.cog.sanger.ac.uk/VBS00262-4651STDY7017187.fixmate.bam\r\n",
      "VBS00277-4651STDY7017189,https://1177-vo-ml-lehmann-vmf00004.cog.sanger.ac.uk/VBS00277-4651STDY7017189.fixmate.bam\r\n",
      "VBS00288-4651STDY7017191,https://1177-vo-ml-lehmann-vmf00004.cog.sanger.ac.uk/VBS00288-4651STDY7017191.fixmate.bam\r\n",
      "VBS00289-4651STDY7017192,https://1177-vo-ml-lehmann-vmf00004.cog.sanger.ac.uk/VBS00289-4651STDY7017192.fixmate.bam\r\n",
      "VBS00293-4651STDY7017193,https://1177-vo-ml-lehmann-vmf00004.cog.sanger.ac.uk/VBS00293-4651STDY7017193.fixmate.bam\r\n",
      "VBS00309-4651STDY7017194,https://1177-vo-ml-lehmann-vmf00004.cog.sanger.ac.uk/VBS00309-4651STDY7017194.fixmate.bam\r\n"
     ]
    }
   ],
   "source": [
    "!head ~/vo_agam_release/v3.1/metadata/general/1177-VO-ML-LEHMANN-VMF00004/wgs_snp_data.csv | cut -d, -f1,2"
   ]
  },
  {
   "cell_type": "markdown",
   "metadata": {},
   "source": [
    "Each row provides information about a sample, and the value of the alignments_bam field gives the download URL for the BAM file. To download a file locally, you can use `wget`, e.g.:\n"
   ]
  },
  {
   "cell_type": "code",
   "execution_count": null,
   "metadata": {},
   "outputs": [],
   "source": [
    "!wget --no-clobber https://1177-vo-ml-lehmann-vmf00004.cog.sanger.ac.uk/VBS00256-4651STDY7017184.fixmate.bam   "
   ]
  },
  {
   "cell_type": "markdown",
   "metadata": {
    "id": "X4rogNQenvpZ"
   },
   "source": [
    "Note that BAM files are relatively large, approximately 10G per sample, so they may take a long time to download, and may require a substantial amount of disk space on your local system."
   ]
  },
  {
   "cell_type": "markdown",
   "metadata": {
    "id": "EpMi0q3dnvpZ"
   },
   "source": [
    "## SNP calls (VCF format)\n",
    "\n",
    "### SNP genotypes\n",
    "\n",
    "SNP genotypes for individual mosquitoes in VCF format are available for download from WSI S3-compatible object storage. A VCF file is available for each individual sample. To download a VCF file for a given sample, you will need the sample identifier and the sample set in which the sample belongs. Then inspect the data catalog in the metadata. \n",
    "\n",
    "The download links for the VCF files is given by the `snp_genotypes_vcf` field in the catalog file.\n",
    "\n",
    "For example, here are the first few rows of the catalog file for the sample set `1177-VO-ML-LEHMANN-VMF00004`, this time showing the `sample_id` and `snp_genotypes_vcf` columns:"
   ]
  },
  {
   "cell_type": "code",
   "execution_count": 12,
   "metadata": {},
   "outputs": [
    {
     "name": "stdout",
     "output_type": "stream",
     "text": [
      "sample_id,snp_genotypes_vcf\r\n",
      "VBS00256-4651STDY7017184,https://1177-vo-ml-lehmann-vmf00004.cog.sanger.ac.uk/VBS00256-4651STDY7017184.vcf.gz\r\n",
      "VBS00257-4651STDY7017185,https://1177-vo-ml-lehmann-vmf00004.cog.sanger.ac.uk/VBS00257-4651STDY7017185.vcf.gz\r\n",
      "VBS00259-4651STDY7017186,https://1177-vo-ml-lehmann-vmf00004.cog.sanger.ac.uk/VBS00259-4651STDY7017186.vcf.gz\r\n",
      "VBS00262-4651STDY7017187,https://1177-vo-ml-lehmann-vmf00004.cog.sanger.ac.uk/VBS00262-4651STDY7017187.vcf.gz\r\n",
      "VBS00277-4651STDY7017189,https://1177-vo-ml-lehmann-vmf00004.cog.sanger.ac.uk/VBS00277-4651STDY7017189.vcf.gz\r\n",
      "VBS00288-4651STDY7017191,https://1177-vo-ml-lehmann-vmf00004.cog.sanger.ac.uk/VBS00288-4651STDY7017191.vcf.gz\r\n",
      "VBS00289-4651STDY7017192,https://1177-vo-ml-lehmann-vmf00004.cog.sanger.ac.uk/VBS00289-4651STDY7017192.vcf.gz\r\n",
      "VBS00293-4651STDY7017193,https://1177-vo-ml-lehmann-vmf00004.cog.sanger.ac.uk/VBS00293-4651STDY7017193.vcf.gz\r\n",
      "VBS00309-4651STDY7017194,https://1177-vo-ml-lehmann-vmf00004.cog.sanger.ac.uk/VBS00309-4651STDY7017194.vcf.gz\r\n"
     ]
    }
   ],
   "source": [
    "!head ~/vo_agam_release/v3.1/metadata/general/1177-VO-ML-LEHMANN-VMF00004/wgs_snp_data.csv | cut -f1,4 -d,"
   ]
  },
  {
   "cell_type": "markdown",
   "metadata": {},
   "source": [
    "Each row provides information about a sample, and the value of the snp_genotypes_vcf field gives the download URL for the VCF file for this sample. To download a file locally, use `wget`, e.g.:"
   ]
  },
  {
   "cell_type": "code",
   "execution_count": null,
   "metadata": {
    "id": "FoDeUjd3nvpZ",
    "tags": [
     "hide-output"
    ]
   },
   "outputs": [],
   "source": [
    "!wget --no-clobber https://1177-vo-ml-lehmann-vmf00004.cog.sanger.ac.uk/VBS00256-4651STDY7017184.vcf.gz\n",
    "!wget --no-clobber https://1177-vo-ml-lehmann-vmf00004.cog.sanger.ac.uk/VBS00256-4651STDY7017184.vcf.gz.tbi\n",
    "\n",
    "!wget --no-clobber https://1177-vo-ml-lehmann-vmf00004.cog.sanger.ac.uk/VBS00257-4651STDY7017185.vcf.gz\n",
    "!wget --no-clobber https://1177-vo-ml-lehmann-vmf00004.cog.sanger.ac.uk/VBS00257-4651STDY7017185.vcf.gz.tbi"
   ]
  },
  {
   "cell_type": "markdown",
   "metadata": {
    "id": "rd1icA5Snvpa"
   },
   "source": [
    "Note that each of these VCF files is around 3 Gb, so downloading may take some time, and sufficient local storage will be needed.\n",
    "\n",
    "Each of these VCF files is an \"all sites\" VCF file, meaning that genotypes have been called at all genomic positions where the reference nucleotide is not \"N\", regardless of whether variation is observed in the given sample. This means that VCFs from multiple samples can be merged easily to create a multi-sample VCF, which may be required for certain analyses. For example, the code below merges VCFs for three samples for chromosome arm 3R up to 1 Mbp: "
   ]
  },
  {
   "cell_type": "code",
   "execution_count": 13,
   "metadata": {
    "id": "RcWJS9XJnvpa",
    "tags": [
     "hide-output"
    ]
   },
   "outputs": [],
   "source": [
    "!bcftools merge --output-type z --regions 3R:1-1000000 --output merged.vcf.gz VBS00256-4651STDY7017184.vcf.gz VBS00257-4651STDY7017185.vcf.gz "
   ]
  },
  {
   "cell_type": "markdown",
   "metadata": {
    "id": "un-0qdeEnvpa"
   },
   "source": [
    "If you are just interested in analysing variants within a given set of samples, you might like to filter the merged VCF to remove non-variant sites and alleles, e.g., using [bcftools view](http://samtools.github.io/bcftools/bcftools.html#view):"
   ]
  },
  {
   "cell_type": "code",
   "execution_count": 14,
   "metadata": {
    "id": "tQ7ZQEQznvpa"
   },
   "outputs": [],
   "source": [
    "!bcftools view --output-type z --output-file merged_variant.vcf.gz --min-ac 1:nonmajor --trim-alt-alleles merged.vcf.gz"
   ]
  },
  {
   "cell_type": "markdown",
   "metadata": {},
   "source": [
    "### Site filters\n",
    "\n",
    "SNP calling is not always reliable, and we have created some site filters to allow excluding low quality SNPs. We have created some sites-only VCF files with site filter information in the `FILTER` column. These VCF files are hosted on GCS. \n",
    "\n",
    "Because different species may have different genome accessibility issues, we have created three separate site filters:\n",
    "\n",
    "* The `gamb_colu` site filter is designed for working only with samples that are not *An. arabiensis*.\n",
    "* The `arab` filter is designed for when only working with samples that are *An. arabiensis*.\n",
    "* The `gamb_colu_arab` filter is suitable for when analysing samples of any species together.\n",
    "\n",
    "Each filter is available as a set of VCF files, one per chromosome arm. E.g., here is the direct download link for the gamb_colu_arab filters on chromosome arm 3R:\n",
    "\n",
    "* [https://storage.googleapis.com/vo_agam_release/v3/site_filters/dt_20200416/vcf/gamb_colu_arab/3R_sitefilters.vcf.gz](https://storage.googleapis.com/vo_agam_release/v3/site_filters/dt_20200416/vcf/gamb_colu_arab/3R_sitefilters.vcf.gz)\n",
    "\n",
    "Alternatively, all site filters VCFs can be downloaded using `gsutil`, e.g.:\n",
    "\n",
    "<!--\n",
    "\n",
    "@@TODO describe how to use site filters VCFs with the genotypes VCF.\n",
    "\n",
    "-->"
   ]
  },
  {
   "cell_type": "code",
   "execution_count": null,
   "metadata": {},
   "outputs": [],
   "source": [
    "!mkdir -pv ~/vo_agam_release/v3/site_filters/dt_20200416/vcf/\n",
    "!gsutil -m rsync -r \\\n",
    "    gs://vo_agam_release/v3/site_filters/dt_20200416/vcf/ \\\n",
    "    ~/vo_agam_release/v3/site_filters/dt_20200416/vcf/"
   ]
  },
  {
   "cell_type": "markdown",
   "metadata": {},
   "source": [
    "**Note the data on the genomic positions (sites) are the same as they were for Ag1000G phase 3.**"
   ]
  },
  {
   "cell_type": "markdown",
   "metadata": {
    "id": "OBXGXzj9nvpb"
   },
   "source": [
    "## SNP calls (Zarr format)\n",
    "\n",
    "SNP data are also available in Zarr format, which can be convenient and efficient to use for certain types of analysis. These data can be analysed directly in the cloud without downloading to the local system, see the [Ag3 cloud data access guide](cloud) for more information. The data can also be downloaded to your own system for local analysis if that is more convenient. Below are examples of how to download the Zarr data to your local system.\n",
    "\n",
    "The data are organised into several Zarr hierarchies. \n",
    "\n",
    "### SNP sites and alleles\n",
    "\n",
    "Data on the genomic positions (sites) and reference and alternate alleles that were genotyped can be downloaded as follows:"
   ]
  },
  {
   "cell_type": "code",
   "execution_count": null,
   "metadata": {},
   "outputs": [],
   "source": [
    "!mkdir -pv ~/vo_agam_release/v3/snp_genotypes/all/sites/\n",
    "!gsutil -m rsync -r \\\n",
    "    gs://vo_agam_release/v3/snp_genotypes/all/sites/ \\\n",
    "    ~/vo_agam_release/v3/snp_genotypes/all/sites/"
   ]
  },
  {
   "cell_type": "markdown",
   "metadata": {},
   "source": [
    "### Site filters\n",
    "\n",
    "SNP calling is not always reliable, and we have created some site filters to allow excluding low quality SNPs. To download site filters data in Zarr format, excluding some parts of the data that you probably won't need:"
   ]
  },
  {
   "cell_type": "code",
   "execution_count": null,
   "metadata": {},
   "outputs": [],
   "source": [
    "!mkdir -pv ~/vo_agam_release/v3/site_filters/\n",
    "!gsutil -m rsync -r \\\n",
    "    -x '.*vcf.*|.*crosses_stats.*|.*[MG]Q10.*|.*[MG]Q30.*|.*[MG]Q_mean.*|.*[MG]Q_std.*|.*/lo_.*|.*/hi_.*|.*no_cov.*|.*allele_consistency.*|.*heterozygosity.*' \\\n",
    "    gs://vo_agam_release/v3/site_filters/ \\\n",
    "    ~/vo_agam_release/v3/site_filters/"
   ]
  },
  {
   "cell_type": "markdown",
   "metadata": {
    "id": "vKfArxCFnvpb"
   },
   "source": [
    "### SNP genotypes\n",
    "\n",
    "SNP genotypes are available for each sample set separately. E.g., to download SNP genotypes in Zarr format for sample set `1177-VO-ML-LEHMANN-VMF00004`, excluding some data you probably won't need:"
   ]
  },
  {
   "cell_type": "code",
   "execution_count": null,
   "metadata": {
    "id": "umeGFe1jnvpb",
    "tags": [
     "hide-output"
    ]
   },
   "outputs": [],
   "source": [
    "!mkdir -pv ~/vo_agam_release/v3.1/snp_genotypes/all/1177-VO-ML-LEHMANN-VMF00004/\n",
    "!gsutil -m rsync -r \\\n",
    "        -x '.*/calldata/(AD|GQ|MQ)/.*' \\\n",
    "        gs://vo_agam_release/v3.1/snp_genotypes/all/1177-VO-ML-LEHMANN-VMF00004/ \\\n",
    "        ~/vo_agam_release/v3.1/snp_genotypes/all/1177-VO-ML-LEHMANN-VMF00004/"
   ]
  },
  {
   "cell_type": "markdown",
   "metadata": {
    "id": "o3ALEZyZnvpb"
   },
   "source": [
    "## Copy number variation (CNV) data\n",
    "\n",
    "Data on copy number variation within the `Ag3.1` cohort are available as three separate data types:\n",
    "\n",
    "* **HMM** -- Genome-wide inferences of copy number state within each individual mosquito in 300 bp non-overlapping windows.\n",
    "* **Coverage calls** -- Genome-wide copy number variant calls, derived from the HMM outputs by analysing contiguous regions of elevated copy number state then clustering of variants across individuals based on breakpoint proximity.\n",
    "* **Discordant read calls** -- Copy number variant calls at selected insecticide resistance loci, based on analysis of read alignments at CNV breakpoints.\n",
    "\n",
    "For more information on the methods used to generate these data, see the [variant-calling methods](methods) page.\n",
    "\n",
    "For each of these data types, data can be downloaded from Google Cloud Storage, and are available in either VCF or Zarr format."
   ]
  },
  {
   "cell_type": "markdown",
   "metadata": {
    "id": "z4vzTYvEnvpc"
   },
   "source": [
    "### CNV HMM\n",
    "\n",
    "The HMM inferences of copy number state are available in VCF, Zarr and text formats, and are organised by sample set. \n",
    "\n",
    "For example, the VCF file for sample set `1177-VO-ML-LEHMANN-VMF00004` can be downloaded from the following URL:\n",
    "\n",
    "* [https://storage.googleapis.com/vo_agam_release/v3.1/cnv/1177-VO-ML-LEHMANN-VMF00004/hmm/vcf/1177-VO-ML-LEHMANN-VMF00004_cnv_hmm.vcf.gz](https://storage.googleapis.com/vo_agam_release/v3.1/cnv/1177-VO-ML-LEHMANN-VMF00004/hmm/vcf/1177-VO-ML-LEHMANN-VMF00004_cnv_hmm.vcf.gz)\n",
    "\n",
    "VCF files for all samples sets can be downloaded via gsutil as follows:"
   ]
  },
  {
   "cell_type": "code",
   "execution_count": null,
   "metadata": {
    "id": "bA-PIJaWnvpc"
   },
   "outputs": [],
   "source": [
    "# create a local directory to hold downloaded CNV data\n",
    "!mkdir -pv ~/vo_agam_release/v3.1/cnv/"
   ]
  },
  {
   "cell_type": "code",
   "execution_count": null,
   "metadata": {
    "id": "2EFQKAXHnvpc"
   },
   "outputs": [],
   "source": [
    "# download the HMM data in VCF format for all sample sets\n",
    "!gsutil -m rsync -r \\\n",
    "    -x '.*/coverage_calls/.*|.*/discordant_read_calls/.*|.*/hmm/zarr/.*|.*/hmm/per_sample/.*' \\\n",
    "    gs://vo_agam_release/v3.1/cnv/ ~/vo_agam_release/v3.1/cnv/"
   ]
  },
  {
   "cell_type": "markdown",
   "metadata": {
    "id": "p4IWcfRJnvpc"
   },
   "source": [
    "Zarr files for all sample sets can be downloaded as follows:"
   ]
  },
  {
   "cell_type": "code",
   "execution_count": null,
   "metadata": {
    "id": "jGfEE3y5nvpc"
   },
   "outputs": [],
   "source": [
    "# download HMM data in Zarr format for all sample sets\n",
    "!gsutil -m rsync -r \\\n",
    "    -x '.*/coverage_calls/.*|.*/discordant_read_calls/.*|.*/hmm/vcf/.*|.*/hmm/per_sample/.*' \\\n",
    "    gs://vo_agam_release/v3.1/cnv/ ~/vo_agam_release/v3.1/cnv/"
   ]
  },
  {
   "cell_type": "markdown",
   "metadata": {
    "id": "WPgfWx0Wnvpc"
   },
   "source": [
    "### CNV coverage calls\n",
    "\n",
    "Coverage-based CNV calls are available in VCF and Zarr formats, and are organised by sample set. Additionally the coverage calls were performed separately for *An. arabiensis* and (*An. gambiae* + *An. coluzzii*), and so are subdivided into \"arab\" and \"gamb_colu\" datasets, depending on which species are present in a given sample set.\n",
    "\n",
    "Note that some samples were excluded from coverage calling because of high coverage variance.\n",
    "\n",
    "For example, the VCF file for sample set `1177-VO-ML-LEHMANN-VMF00004` and the `gamb_colu` callset can be downloaded from:\n",
    "\n",
    "* [https://storage.googleapis.com/vo_agam_release/v3.1/cnv/1177-VO-ML-LEHMANN-VMF00004/coverage_calls/gamb_colu/vcf/1177-VO-ML-LEHMANN-VMF00004_gamb_colu_cnv_coverage_calls.vcf.gz](https://storage.googleapis.com/vo_agam_release/v3.1/cnv/1177-VO-ML-LEHMANN-VMF00004/coverage_calls/gamb_colu/vcf/1177-VO-ML-LEHMANN-VMF00004_gamb_colu_cnv_coverage_calls.vcf.gz)\n",
    "\n",
    "VCF files for all sample sets can be downloaded with:"
   ]
  },
  {
   "cell_type": "code",
   "execution_count": null,
   "metadata": {
    "id": "uJEdxeTjnvpc"
   },
   "outputs": [],
   "source": [
    "# download coverage calls in VCF format for all sample sets\n",
    "!gsutil -m rsync -r \\\n",
    "    -x '.*/hmm/.*|.*/discordant_read_calls/.*|.*/coverage_calls/.*/zarr/.*' \\\n",
    "    gs://vo_agam_release/v3.1/cnv/ ~/vo_agam_release/v3.1/cnv/"
   ]
  },
  {
   "cell_type": "markdown",
   "metadata": {
    "id": "F9rHpx_Invpc"
   },
   "source": [
    "Zarr files for all sample sets can be downloaded with:"
   ]
  },
  {
   "cell_type": "code",
   "execution_count": null,
   "metadata": {
    "id": "fzdzu6CFnvpc"
   },
   "outputs": [],
   "source": [
    "# download coverage calls in Zarr format for all sample sets\n",
    "!gsutil -m rsync -r \\\n",
    "    -x '.*/hmm/.*|.*/discordant_read_calls/.*|.*/coverage_calls/.*/vcf/.*' \\\n",
    "    gs://vo_agam_release/v3.1/cnv/ ~/vo_agam_release/v3.1/cnv/"
   ]
  },
  {
   "cell_type": "markdown",
   "metadata": {
    "id": "A2GJAB85nvpd"
   },
   "source": [
    "### CNV discordant read calls\n",
    "\n",
    "CNV calls for selected insecticide resistance loci are available in VCF and Zarr formats, and are organised by sample set. \n",
    "\n",
    "For example, the VCF file for sample set `1177-VO-ML-LEHMANN-VMF00004` can be downloaded from:\n",
    "\n",
    "* [https://storage.googleapis.com/vo_agam_release/v3.1/cnv/1177-VO-ML-LEHMANN-VMF00004/discordant_read_calls/vcf/1177-VO-ML-LEHMANN-VMF00004_cnv_discordant_read_calls.vcf.gz](https://storage.googleapis.com/vo_agam_release/v3.1/cnv/1177-VO-ML-LEHMANN-VMF00004/discordant_read_calls/vcf/1177-VO-ML-LEHMANN-VMF00004_cnv_discordant_read_calls.vcf.gz)\n",
    "\n",
    "VCF and Zarr files for all sample sets can be downloaded with:"
   ]
  },
  {
   "cell_type": "code",
   "execution_count": null,
   "metadata": {
    "id": "mAX0uaGtnvpd"
   },
   "outputs": [],
   "source": [
    "# download discordant read calls for all sample sets\n",
    "!gsutil -m rsync -r \\\n",
    "    -x '.*/hmm/.*|.*/coverage_calls/.*' \\\n",
    "    gs://vo_agam_release/v3.1/cnv/ ~/vo_agam_release/v3.1/cnv/"
   ]
  },
  {
   "cell_type": "markdown",
   "metadata": {
    "id": "9hFhrALmnvpd"
   },
   "source": [
    "## Haplotypes\n",
    "\n",
    "The `Ag3.1` data resource also includes haplotype reference panels, which were obtained by [phasing](https://en.wikipedia.org/wiki/Haplotype_estimation) the SNP calls. To allow for a range of different analyses, three different haplotype reference panels were constructed, each using a different subset of samples and applying different site filters:\n",
    "\n",
    "* `gamb_colu_arab` - This haplotype reference panel includes **all wild-caught samples**, and phases biallelic SNPs passing the \"gamb_colu_arab\" site filters.\n",
    "* `gamb_colu` - This haplotype reference panel includes **wild-caught samples assigned as either *An. gambiae*, *An. coluzzii* or intermediate *An. gambiae/An. coluzzii*** via the AIM species calling method, and phases biallelic SNPs passing the \"gamb_colu\" site filters.\n",
    "* `arab` - This haplotype reference panel includes **wild-caught samples assigned as *An. arabiensis*** via the AIM species calling method, and phases biallelic SNPs passing the \"arab\" site filters. \n",
    "\n",
    "Haplotype data can be downloaded in either VCF or Zarr format. See the subsections below for further details"
   ]
  },
  {
   "cell_type": "markdown",
   "metadata": {
    "id": "Kpa2QiLsnvpd"
   },
   "source": [
    "### Haplotype reference panels (VCF format)\n",
    "\n",
    "These are the VCFs created by the phasing pipeline, containing all samples included each of the phasing runs. There is one VCF per phasing analysis per chromosome arm. The URL for each file has the following structure:\n",
    "\n",
    "* `https://storage.googleapis.com/vo_agam_release/v3.1/snp_haplotypes/panel/{analysis}/ag3.1_{analysis}_{contig}_phased.vcf.gz`\n",
    "\n",
    "...where `{analysis}` is one of \"gamb_colu_arab\", \"gamb_colu\" or \"arab\"; and `{contig}` is one of \"2R\", \"2L\", \"3R\", \"3L\", \"X\". \n",
    "\n",
    "E.g., the panel VCF for the `gamb_colu_arab` analysis for chromosome arm 3L can be downloaded here:\n",
    "\n",
    "* [https://storage.googleapis.com/vo_agam_release/v3.1/snp_haplotypes/panel/gamb_colu_arab/ag3.1_gamb_colu_arab_3L_phased.vcf.gz](https://storage.googleapis.com/vo_agam_release/v3.1/snp_haplotypes/panel/gamb_colu_arab/ag3.1_gamb_colu_arab_3L_phased.vcf.gz)\n",
    "\n",
    "Note that these files can be large, up to ~50 GB.\n",
    "\n",
    "If you'd like to download all of the panel files, you could also use `gsutil`, e.g.:"
   ]
  },
  {
   "cell_type": "code",
   "execution_count": null,
   "metadata": {
    "id": "dN6QGcHtnvpd"
   },
   "outputs": [],
   "source": [
    "# create a local directory to store the data\n",
    "!mkdir -pv ~/vo_agam_release/v3.1/snp_haplotypes/panel/\n",
    "\n",
    "# copy files from cloud to local file system\n",
    "!gsutil -m rsync -r \\\n",
    "    -x '.*/.*zarr.zip' \\\n",
    "    gs://vo_agam_release/v3.1/snp_haplotypes/panel/ \\\n",
    "    ~/vo_agam_release/v3.1/snp_haplotypes/panel/"
   ]
  },
  {
   "cell_type": "markdown",
   "metadata": {
    "id": "Jh60c4evnvpd"
   },
   "source": [
    "### Sample set haplotypes (VCF format)\n",
    "\n",
    "These VCFs are subsets of the panel VCFs, containing only samples in a given sample set. There is one VCF per sample set, per phasing analysis, per chromosome arm. The URL for each file has the following structure:\n",
    "\n",
    "* `https://storage.googleapis.com/vo_agam_release/v3.1/snp_haplotypes/1177-VO-ML-LEHMANN-VMF00004/{analysis}/vcf/A1177-VO-ML-LEHMANN-VMF00004_{analysis}_{contig}_phased.vcf.gz`\n",
    "\n",
    "...where `{analysis}` is one of \"gamb_colu_arab\", \"gamb_colu\" or \"arab\"; `{contig}` is one of \"2R\", \"2L\", \"3R\", \"3L\", \"X\".\n",
    "\n",
    "E.g., the VCF for sample set `1177-VO-ML-LEHMANN-VMF00004`, for the `gamb_colu` analysis, for chromosome arm 2L, can be downloaded here:\n",
    "\n",
    "* [https://storage.googleapis.com/vo_agam_release/v3.1/snp_haplotypes/1177-VO-ML-LEHMANN-VMF00004/gamb_colu/vcf/1177-VO-ML-LEHMANN-VMF00004_gamb_colu_2L_phased.vcf.gz](https://storage.googleapis.com/vo_agam_release/v3.1/snp_haplotypes/1177-VO-ML-LEHMANN-VMF00004/gamb_colu/vcf/1177-VO-ML-LEHMANN-VMF00004_gamb_colu_2L_phased.vcf.gz)\n",
    "\n",
    "If you'd like to download all of the VCF files for a given sample set, you could also use gsutil, e.g.:"
   ]
  },
  {
   "cell_type": "code",
   "execution_count": null,
   "metadata": {
    "id": "v4nXM1lpnvpd"
   },
   "outputs": [],
   "source": [
    "# create a local directory to store the data\n",
    "!mkdir -pv ~/vo_agam_release/v3.1/snp_haplotypes/1177-VO-ML-LEHMANN-VMF00004/\n",
    "\n",
    "# copy files from cloud to local file system\n",
    "!gsutil -m rsync -r \\\n",
    "    -x '.*/zarr/.*' \\\n",
    "    gs://vo_agam_release/v3.1/snp_haplotypes/1177-VO-ML-LEHMANN-VMF00004/ \\\n",
    "    ~/vo_agam_release/v3.1/snp_haplotypes/1177-VO-ML-LEHMANN-VMF00004/"
   ]
  },
  {
   "cell_type": "markdown",
   "metadata": {
    "id": "31vzApoKnvpd"
   },
   "source": [
    "### Sample set haplotypes (Zarr format)\n",
    "\n",
    "These contain the haplotype data in Zarr format, with one Zarr hierarchy per sample set. The root zarr path for a given hierarchy has the following structure:\n",
    "\n",
    "* `gs://vo_agam_release/v3.1/snp_haplotypes/1177-VO-ML-LEHMANN-VMF00004/{analysis}/zarr`\n",
    "\n",
    "Data can be downloaded with gsutil. E.g., download the Zarr data for sample set `1177-VO-ML-LEHMANN-VMF00004`. Note that the sites are stored in a separate hierarchy:"
   ]
  },
  {
   "cell_type": "code",
   "execution_count": null,
   "metadata": {
    "id": "En9ebyYPnvpd"
   },
   "outputs": [],
   "source": [
    "# create local directories to store the data\n",
    "!mkdir -pv ~/vo_agam_release/v3/snp_haplotypes/sites\n",
    "!mkdir -pv ~/vo_agam_release/v3.1/snp_haplotypes/1177-VO-ML-LEHMANN-VMF00004\n",
    "\n",
    "# copy haplotype data from cloud to local file system\n",
    "!gsutil -m rsync -r \\\n",
    "    -x '.*/vcf/.*' \\\n",
    "    gs://vo_agam_release/v3.1/snp_haplotypes/1177-VO-ML-LEHMANN-VMF00004/ \\\n",
    "    ~/vo_agam_release/v3.1/snp_haplotypes/1177-VO-ML-LEHMANN-VMF00004/\n",
    "\n",
    "# copy phased sites data from cloud to local file system\n",
    "!gsutil -m rsync -rn \\\n",
    "    gs://vo_agam_release/v3/snp_haplotypes/sites/ \\\n",
    "    ~/vo_agam_release/v3/snp_haplotypes/sites/ "
   ]
  },
  {
   "cell_type": "markdown",
   "metadata": {
    "id": "8ABQPPgAnvph"
   },
   "source": [
    "## Feedback and suggestions\n",
    "\n",
    "If there are particular analyses you would like to run, or if you have other suggestions for useful documentation we could add to this site, we would love to know, please get in touch via the [malariagen/vector-data GitHub discussion board](https://github.com/malariagen/vector-data/discussions)."
   ]
  }
 ],
 "metadata": {
  "colab": {
   "collapsed_sections": [
    "8ABQPPgAnvph"
   ],
   "name": "Ag3.0-data-downloads.ipynb",
   "provenance": []
  },
  "kernelspec": {
   "display_name": "Python 3 (ipykernel)",
   "language": "python",
   "name": "python3"
  },
  "language_info": {
   "codemirror_mode": {
    "name": "ipython",
    "version": 3
   },
   "file_extension": ".py",
   "mimetype": "text/x-python",
   "name": "python",
   "nbconvert_exporter": "python",
   "pygments_lexer": "ipython3",
   "version": "3.9.10"
  }
 },
 "nbformat": 4,
 "nbformat_minor": 4
}

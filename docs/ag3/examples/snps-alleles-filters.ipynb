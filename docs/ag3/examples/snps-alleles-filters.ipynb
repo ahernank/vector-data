{
 "cells": [
  {
   "cell_type": "markdown",
   "metadata": {},
   "source": [
    "# SNPs, alleles and site filters\n",
    "\n",
    "This notebook looks in more detail at how single nucleotide polymorphisms (SNPs) are represented in the Ag1000G phase 3 (Ag3) data release. We'll also look at the different site filters that we've created to help select high quality SNPs for robust population genetic analyses.\n",
    "\n",
    "As always, this notebook is executable, click the launch icon (@@) and select a cloud computing service if you'd like to try running it for yourself.\n",
    "\n",
    "## Setup\n",
    "\n",
    "Before we get started, install some packages and set up access to the Ag3 data."
   ]
  },
  {
   "cell_type": "code",
   "execution_count": 1,
   "metadata": {},
   "outputs": [],
   "source": [
    "# TODO release new malariagen_data\n",
    "!pip install -q -U --pre malariagen_data"
   ]
  },
  {
   "cell_type": "code",
   "execution_count": 2,
   "metadata": {},
   "outputs": [],
   "source": [
    "import malariagen_data\n",
    "ag3 = malariagen_data.Ag3(\"gs://vo_agam_release/\")"
   ]
  },
  {
   "cell_type": "markdown",
   "metadata": {},
   "source": [
    "## Preamble: navigating the genome\n",
    "\n",
    "In case this is the first time you're working with the *Anopheles gambiae* genome, here's a quick primer on how it's structured and how we refer to specific sites (locations) within the genome.\n",
    "\n",
    "For Ag1000G analyses we use the AgamP4 reference genome. This genome is comprised of eight sequences:"
   ]
  },
  {
   "cell_type": "code",
   "execution_count": 5,
   "metadata": {},
   "outputs": [
    {
     "data": {
      "text/plain": [
       "['2L', '2R', '3L', '3R', 'Mt', 'UNKN', 'X', 'Y_unplaced']"
      ]
     },
     "execution_count": 5,
     "metadata": {},
     "output_type": "execute_result"
    }
   ],
   "source": [
    "genome = ag3.open_genome()\n",
    "sorted(genome)"
   ]
  },
  {
   "cell_type": "markdown",
   "metadata": {},
   "source": [
    "\"2R\" and \"2L\" are the two parts (arms) of Chromosome 2. \"3R\" and \"3L\" are the arms of Chromosome 3. \"X\" is the X chromosome. \n",
    "\n",
    "The X chromosome is a sex chromosome, present in two copies in females and one copy in males. Chromosomes 2 and 3 are autosomes, meaning that both males and females carry two copies. \n",
    "\n",
    "We typically only analyse data within these five sequences (2R, 2L, 3R, 3L, X). In case you're wondering, \"UNKN\" is a collection of sequences that couldn't be placed on a chromosome during the assembly process; \"Y_unplaced\" is a small collection of sequences known to belong to the male-specific Y chromosome; and \"Mt\" is the mitochondrial sequence.\n",
    "\n",
    "Each of these sequences comprises a string of nucleotides. Here's how long they are:"
   ]
  },
  {
   "cell_type": "code",
   "execution_count": 11,
   "metadata": {},
   "outputs": [
    {
     "name": "stdout",
     "output_type": "stream",
     "text": [
      "2L: 49,364,325 bp\n",
      "2R: 61,545,105 bp\n",
      "3L: 41,963,435 bp\n",
      "3R: 53,200,684 bp\n",
      "Mt: 15,363 bp\n",
      "UNKN: 42,389,979 bp\n",
      "X: 24,393,108 bp\n",
      "Y_unplaced: 237,045 bp\n"
     ]
    }
   ],
   "source": [
    "for contig in genome:\n",
    "    print(f\"{contig}: {len(genome[contig]):,} bp\")"
   ]
  },
  {
   "cell_type": "markdown",
   "metadata": {},
   "source": [
    "Here \"bp\" refers to base pairs, which is the unit of length of nucleotide sequences. If a sequence is 10 bp then it is 10 nucleotides (letters) long.\n",
    "\n",
    "To refer to a specific site (position) within a sequence, we typically use 1-based coordinates. E.g., \"2L:10\" refers to the tenth nucleotide in the 2L sequence. We can access this nucleotide via Python, but when indexing in Python we need to use zero-based indices. E.g., access the nucleotide at position 10 on chromosome arm 2L:"
   ]
  },
  {
   "cell_type": "code",
   "execution_count": 14,
   "metadata": {},
   "outputs": [
    {
     "data": {
      "text/plain": [
       "b'c'"
      ]
     },
     "execution_count": 14,
     "metadata": {},
     "output_type": "execute_result"
    }
   ],
   "source": [
    "genome[\"2L\"][9]"
   ]
  },
  {
   "cell_type": "markdown",
   "metadata": {},
   "source": [
    "This nucleotide is a \"c\" (cytosine).\n",
    "\n",
    "Note that there are gaps in the reference genome, where we don't know what the nucleotide is. These are represented in the genome sequence with the letter \"N\". Let's take a look at how common these are, for each chromosome arm: "
   ]
  },
  {
   "cell_type": "code",
   "execution_count": 15,
   "metadata": {},
   "outputs": [],
   "source": [
    "from collections import Counter"
   ]
  },
  {
   "cell_type": "code",
   "execution_count": 20,
   "metadata": {},
   "outputs": [
    {
     "data": {
      "text/plain": [
       "[(b'T', 11398889),\n",
       " (b'A', 11394851),\n",
       " (b'C', 9348150),\n",
       " (b'G', 9341894),\n",
       " (b't', 2086607),\n",
       " (b'a', 2078364),\n",
       " (b'g', 1444984),\n",
       " (b'c', 1432008),\n",
       " (b'n', 838575),\n",
       " (b'N', 3)]"
      ]
     },
     "execution_count": 20,
     "metadata": {},
     "output_type": "execute_result"
    }
   ],
   "source": [
    "Counter(genome[\"2L\"][:]).most_common()"
   ]
  },
  {
   "cell_type": "markdown",
   "metadata": {},
   "source": [
    "There are two things to notice here. \n",
    "\n",
    "First, there are both upper case and lower case letters. You can ignore this, e.g., both \"T\" and \"t\" mean the same thing. \n",
    "\n",
    "Second, there are 838,578 nucleotides which are unknown (either \"N\" or \"n\")."
   ]
  },
  {
   "cell_type": "markdown",
   "metadata": {},
   "source": [
    "## SNP sites and alleles\n",
    "\n",
    "When studying genetic variation in natural populations, there are two fundamental questions:\n",
    "\n",
    "1. Where in the genome do we **observe differences (i.e., variation)** between individual mosquitoes. \n",
    "\n",
    "2. Where in the genome do we **observe no differences (i.e., conservation)** between individuals. \n",
    "\n",
    "Sometimes this second question is overlooked, but both questions are important.\n",
    "\n",
    "In Ag1000G phase 3 we have taken a slightly different approach to calling single nucleotide polymorphisms (SNPs - single letter differences) than in previous project phases. Because we are interested in both of the above questions, we have genotyped all individual mosquitoes at all genomic sites where the reference genotype nucleotide is known (i.e., not an \"N\"). This is sometimes known as an \"all sites\" analysis. \n",
    "\n",
    "In order to simplify SNP calling across a large number of individuals, we also predefined the set of all possible alternate (variant) SNP alleles. Because we are analysing SNPs, at each site in the genome there are three possible alternate alleles. Let's look at how these data are represented for chromosome arm 2L:"
   ]
  },
  {
   "cell_type": "code",
   "execution_count": 29,
   "metadata": {},
   "outputs": [],
   "source": [
    "pos, ref, alt = ag3.snp_sites(contig=\"2L\")"
   ]
  },
  {
   "cell_type": "markdown",
   "metadata": {},
   "source": [
    "The `pos` array here holds the 1-based positions (coordinates) where the SNPs were called. E.g., here's the first 10 positions:"
   ]
  },
  {
   "cell_type": "code",
   "execution_count": 30,
   "metadata": {},
   "outputs": [
    {
     "data": {
      "text/plain": [
       "array([ 1,  2,  3,  4,  5,  6,  7,  8,  9, 10], dtype=int32)"
      ]
     },
     "execution_count": 30,
     "metadata": {},
     "output_type": "execute_result"
    }
   ],
   "source": [
    "pos[:10].compute()"
   ]
  },
  {
   "cell_type": "markdown",
   "metadata": {},
   "source": [
    "Note that this is simply the numbers 1-10. However, this sequence does not continue increasing by 1 all the way through the array, i.e., there are gaps, because of gaps in the reference genome. We can quickly visualise that:"
   ]
  },
  {
   "cell_type": "code",
   "execution_count": 40,
   "metadata": {},
   "outputs": [],
   "source": [
    "import numpy as np\n",
    "import matplotlib.pyplot as plt\n",
    "%matplotlib inline"
   ]
  },
  {
   "cell_type": "code",
   "execution_count": 43,
   "metadata": {},
   "outputs": [],
   "source": [
    "p = pos.compute()\n",
    "d = np.diff(p)"
   ]
  },
  {
   "cell_type": "code",
   "execution_count": 48,
   "metadata": {},
   "outputs": [
    {
     "data": {
      "image/png": "[encoded data removed]",
      "text/plain": [
       "<Figure size 648x216 with 1 Axes>"
      ]
     },
     "metadata": {
      "needs_background": "light"
     },
     "output_type": "display_data"
    }
   ],
   "source": [
    "fig, ax = plt.subplots(figsize=(9, 3))\n",
    "ax.plot(p[1:], d)\n",
    "ax.set_xlabel('Contig 2L position (bp)')\n",
    "ax.set_ylabel('Reference genome gap size (bp)');"
   ]
  },
  {
   "cell_type": "markdown",
   "metadata": {},
   "source": [
    "Note also that the length of the `pos` array is less than the length of the reference genome sequence:"
   ]
  },
  {
   "cell_type": "code",
   "execution_count": 33,
   "metadata": {},
   "outputs": [
    {
     "data": {
      "text/plain": [
       "838578"
      ]
     },
     "execution_count": 33,
     "metadata": {},
     "output_type": "execute_result"
    }
   ],
   "source": [
    "len(genome[\"2L\"]) - len(pos)"
   ]
  },
  {
   "cell_type": "markdown",
   "metadata": {},
   "source": [
    "This difference is the number of unknown nucleotides (\"N\"s) in the reference genome. This is another way of confirming that we have called SNP genotypes at all genomic sites where the reference genome nucleotide is known."
   ]
  },
  {
   "cell_type": "markdown",
   "metadata": {},
   "source": [
    "The `ref` array holds the reference alleles, i.e., the reference genome nucleotide for each SNP site. E.g., here's the reference alleles at the first 10 SNP sites:"
   ]
  },
  {
   "cell_type": "code",
   "execution_count": 34,
   "metadata": {},
   "outputs": [
    {
     "data": {
      "text/plain": [
       "array([b'A', b'A', b'C', b'C', b'A', b'T', b'G', b'G', b'T', b'C'],\n",
       "      dtype='|S1')"
      ]
     },
     "execution_count": 34,
     "metadata": {},
     "output_type": "execute_result"
    }
   ],
   "source": [
    "ref[:10].compute()"
   ]
  },
  {
   "cell_type": "markdown",
   "metadata": {},
   "source": [
    "The `alt` array holds the predefined alternate alleles at each site. E.g., here's the alternate alleles for the first 10 SNP sites:"
   ]
  },
  {
   "cell_type": "code",
   "execution_count": 35,
   "metadata": {},
   "outputs": [
    {
     "data": {
      "text/plain": [
       "array([[b'C', b'T', b'G'],\n",
       "       [b'C', b'T', b'G'],\n",
       "       [b'A', b'T', b'G'],\n",
       "       [b'A', b'T', b'G'],\n",
       "       [b'C', b'T', b'G'],\n",
       "       [b'A', b'C', b'G'],\n",
       "       [b'A', b'C', b'T'],\n",
       "       [b'A', b'C', b'T'],\n",
       "       [b'A', b'C', b'G'],\n",
       "       [b'A', b'T', b'G']], dtype='|S1')"
      ]
     },
     "execution_count": 35,
     "metadata": {},
     "output_type": "execute_result"
    }
   ],
   "source": [
    "alt[:10].compute()"
   ]
  },
  {
   "cell_type": "markdown",
   "metadata": {},
   "source": [
    "Each row represents a site, and the columns show the three alternate alleles."
   ]
  },
  {
   "cell_type": "code",
   "execution_count": null,
   "metadata": {},
   "outputs": [],
   "source": []
  }
 ],
 "metadata": {
  "kernelspec": {
   "display_name": "Python 3",
   "language": "python",
   "name": "python3"
  },
  "language_info": {
   "codemirror_mode": {
    "name": "ipython",
    "version": 3
   },
   "file_extension": ".py",
   "mimetype": "text/x-python",
   "name": "python",
   "nbconvert_exporter": "python",
   "pygments_lexer": "ipython3",
   "version": "3.7.6"
  }
 },
 "nbformat": 4,
 "nbformat_minor": 4
}

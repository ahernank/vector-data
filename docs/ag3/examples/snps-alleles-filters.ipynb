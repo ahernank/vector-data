{
 "cells": [
  {
   "cell_type": "markdown",
   "metadata": {},
   "source": [
    "# SNPs, alleles, genotypes and site filters\n",
    "\n",
    "This notebook looks in more detail at how single nucleotide polymorphisms (SNPs) are represented in the Ag1000G phase 3 (Ag3) data release. We'll also look at the different site filters that we've created to help select high quality SNPs for robust population genetic analyses. As always, this notebook is executable, click the launch icon (@@) and select a cloud computing service if you'd like to try running it for yourself.\n",
    "\n",
    "## Setup\n",
    "\n",
    "Before we get started, install some packages and set up access to the Ag3 data."
   ]
  },
  {
   "cell_type": "code",
   "execution_count": 1,
   "metadata": {},
   "outputs": [],
   "source": [
    "# TODO release new malariagen_data\n",
    "!pip install -q --pre malariagen_data"
   ]
  },
  {
   "cell_type": "code",
   "execution_count": 2,
   "metadata": {},
   "outputs": [],
   "source": [
    "import malariagen_data\n",
    "ag3 = malariagen_data.Ag3(\"gs://vo_agam_release/\")"
   ]
  },
  {
   "cell_type": "code",
   "execution_count": 3,
   "metadata": {},
   "outputs": [],
   "source": [
    "from collections import Counter\n",
    "import numpy as np\n",
    "import numpy as np\n",
    "import matplotlib as mpl\n",
    "import matplotlib.pyplot as plt\n",
    "import seaborn as sns\n",
    "%matplotlib inline"
   ]
  },
  {
   "cell_type": "markdown",
   "metadata": {},
   "source": [
    "## Preamble: navigating the reference genome\n",
    "\n",
    "In case you're not already familiar with the *Anopheles gambiae* genome, here's a quick primer on how it's structured and how we refer to specific sites (locations) within the genome.\n",
    "\n",
    "For Ag1000G analyses we use the AgamP4 reference genome. This genome is comprised of five main sequences:"
   ]
  },
  {
   "cell_type": "code",
   "execution_count": 42,
   "metadata": {},
   "outputs": [
    {
     "data": {
      "text/plain": [
       "('2R', '2L', '3R', '3L', 'X')"
      ]
     },
     "execution_count": 42,
     "metadata": {},
     "output_type": "execute_result"
    }
   ],
   "source": [
    "ag3.contigs"
   ]
  },
  {
   "cell_type": "markdown",
   "metadata": {},
   "source": [
    "Each of these identifiers (e.g., \"2L\") refers to a sequence of nucleotides, i.e., a sequence of the letters \"A\", \"C\", \"T\" and \"G\". Let's take a peek at the first 100 letters in one of the sequences."
   ]
  },
  {
   "cell_type": "code",
   "execution_count": 50,
   "metadata": {},
   "outputs": [
    {
     "name": "stdout",
     "output_type": "stream",
     "text": [
      "AACCATGGTCCAGAGTACACATTGACTATGCAGGCCTAGTAGACGAATTCTACTTCCTTGTAATCGTGGATCCACACTCGAAATGGCCGGAAGTTTACGC\n"
     ]
    }
   ],
   "source": [
    "seq = ag3.genome_sequence(\"2L\").compute()\n",
    "print(seq[:100].tobytes().decode().upper())"
   ]
  },
  {
   "cell_type": "markdown",
   "metadata": {},
   "source": [
    "Let's see how long these sequences are:"
   ]
  },
  {
   "cell_type": "code",
   "execution_count": 44,
   "metadata": {},
   "outputs": [
    {
     "name": "stdout",
     "output_type": "stream",
     "text": [
      "2R: 61,545,105 bp\n",
      "2L: 49,364,325 bp\n",
      "3R: 53,200,684 bp\n",
      "3L: 41,963,435 bp\n",
      "X: 24,393,108 bp\n"
     ]
    }
   ],
   "source": [
    "for seq_id in ag3.contigs:\n",
    "    seq = ag3.genome_sequence(seq_id)\n",
    "    print(f\"{seq_id}: {len(seq):,} bp\")"
   ]
  },
  {
   "cell_type": "markdown",
   "metadata": {},
   "source": [
    "Here \"bp\" is short for base pair, which is the unit of length of nucleotide sequences. I.e., if a sequence is 10 bp then it is 10 nucleotides (letters) long."
   ]
  },
  {
   "cell_type": "markdown",
   "metadata": {},
   "source": [
    "In the case of *Anopheles gambiae*, these sequences correspond to chromosome arms. \"2R\" and \"2L\" are the two parts (arms) of Chromosome 2. \"3R\" and \"3L\" are the arms of Chromosome 3. \"X\" is the X chromosome. The X chromosome is a sex chromosome, present in two copies in females and one copy in males. Chromosomes 2 and 3 are autosomes, meaning that both males and females carry two copies. "
   ]
  },
  {
   "cell_type": "markdown",
   "metadata": {},
   "source": [
    "To refer to a specific site (position) within a sequence, we typically use 1-based coordinates. E.g., \"2L:10\" refers to the tenth nucleotide (letter) in the 2L sequence. We can access this nucleotide via Python, but when indexing in Python we need to remember to use zero-based indices. E.g., access the nucleotide at position 10 on chromosome arm 2L:"
   ]
  },
  {
   "cell_type": "code",
   "execution_count": 51,
   "metadata": {},
   "outputs": [
    {
     "data": {
      "text/plain": [
       "b'c'"
      ]
     },
     "execution_count": 51,
     "metadata": {},
     "output_type": "execute_result"
    }
   ],
   "source": [
    "seq[9]"
   ]
  },
  {
   "cell_type": "markdown",
   "metadata": {},
   "source": [
    "This nucleotide is a \"C\" (cytosine).\n",
    "\n",
    "Note that there are also some \"gaps\" in the reference genome, where we don't know what the nucleotide is. These are represented in the sequence with the letter \"N\". Let's take a look at how common these are, for chromosome arm 2L: "
   ]
  },
  {
   "cell_type": "code",
   "execution_count": 52,
   "metadata": {},
   "outputs": [
    {
     "data": {
      "text/plain": [
       "[(b'T', 11398889),\n",
       " (b'A', 11394851),\n",
       " (b'C', 9348150),\n",
       " (b'G', 9341894),\n",
       " (b't', 2086607),\n",
       " (b'a', 2078364),\n",
       " (b'g', 1444984),\n",
       " (b'c', 1432008),\n",
       " (b'n', 838575),\n",
       " (b'N', 3)]"
      ]
     },
     "execution_count": 52,
     "metadata": {},
     "output_type": "execute_result"
    }
   ],
   "source": [
    "Counter(seq).most_common()"
   ]
  },
  {
   "cell_type": "markdown",
   "metadata": {},
   "source": [
    "There are two things to notice here. First, there are both upper case and lower case letters. For most purposes you can ignore this, e.g., both \"T\" and \"t\" mean the same thing. Second, there are 838,578 nucleotides which are unknown (either \"N\" or \"n\").\n",
    "\n",
    "To gain a bit more intuition for how the genome is structured and the relative sizes of the different sequences, let's make a simple plot of the five main chromosome arms."
   ]
  },
  {
   "cell_type": "code",
   "execution_count": 53,
   "metadata": {},
   "outputs": [],
   "source": [
    "def plot_sequence_composition(seq_id, window_size=100_000, ax=None):\n",
    "    \n",
    "    # load reference sequence\n",
    "    seq = ag3.genome_sequence(seq_id).compute()\n",
    "    \n",
    "    if ax is None:\n",
    "        # make the figure size relative to largest contig\n",
    "        figw = 11 * len(seq) / len(genome[\"2R\"])\n",
    "        fig, ax = plt.subplots(figsize=(figw, 1))\n",
    " \n",
    "    # convert to upper-case\n",
    "    seq = np.char.upper(seq)\n",
    "\n",
    "    # locate nucleotides\n",
    "    is_a = seq == b'A'\n",
    "    is_c = seq == b'C'\n",
    "    is_g = seq == b'G'\n",
    "    is_t = seq == b'T'\n",
    "    is_n = seq == b'N'\n",
    "    # check there's nothing unexpected\n",
    "    is_other = ~is_a & ~is_c & ~is_g & ~is_t & ~is_n\n",
    "    assert np.sum(is_other) == 0\n",
    "\n",
    "    # construct windows\n",
    "    bins = np.arange(0, len(seq), window_size)\n",
    "\n",
    "    # count nucleotides in each window\n",
    "    h_a, _ = np.histogram(np.nonzero(is_a)[0] + 1, bins=bins)\n",
    "    h_c, _ = np.histogram(np.nonzero(is_c)[0] + 1, bins=bins)\n",
    "    h_g, _ = np.histogram(np.nonzero(is_g)[0] + 1, bins=bins)\n",
    "    h_t, _ = np.histogram(np.nonzero(is_t)[0] + 1, bins=bins)\n",
    "    h_n, _ = np.histogram(np.nonzero(is_n)[0] + 1, bins=bins)\n",
    "\n",
    "    # plot frequence of nucleotides within each bin\n",
    "    left = bins[:-1]\n",
    "    bottom = 0\n",
    "    width = np.diff(bins)\n",
    "    palette = sns.color_palette('colorblind')\n",
    "    colors = [palette[i] for i in [2, 0, 3, 8]] + ['k']\n",
    "    for h, c, l in zip([h_a, h_t, h_g, h_c, h_n], colors, 'ATGCN'):\n",
    "        ax.bar(left, h, width=width, bottom=bottom, color=c, align='edge', label=l)\n",
    "        bottom += h\n",
    "        \n",
    "    # tidy up plot\n",
    "    ax.set_xlim(0, len(seq))\n",
    "    ax.set_yticks(ax.get_ylim())\n",
    "    ax.set_yticklabels(['0%', '100%'])\n",
    "    ax.set_title(seq_id)\n",
    "    # convert X axis to Mbp\n",
    "    ax.xaxis.set_major_formatter(mpl.ticker.FuncFormatter(lambda x, p: x//1e6))\n",
    "    ax.set_xlabel(\"Position (Mbp)\")\n",
    "    \n",
    "    # add centromere/telomere annotation\n",
    "    if seq_id in {'2L', '3L'}:\n",
    "        ltxt = \"centromere\"\n",
    "        rtxt = \"telomere\"\n",
    "    else:\n",
    "        ltxt = \"telomere\"\n",
    "        rtxt = \"centromere\"\n",
    "    ax.annotate(ltxt, xy=(0, 1), xycoords=\"axes fraction\", \n",
    "                xytext=(0, 2), textcoords='offset points', va='bottom', ha='left')\n",
    "    ax.annotate(rtxt, xy=(1, 1), xycoords=\"axes fraction\", \n",
    "                xytext=(0, 2), textcoords='offset points', va='bottom', ha='right')\n",
    "    \n",
    "    # add legend\n",
    "    ax.legend(loc='center left', bbox_to_anchor=(1, .5), \n",
    "              prop=dict(family='monospace'), ncol=2,\n",
    "              frameon=False)\n",
    "        "
   ]
  },
  {
   "cell_type": "code",
   "execution_count": 54,
   "metadata": {},
   "outputs": [
    {
     "data": {
      "image/png": "[encoded data removed]",
      "text/plain": [
       "<Figure size 792x72 with 1 Axes>"
      ]
     },
     "metadata": {
      "needs_background": "light"
     },
     "output_type": "display_data"
    }
   ],
   "source": [
    "plot_sequence_composition('2R')"
   ]
  },
  {
   "cell_type": "code",
   "execution_count": 32,
   "metadata": {},
   "outputs": [
    {
     "data": {
      "image/png": "[encoded data removed]",
      "text/plain": [
       "<Figure size 635.25x72 with 1 Axes>"
      ]
     },
     "metadata": {
      "needs_background": "light"
     },
     "output_type": "display_data"
    }
   ],
   "source": [
    "plot_sequence_composition('2L')"
   ]
  },
  {
   "cell_type": "code",
   "execution_count": 33,
   "metadata": {},
   "outputs": [
    {
     "data": {
      "image/png": "[encoded data removed]",
      "text/plain": [
       "<Figure size 684.619x72 with 1 Axes>"
      ]
     },
     "metadata": {
      "needs_background": "light"
     },
     "output_type": "display_data"
    }
   ],
   "source": [
    "plot_sequence_composition('3R')"
   ]
  },
  {
   "cell_type": "code",
   "execution_count": 34,
   "metadata": {},
   "outputs": [
    {
     "data": {
      "image/png": "[encoded data removed]",
      "text/plain": [
       "<Figure size 540.011x72 with 1 Axes>"
      ]
     },
     "metadata": {
      "needs_background": "light"
     },
     "output_type": "display_data"
    }
   ],
   "source": [
    "plot_sequence_composition('3L')"
   ]
  },
  {
   "cell_type": "code",
   "execution_count": 35,
   "metadata": {},
   "outputs": [
    {
     "data": {
      "image/png": "[encoded data removed]",
      "text/plain": [
       "<Figure size 313.905x72 with 1 Axes>"
      ]
     },
     "metadata": {
      "needs_background": "light"
     },
     "output_type": "display_data"
    }
   ],
   "source": [
    "plot_sequence_composition('X')"
   ]
  },
  {
   "cell_type": "markdown",
   "metadata": {},
   "source": [
    "A few points to note about the plots above:\n",
    "\n",
    "1. All of the chromosome arms are made up of A, C, T and G in roughly equal proportion, although A and T are a little more common than C and G.\n",
    "\n",
    "1. We annotated each chromosome arm with \"[centromere](https://www.genome.gov/genetics-glossary/Centromere)\" and \"[telomere](https://www.genome.gov/genetics-glossary/Telomere)\". You probably don't need to know what these mean, but it is worth knowing that the sequences at these two different ends of the chromosome tend to be quite different, especially towards the centromere. \n",
    "\n",
    "1. Gaps (N) are relatively uncommon, except towards the centromere of all chromosome arms where they are more common. This is typically because sequences are more repetitive towards the centromeres and so assembling the genome is more difficult. \n",
    "\n",
    "1. We made the size of each figure proportional to the length of the sequence. This was to help give a feeling for the relative size of the different chromosome arms. \n",
    "\n",
    "1. We converted the X-axis coordinates to \"Mbp\" which means mega-base pairs, i.e., millions of letters.\n",
    "\n",
    "OK, now we're acquainted with the reference genome, let's look at nucleotide variation."
   ]
  },
  {
   "cell_type": "markdown",
   "metadata": {},
   "source": [
    "## SNP sites and alleles\n",
    "\n",
    "When studying genetic variation in natural populations, there are two fundamental questions:\n",
    "\n",
    "1. Where in the genome do we observe **differences (i.e., nucleotide variation)** between individual mosquitoes. \n",
    "\n",
    "2. Where in the genome do we observe **no differences (i.e., nucleotide conservation)** between individuals. \n",
    "\n",
    "Sometimes this second question is overlooked, but both questions are important.\n",
    "\n",
    "In Ag1000G phase 3 we have taken a slightly different approach to calling single nucleotide polymorphisms (SNPs - single letter differences) than in previous project phases. Because we are interested in both of the above questions, we have genotyped all individual mosquitoes at all genomic sites where the reference genotype nucleotide is known (i.e., not an \"N\"), regardless of whether any variation is present. This is sometimes known as an \"all sites\" analysis. \n",
    "\n",
    "In order to simplify SNP calling across a large number of individuals, we also declared the set of all possible alternate (variant) SNP alleles ahead of time. Because we are analysing SNPs and we are not considering any other types of variation at this stage, then at each site in the genome there is one reference allele (i.e., the nucleotide in the reference genome) and three possible alternate alleles. E.g., at position 10 on chromosome arm 2L, the reference allele is \"C\", and so there are three possible alternate alleles: \"A\", \"T\" and \"G\".\n",
    "\n",
    "Let's look at how these data are represented for chromosome arm 2L:"
   ]
  },
  {
   "cell_type": "code",
   "execution_count": 36,
   "metadata": {},
   "outputs": [],
   "source": [
    "pos, ref, alt = ag3.snp_sites(\"2L\")"
   ]
  },
  {
   "cell_type": "markdown",
   "metadata": {},
   "source": [
    "The `pos` array here holds the 1-based positions (coordinates) where the SNPs were called. E.g., here's the first 10 SNP positions:"
   ]
  },
  {
   "cell_type": "code",
   "execution_count": 37,
   "metadata": {},
   "outputs": [
    {
     "data": {
      "text/plain": [
       "array([ 1,  2,  3,  4,  5,  6,  7,  8,  9, 10], dtype=int32)"
      ]
     },
     "execution_count": 37,
     "metadata": {},
     "output_type": "execute_result"
    }
   ],
   "source": [
    "pos[:10].compute()"
   ]
  },
  {
   "cell_type": "markdown",
   "metadata": {},
   "source": [
    "Note that this is simply the positions 1-10. However, these positions **do not** continue increasing by 1 all the way through the array, i.e., there are gaps, because of gaps in the reference genome. We can quickly visualise that:"
   ]
  },
  {
   "cell_type": "code",
   "execution_count": 62,
   "metadata": {},
   "outputs": [
    {
     "data": {
      "image/png": "[encoded data removed]",
      "text/plain": [
       "<Figure size 792x144 with 1 Axes>"
      ]
     },
     "metadata": {
      "needs_background": "light"
     },
     "output_type": "display_data"
    }
   ],
   "source": [
    "p = pos.compute()\n",
    "d = np.diff(p)\n",
    "fig, ax = plt.subplots(figsize=(11, 2))\n",
    "ax.plot(p[1:], d, color='black', linewidth=.5)\n",
    "ax.set_title(\"2L\")\n",
    "# convert X axis to Mbp\n",
    "ax.xaxis.set_major_formatter(mpl.ticker.FuncFormatter(lambda x, p: x//1e6))\n",
    "ax.set_xlabel(\"Position (Mbp)\")\n",
    "ax.set_ylabel('Gap size (bp)');"
   ]
  },
  {
   "cell_type": "markdown",
   "metadata": {},
   "source": [
    "Note also that the length of the `pos` array is less than the length of the reference genome sequence:"
   ]
  },
  {
   "cell_type": "code",
   "execution_count": 66,
   "metadata": {},
   "outputs": [
    {
     "data": {
      "text/plain": [
       "838578"
      ]
     },
     "execution_count": 66,
     "metadata": {},
     "output_type": "execute_result"
    }
   ],
   "source": [
    "len(seq) - len(pos)"
   ]
  },
  {
   "cell_type": "markdown",
   "metadata": {},
   "source": [
    "This difference is the number of unknown nucleotides (\"N\"s) in the reference genome that we computed earlier. This is another way of confirming that we have called SNP genotypes at all genomic sites where the reference genome nucleotide is known."
   ]
  },
  {
   "cell_type": "markdown",
   "metadata": {},
   "source": [
    "The `ref` array holds the reference alleles, i.e., the reference genome nucleotide for each SNP site. E.g., here's the reference alleles at the first 10 SNP sites:"
   ]
  },
  {
   "cell_type": "code",
   "execution_count": 34,
   "metadata": {},
   "outputs": [
    {
     "data": {
      "text/plain": [
       "array([b'A', b'A', b'C', b'C', b'A', b'T', b'G', b'G', b'T', b'C'],\n",
       "      dtype='|S1')"
      ]
     },
     "execution_count": 34,
     "metadata": {},
     "output_type": "execute_result"
    }
   ],
   "source": [
    "ref[:10].compute()"
   ]
  },
  {
   "cell_type": "markdown",
   "metadata": {},
   "source": [
    "We can confirm that this corresponds to the nucleotides in the reference sequence by using the SNP positions to index the sequence (remembering to convert to zero-based coordinates):"
   ]
  },
  {
   "cell_type": "code",
   "execution_count": 64,
   "metadata": {},
   "outputs": [
    {
     "data": {
      "text/plain": [
       "array([b'a', b'a', b'c', b'c', b'a', b't', b'g', b'g', b't', b'c'],\n",
       "      dtype='|S1')"
      ]
     },
     "execution_count": 64,
     "metadata": {},
     "output_type": "execute_result"
    }
   ],
   "source": [
    "np.take(seq, pos[:10] - 1)"
   ]
  },
  {
   "cell_type": "markdown",
   "metadata": {},
   "source": [
    "The `alt` array holds the predefined alternate alleles at each site. E.g., here's the alternate alleles for the first 10 SNP sites:"
   ]
  },
  {
   "cell_type": "code",
   "execution_count": 65,
   "metadata": {},
   "outputs": [
    {
     "data": {
      "text/plain": [
       "array([[b'C', b'T', b'G'],\n",
       "       [b'C', b'T', b'G'],\n",
       "       [b'A', b'T', b'G'],\n",
       "       [b'A', b'T', b'G'],\n",
       "       [b'C', b'T', b'G'],\n",
       "       [b'A', b'C', b'G'],\n",
       "       [b'A', b'C', b'T'],\n",
       "       [b'A', b'C', b'T'],\n",
       "       [b'A', b'C', b'G'],\n",
       "       [b'A', b'T', b'G']], dtype='|S1')"
      ]
     },
     "execution_count": 65,
     "metadata": {},
     "output_type": "execute_result"
    }
   ],
   "source": [
    "alt[:10].compute()"
   ]
  },
  {
   "cell_type": "markdown",
   "metadata": {},
   "source": [
    "Each row represents a site, and the columns show the three possible alternate alleles.\n",
    "\n",
    "**The most important thing to note about the SNP data in Ag3 is that not all of these alternate alleles will have been observed in the mosquitoes we sequenced.**\n",
    "\n",
    "If you want to know which alternate alleles are observed in Ag3, you need to look at the SNP genotypes. Let's take a look at how SNP genotypes are represented, then return to the question of which alternate alleles have been observed.\n",
    "\n",
    "## SNP genotypes\n",
    "\n",
    "@@TODO"
   ]
  },
  {
   "cell_type": "code",
   "execution_count": null,
   "metadata": {},
   "outputs": [],
   "source": []
  }
 ],
 "metadata": {
  "kernelspec": {
   "display_name": "Python 3",
   "language": "python",
   "name": "python3"
  },
  "language_info": {
   "codemirror_mode": {
    "name": "ipython",
    "version": 3
   },
   "file_extension": ".py",
   "mimetype": "text/x-python",
   "name": "python",
   "nbconvert_exporter": "python",
   "pygments_lexer": "ipython3",
   "version": "3.8.8"
  }
 },
 "nbformat": 4,
 "nbformat_minor": 4
}

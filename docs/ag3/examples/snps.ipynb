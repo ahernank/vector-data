{
  "nbformat": 4,
  "nbformat_minor": 0,
  "metadata": {
    "colab": {
      "name": "snps.ipynb",
      "provenance": []
    },
    "kernelspec": {
      "display_name": "Python 3",
      "language": "python",
      "name": "python3"
    },
    "language_info": {
      "codemirror_mode": {
        "name": "ipython",
        "version": 3
      },
      "file_extension": ".py",
      "mimetype": "text/x-python",
      "name": "python",
      "nbconvert_exporter": "python",
      "pygments_lexer": "ipython3",
      "version": "3.8.8"
    }
  },
  "cells": [
    {
      "cell_type": "markdown",
      "metadata": {
        "id": "OTETZXLSOywB"
      },
      "source": [
        "# Single nucleotide polymorphisms (SNPs)\n",
        "\n",
        "This notebook looks in more detail at how single nucleotide polymorphisms (SNPs) are represented in the Ag1000G phase 3 (Ag3) data release. We'll also look at the different site filters that we've created to help select high quality SNPs for robust population genetic analyses. As always, this notebook is executable, click the launch icon (@@) and select a cloud computing service if you'd like to try running it for yourself.\n",
        "\n",
        "## Setup\n",
        "\n",
        "Before we get started, install some packages and set up access to the Ag3 data."
      ]
    },
    {
      "cell_type": "code",
      "metadata": {
        "colab": {
          "base_uri": "https://localhost:8080/"
        },
        "id": "eO3U6Mm4OywC",
        "outputId": "8ec6dc69-3644-4b2e-b7d7-06698774a8ba"
      },
      "source": [
        "# TODO release new malariagen_data\n",
        "!pip install -q malariagen_data\n",
        "!pip install -q scikit-allel  # this will take about a minute or so to compile "
      ],
      "execution_count": 1,
      "outputs": [
        {
          "output_type": "stream",
          "text": [
            "\u001b[K     |████████████████████████████████| 133kB 6.2MB/s \n",
            "\u001b[K     |████████████████████████████████| 112kB 8.6MB/s \n",
            "\u001b[K     |████████████████████████████████| 1.3MB 8.6MB/s \n",
            "\u001b[K     |████████████████████████████████| 5.8MB 10.1MB/s \n",
            "\u001b[K     |████████████████████████████████| 296kB 43.8MB/s \n",
            "\u001b[K     |████████████████████████████████| 143kB 54.7MB/s \n",
            "\u001b[?25h  Building wheel for asciitree (setup.py) ... \u001b[?25l\u001b[?25hdone\n",
            "\u001b[K     |████████████████████████████████| 10.8MB 3.9MB/s \n",
            "\u001b[?25h  Building wheel for scikit-allel (setup.py) ... \u001b[?25l\u001b[?25hdone\n"
          ],
          "name": "stdout"
        }
      ]
    },
    {
      "cell_type": "code",
      "metadata": {
        "id": "gH1eBkWVOywD"
      },
      "source": [
        "from collections import Counter\n",
        "import gzip\n",
        "import numpy as np\n",
        "import dask.array as da\n",
        "import matplotlib as mpl\n",
        "import matplotlib.pyplot as plt\n",
        "import seaborn as sns\n",
        "import allel\n",
        "from dask.diagnostics.progress import ProgressBar\n",
        "%matplotlib inline"
      ],
      "execution_count": 2,
      "outputs": []
    },
    {
      "cell_type": "code",
      "metadata": {
        "id": "xC14hQNgOywD"
      },
      "source": [
        "import malariagen_data\n",
        "ag3 = malariagen_data.Ag3(\"gs://vo_agam_release/\")"
      ],
      "execution_count": 3,
      "outputs": []
    },
    {
      "cell_type": "markdown",
      "metadata": {
        "id": "Bg5MWrXkOywD"
      },
      "source": [
        "## Preface: navigating the reference genome\n",
        "\n",
        "In case you're not already familiar with the *Anopheles gambiae* genome, here's a quick primer on how it's structured and how we refer to specific sites (locations) within the genome.\n",
        "\n",
        "For Ag1000G analyses we use the AgamP4 reference genome. This genome is comprised of five main sequences:"
      ]
    },
    {
      "cell_type": "code",
      "metadata": {
        "id": "paQJQ2l2OywD"
      },
      "source": [
        "# TODO use ag3.contigs\n",
        "contigs = \"2R\", \"2L\", \"3R\", \"3L\", \"X\""
      ],
      "execution_count": 4,
      "outputs": []
    },
    {
      "cell_type": "markdown",
      "metadata": {
        "id": "_11AJe9iOywE"
      },
      "source": [
        "Each of these identifiers (e.g., \"2R\") refers to a sequence of nucleotides, i.e., a sequence of the letters \"A\", \"C\", \"T\" and \"G\". Let's see how long these sequences are."
      ]
    },
    {
      "cell_type": "code",
      "metadata": {
        "colab": {
          "base_uri": "https://localhost:8080/"
        },
        "id": "vaqIFc2aOywE",
        "outputId": "c45c073f-2dee-4750-c4cd-c79af1de6413"
      },
      "source": [
        "for contig in contigs:\n",
        "    seq = ag3.genome_sequence(contig)\n",
        "    print(f\"{contig}: {len(seq):,} bp\")"
      ],
      "execution_count": 5,
      "outputs": [
        {
          "output_type": "stream",
          "text": [
            "2R: 61,545,105 bp\n",
            "2L: 49,364,325 bp\n",
            "3R: 53,200,684 bp\n",
            "3L: 41,963,435 bp\n",
            "X: 24,393,108 bp\n"
          ],
          "name": "stdout"
        }
      ]
    },
    {
      "cell_type": "markdown",
      "metadata": {
        "id": "q13F1kFMOywE"
      },
      "source": [
        "Let's take a peek at the first 100 letters in one of the sequences (2R)."
      ]
    },
    {
      "cell_type": "code",
      "metadata": {
        "colab": {
          "base_uri": "https://localhost:8080/",
          "height": 35
        },
        "id": "MlekovLyOywF",
        "outputId": "98eeff6e-7b71-4686-c123-fd81bd09b040"
      },
      "source": [
        "seq = ag3.genome_sequence(\"2R\").compute()\n",
        "seq[:100].tobytes().decode().upper()"
      ],
      "execution_count": 6,
      "outputs": [
        {
          "output_type": "execute_result",
          "data": {
            "application/vnd.google.colaboratory.intrinsic+json": {
              "type": "string"
            },
            "text/plain": [
              "'CTCTAAACATTAATAAAACCAAATACATGATCATATCAAACAAAAATAATCAAGAACAGCTGTGTATTTCAATAAATCAAGAACATATAGACAATACTTC'"
            ]
          },
          "metadata": {
            "tags": []
          },
          "execution_count": 6
        }
      ]
    },
    {
      "cell_type": "markdown",
      "metadata": {
        "id": "Zj27bnz7OywF"
      },
      "source": [
        "Here \"bp\" is short for base pair, which is the unit of length of nucleotide sequences. I.e., if a sequence is 10 bp then it is 10 nucleotides (letters) long.\n",
        "\n",
        "In the case of *Anopheles gambiae*, these sequences correspond to chromosome arms. \"2R\" and \"2L\" are the two parts (arms) of Chromosome 2. \"3R\" and \"3L\" are the arms of Chromosome 3. \"X\" is the X chromosome. The X chromosome is a sex chromosome, present in two copies in females and one copy in males. Chromosomes 2 and 3 are autosomes, meaning that both males and females carry two copies. \n",
        "\n",
        "To refer to a specific site (position) within a sequence, we typically use 1-based coordinates. E.g., \"2R:10\" refers to the tenth nucleotide (letter) in the 2R sequence. We can access this nucleotide via Python, but when indexing in Python we need to remember to use zero-based indices. E.g., access the nucleotide at position 10 on chromosome arm 2R:"
      ]
    },
    {
      "cell_type": "code",
      "metadata": {
        "colab": {
          "base_uri": "https://localhost:8080/",
          "height": 35
        },
        "id": "gAQIp9qGOywF",
        "outputId": "48c724c0-6bf1-40a2-e85a-f7381ad6d81c"
      },
      "source": [
        "seq[9].decode().upper()"
      ],
      "execution_count": 7,
      "outputs": [
        {
          "output_type": "execute_result",
          "data": {
            "application/vnd.google.colaboratory.intrinsic+json": {
              "type": "string"
            },
            "text/plain": [
              "'T'"
            ]
          },
          "metadata": {
            "tags": []
          },
          "execution_count": 7
        }
      ]
    },
    {
      "cell_type": "markdown",
      "metadata": {
        "id": "2E-C9_LuOywG"
      },
      "source": [
        "This nucleotide is a \"T\" (thymine).\n",
        "\n",
        "Note that there are also some \"gaps\" in the reference genome, where we don't know what the nucleotide is. These are represented in the sequence with the letter \"N\". Let's take a look at how common these are, for chromosome arm 2R: "
      ]
    },
    {
      "cell_type": "code",
      "metadata": {
        "colab": {
          "base_uri": "https://localhost:8080/"
        },
        "id": "hx5kQOHeOywG",
        "outputId": "35cd554a-a2ba-4421-f656-8bcb63c67172"
      },
      "source": [
        "Counter(seq).most_common()"
      ],
      "execution_count": 8,
      "outputs": [
        {
          "output_type": "execute_result",
          "data": {
            "text/plain": [
              "[(b'T', 14379951),\n",
              " (b'A', 14377315),\n",
              " (b'C', 12197820),\n",
              " (b'G', 12183243),\n",
              " (b't', 2077134),\n",
              " (b'a', 2060370),\n",
              " (b'g', 1430905),\n",
              " (b'c', 1425715),\n",
              " (b'n', 1412612),\n",
              " (b'N', 40)]"
            ]
          },
          "metadata": {
            "tags": []
          },
          "execution_count": 8
        }
      ]
    },
    {
      "cell_type": "markdown",
      "metadata": {
        "id": "_K__QvurOywG"
      },
      "source": [
        "There are two things to notice here. First, there are both upper case and lower case letters. For most purposes you can ignore this, e.g., both \"T\" and \"t\" mean the same thing. Second, there are 1,412,652 nucleotides which are unknown (either \"N\" or \"n\").\n",
        "\n",
        "To gain a bit more intuition for how the genome is structured and the relative sizes of the different sequences, let's make a simple plot of the five chromosome arms."
      ]
    },
    {
      "cell_type": "code",
      "metadata": {
        "id": "jXYvROVMOywG"
      },
      "source": [
        "def plot_sequence_composition(seq_id, window_size=100_000, ax=None):\n",
        "    \n",
        "    # load reference sequence\n",
        "    seq = ag3.genome_sequence(seq_id).compute()\n",
        "    \n",
        "    if ax is None:\n",
        "        # make the figure size relative to largest contig\n",
        "        figw = 11 * len(seq) / len(ag3.genome_sequence(\"2R\"))\n",
        "        fig, ax = plt.subplots(figsize=(figw, 1))\n",
        " \n",
        "    # convert to upper-case\n",
        "    seq = np.char.upper(seq)\n",
        "\n",
        "    # locate nucleotides\n",
        "    is_a = seq == b'A'\n",
        "    is_c = seq == b'C'\n",
        "    is_g = seq == b'G'\n",
        "    is_t = seq == b'T'\n",
        "    is_n = seq == b'N'\n",
        "    # check there's nothing unexpected\n",
        "    is_other = ~is_a & ~is_c & ~is_g & ~is_t & ~is_n\n",
        "    assert np.sum(is_other) == 0\n",
        "\n",
        "    # construct windows\n",
        "    bins = np.arange(0, len(seq), window_size)\n",
        "\n",
        "    # count nucleotides in each window\n",
        "    h_a, _ = np.histogram(np.nonzero(is_a)[0] + 1, bins=bins)\n",
        "    h_c, _ = np.histogram(np.nonzero(is_c)[0] + 1, bins=bins)\n",
        "    h_g, _ = np.histogram(np.nonzero(is_g)[0] + 1, bins=bins)\n",
        "    h_t, _ = np.histogram(np.nonzero(is_t)[0] + 1, bins=bins)\n",
        "    h_n, _ = np.histogram(np.nonzero(is_n)[0] + 1, bins=bins)\n",
        "\n",
        "    # plot frequence of nucleotides within each bin\n",
        "    left = bins[:-1]\n",
        "    bottom = 0\n",
        "    width = np.diff(bins)\n",
        "    palette = sns.color_palette('colorblind')\n",
        "    colors = [palette[i] for i in [2, 0, 3, 8]] + ['k']\n",
        "    for h, c, l in zip([h_a, h_t, h_g, h_c, h_n], colors, 'ATGCN'):\n",
        "        ax.bar(left, h, width=width, bottom=bottom, color=c, align='edge', label=l)\n",
        "        bottom += h\n",
        "        \n",
        "    # tidy up plot\n",
        "    ax.set_xlim(0, len(seq))\n",
        "    ax.set_yticks(ax.get_ylim())\n",
        "    ax.set_yticklabels(['0%', '100%'])\n",
        "    ax.set_title(seq_id)\n",
        "    # convert X axis to Mbp\n",
        "    ax.xaxis.set_major_formatter(mpl.ticker.FuncFormatter(lambda x, p: x//1e6))\n",
        "    ax.set_xlabel(\"Position (Mbp)\")\n",
        "    \n",
        "    # add centromere/telomere annotation\n",
        "    if seq_id in {'2L', '3L'}:\n",
        "        ltxt = \"centromere\"\n",
        "        rtxt = \"telomere\"\n",
        "    else:\n",
        "        ltxt = \"telomere\"\n",
        "        rtxt = \"centromere\"\n",
        "    ax.annotate(ltxt, xy=(0, 1), xycoords=\"axes fraction\", \n",
        "                xytext=(0, 2), textcoords='offset points', va='bottom', ha='left')\n",
        "    ax.annotate(rtxt, xy=(1, 1), xycoords=\"axes fraction\", \n",
        "                xytext=(0, 2), textcoords='offset points', va='bottom', ha='right')\n",
        "    \n",
        "    # add legend\n",
        "    ax.legend(loc='center left', bbox_to_anchor=(1, .5), \n",
        "              prop=dict(family='monospace'), ncol=2,\n",
        "              frameon=False)\n",
        "        "
      ],
      "execution_count": 9,
      "outputs": []
    },
    {
      "cell_type": "code",
      "metadata": {
        "colab": {
          "base_uri": "https://localhost:8080/",
          "height": 132
        },
        "id": "lxhjGGeKOywH",
        "outputId": "a81c118a-9801-42a7-c220-e0c32ffa65be"
      },
      "source": [
        "plot_sequence_composition('2R')"
      ],
      "execution_count": null,
      "outputs": [
        {
          "output_type": "display_data",
          "data": {
            "image/png": "[encoded data removed]",
            "text/plain": [
              "<Figure size 792x72 with 1 Axes>"
            ]
          },
          "metadata": {
            "tags": [],
            "needs_background": "light"
          }
        }
      ]
    },
    {
      "cell_type": "code",
      "metadata": {
        "colab": {
          "base_uri": "https://localhost:8080/",
          "height": 132
        },
        "id": "PsUbt-zVOywH",
        "outputId": "d34d2fb3-9265-45fa-fe61-bc6d54f65a1e"
      },
      "source": [
        "plot_sequence_composition('2L')"
      ],
      "execution_count": null,
      "outputs": [
        {
          "output_type": "display_data",
          "data": {
            "image/png": "[encoded data removed]",
            "text/plain": [
              "<Figure size 635.25x72 with 1 Axes>"
            ]
          },
          "metadata": {
            "tags": [],
            "needs_background": "light"
          }
        }
      ]
    },
    {
      "cell_type": "code",
      "metadata": {
        "colab": {
          "base_uri": "https://localhost:8080/",
          "height": 132
        },
        "id": "lBmIrKrFOywH",
        "outputId": "2e973bc1-76b6-438a-8e6c-236109a81c58"
      },
      "source": [
        "plot_sequence_composition('3R')"
      ],
      "execution_count": null,
      "outputs": [
        {
          "output_type": "display_data",
          "data": {
            "image/png": "[encoded data removed]",
            "text/plain": [
              "<Figure size 684.619x72 with 1 Axes>"
            ]
          },
          "metadata": {
            "tags": [],
            "needs_background": "light"
          }
        }
      ]
    },
    {
      "cell_type": "code",
      "metadata": {
        "colab": {
          "base_uri": "https://localhost:8080/",
          "height": 132
        },
        "id": "uiadzlCsOywH",
        "outputId": "adfa6c9c-c87c-4e02-e674-047eeb7bea64"
      },
      "source": [
        "plot_sequence_composition('3L')"
      ],
      "execution_count": null,
      "outputs": [
        {
          "output_type": "display_data",
          "data": {
            "image/png": "[encoded data removed]",
            "text/plain": [
              "<Figure size 540.011x72 with 1 Axes>"
            ]
          },
          "metadata": {
            "tags": [],
            "needs_background": "light"
          }
        }
      ]
    },
    {
      "cell_type": "code",
      "metadata": {
        "colab": {
          "base_uri": "https://localhost:8080/",
          "height": 132
        },
        "id": "KxQoX5a8OywI",
        "outputId": "e4675d6b-1f60-41b9-810d-5d90a0aa8217"
      },
      "source": [
        "plot_sequence_composition('X')"
      ],
      "execution_count": null,
      "outputs": [
        {
          "output_type": "display_data",
          "data": {
            "image/png": "[encoded data removed]",
            "text/plain": [
              "<Figure size 313.905x72 with 1 Axes>"
            ]
          },
          "metadata": {
            "tags": [],
            "needs_background": "light"
          }
        }
      ]
    },
    {
      "cell_type": "markdown",
      "metadata": {
        "id": "fa3Uy9mUOywI"
      },
      "source": [
        "A few points to note about the plots above:\n",
        "\n",
        "1. All of the chromosome arms are made up of A, C, T and G in roughly equal proportion, although A and T are a little more common than C and G.\n",
        "\n",
        "1. We annotated each chromosome arm with \"[centromere](https://www.genome.gov/genetics-glossary/Centromere)\" and \"[telomere](https://www.genome.gov/genetics-glossary/Telomere)\". You probably don't need to know what these mean, but it is worth knowing that the sequences at these two different ends of the chromosome tend to be quite different, especially towards the centromere. \n",
        "\n",
        "1. Gaps (N) are relatively uncommon, except towards the centromere of all chromosome arms where they are more common. This is typically because sequences are more repetitive towards the centromeres and so assembling the genome is more difficult. \n",
        "\n",
        "1. We made the size of each figure proportional to the length of the sequence. This was to help give a feeling for the relative size of the different chromosome arms. \n",
        "\n",
        "1. We converted the X-axis coordinates to \"Mbp\" which means mega-base pairs, i.e., millions of letters.\n",
        "\n",
        "Now we're acquainted with the reference genome, let's look at nucleotide variation."
      ]
    },
    {
      "cell_type": "markdown",
      "metadata": {
        "id": "MAK3QEU5OywI"
      },
      "source": [
        "## SNP positions and alleles\n",
        "\n",
        "When studying genetic variation in natural populations, there are two fundamental questions:\n",
        "\n",
        "1. Where in the genome do we observe **differences (i.e., nucleotide variation)** between individual mosquitoes. \n",
        "\n",
        "2. Where in the genome do we observe **no differences (i.e., nucleotide conservation)** between individuals. \n",
        "\n",
        "Sometimes this second question is overlooked, but both questions are important.\n",
        "\n",
        "In Ag1000G phase 3 we have taken a slightly different approach to calling single nucleotide polymorphisms (SNPs - single letter differences) than in previous project phases. Because we are interested in both of the above questions, **we have genotyped all individual mosquitoes at all genomic sites where the reference genotype nucleotide is known (i.e., not an \"N\"), regardless of whether any variation is present**. This is sometimes known as an \"all sites\" analysis. \n",
        "\n",
        "In order to simplify SNP calling across a large number of individuals, **we also declared the set of all possible alternate (variant) SNP alleles ahead of time**. Because we are analysing SNPs and we are not considering any other types of variation at this stage, then at each site in the genome there is one reference allele (i.e., the nucleotide in the reference genome) and three possible alternate alleles. E.g., at position 10 on chromosome arm 2R, the reference allele is \"T\", and so there are three possible alternate alleles: \"A\", \"C\" and \"G\".\n",
        "\n",
        "Let's look at how these data are represented for chromosome arm 2R:"
      ]
    },
    {
      "cell_type": "code",
      "metadata": {
        "id": "AK5cs_GWOywI"
      },
      "source": [
        "pos, ref, alt = ag3.snp_sites(\"2R\")"
      ],
      "execution_count": 10,
      "outputs": []
    },
    {
      "cell_type": "markdown",
      "metadata": {
        "id": "LuSiSbmaOywJ"
      },
      "source": [
        "The `pos` array here holds the 1-based positions (coordinates) where the SNPs were called. E.g., here's the first 10 SNP positions:"
      ]
    },
    {
      "cell_type": "code",
      "metadata": {
        "colab": {
          "base_uri": "https://localhost:8080/"
        },
        "id": "tnwCcDL7OywJ",
        "outputId": "2718d51d-8b63-4153-8222-25cf7c782413"
      },
      "source": [
        "pos[:10].compute()"
      ],
      "execution_count": 11,
      "outputs": [
        {
          "output_type": "execute_result",
          "data": {
            "text/plain": [
              "array([ 1,  2,  3,  4,  5,  6,  7,  8,  9, 10], dtype=int32)"
            ]
          },
          "metadata": {
            "tags": []
          },
          "execution_count": 11
        }
      ]
    },
    {
      "cell_type": "markdown",
      "metadata": {
        "id": "OHjmShYFOywJ"
      },
      "source": [
        "Note that this is simply the positions 1-10. However, these positions **do not** continue increasing by 1 all the way through the array, i.e., there are gaps, because of gaps in the reference genome. We can quickly visualise that, by plotting the distance between adjacent sites:"
      ]
    },
    {
      "cell_type": "code",
      "metadata": {
        "colab": {
          "base_uri": "https://localhost:8080/",
          "height": 187
        },
        "id": "78PBXc-aOywJ",
        "outputId": "a0f30693-375e-4161-f4cf-a9a17ed33a29"
      },
      "source": [
        "p = pos.compute()\n",
        "d = np.diff(p)\n",
        "fig, ax = plt.subplots(figsize=(11, 2))\n",
        "ax.plot(p[1:], d, color='black', linewidth=.5)\n",
        "ax.set_title(\"2R\")\n",
        "# convert X axis to Mbp\n",
        "ax.xaxis.set_major_formatter(mpl.ticker.FuncFormatter(lambda x, p: x//1e6))\n",
        "ax.set_xlabel(\"Position (Mbp)\")\n",
        "ax.set_ylabel('Gap size (bp)');"
      ],
      "execution_count": 12,
      "outputs": [
        {
          "output_type": "display_data",
          "data": {
            "image/png": "[encoded data removed]",
            "text/plain": [
              "<Figure size 792x144 with 1 Axes>"
            ]
          },
          "metadata": {
            "tags": [],
            "needs_background": "light"
          }
        }
      ]
    },
    {
      "cell_type": "markdown",
      "metadata": {
        "id": "Yzi9PJirOywJ"
      },
      "source": [
        "Note also that the length of the `pos` array is less than the length of the reference genome sequence:"
      ]
    },
    {
      "cell_type": "code",
      "metadata": {
        "colab": {
          "base_uri": "https://localhost:8080/"
        },
        "id": "M7K8hmtzOywJ",
        "outputId": "22745a12-1930-4787-c173-e60c701a6914"
      },
      "source": [
        "len(seq) - len(pos)"
      ],
      "execution_count": 13,
      "outputs": [
        {
          "output_type": "execute_result",
          "data": {
            "text/plain": [
              "1412652"
            ]
          },
          "metadata": {
            "tags": []
          },
          "execution_count": 13
        }
      ]
    },
    {
      "cell_type": "markdown",
      "metadata": {
        "id": "Q807xOjNOywJ"
      },
      "source": [
        "This difference is the number of unknown nucleotides (\"N\"s) in the reference genome that we computed earlier. This is another way of confirming that we have called SNP genotypes at all genomic sites where the reference genome nucleotide is known."
      ]
    },
    {
      "cell_type": "markdown",
      "metadata": {
        "id": "2oWsAZdVOywK"
      },
      "source": [
        "The `ref` array holds the reference alleles, i.e., the reference genome nucleotide for each SNP site. E.g., here's the reference alleles at the first 10 SNP sites:"
      ]
    },
    {
      "cell_type": "code",
      "metadata": {
        "colab": {
          "base_uri": "https://localhost:8080/"
        },
        "id": "hzC47IG1OywK",
        "outputId": "3c2c8060-f2bf-4934-aebc-4d32a32f1172"
      },
      "source": [
        "ref[:10].compute()"
      ],
      "execution_count": 14,
      "outputs": [
        {
          "output_type": "execute_result",
          "data": {
            "text/plain": [
              "array([b'C', b'T', b'C', b'T', b'A', b'A', b'A', b'C', b'A', b'T'],\n",
              "      dtype='|S1')"
            ]
          },
          "metadata": {
            "tags": []
          },
          "execution_count": 14
        }
      ]
    },
    {
      "cell_type": "markdown",
      "metadata": {
        "id": "oMCA3ASoOywK"
      },
      "source": [
        "We can confirm that this corresponds to the nucleotides in the reference sequence by using the SNP positions to index the sequence (remembering to convert to zero-based coordinates):"
      ]
    },
    {
      "cell_type": "code",
      "metadata": {
        "colab": {
          "base_uri": "https://localhost:8080/"
        },
        "id": "iwZ4o_DoOywK",
        "outputId": "d59edae8-313b-451a-9d1e-bd43042efe46"
      },
      "source": [
        "np.take(seq, pos[:10] - 1)"
      ],
      "execution_count": 15,
      "outputs": [
        {
          "output_type": "execute_result",
          "data": {
            "text/plain": [
              "array([b'C', b'T', b'c', b't', b'a', b'a', b'a', b'c', b'a', b't'],\n",
              "      dtype='|S1')"
            ]
          },
          "metadata": {
            "tags": []
          },
          "execution_count": 15
        }
      ]
    },
    {
      "cell_type": "markdown",
      "metadata": {
        "id": "LnWdgvM4OywK"
      },
      "source": [
        "The `alt` array holds the predefined alternate alleles at each site. E.g., here's the alternate alleles for the first 10 SNP sites:"
      ]
    },
    {
      "cell_type": "code",
      "metadata": {
        "colab": {
          "base_uri": "https://localhost:8080/"
        },
        "id": "Um0TxInJOywK",
        "outputId": "1c89379f-e807-4f22-bb9d-77a924c63a4d"
      },
      "source": [
        "alt[:10].compute()"
      ],
      "execution_count": 16,
      "outputs": [
        {
          "output_type": "execute_result",
          "data": {
            "text/plain": [
              "array([[b'A', b'T', b'G'],\n",
              "       [b'A', b'C', b'G'],\n",
              "       [b'A', b'T', b'G'],\n",
              "       [b'A', b'C', b'G'],\n",
              "       [b'C', b'T', b'G'],\n",
              "       [b'C', b'T', b'G'],\n",
              "       [b'C', b'T', b'G'],\n",
              "       [b'A', b'T', b'G'],\n",
              "       [b'C', b'T', b'G'],\n",
              "       [b'A', b'C', b'G']], dtype='|S1')"
            ]
          },
          "metadata": {
            "tags": []
          },
          "execution_count": 16
        }
      ]
    },
    {
      "cell_type": "markdown",
      "metadata": {
        "id": "_rL_Vq9jOywK"
      },
      "source": [
        "Each row represents a site, and the columns show the three possible alternate alleles.\n",
        "\n",
        "The same applies if you are working with the data in VCF format. E.g., here's the first 10 rows of the VCF file with SNP genotypes for sample AR0001-C [previously downloaded](../download), note the three alternate (ALT) alleles at every site:"
      ]
    },
    {
      "cell_type": "code",
      "metadata": {
        "id": "gb6LteUDOywL",
        "outputId": "807c7d5f-3155-4164-95dd-a57c44c66149"
      },
      "source": [
        "with gzip.open(\"../AR0001-C.vcf.gz\", mode='rt') as f:\n",
        "    count = 0\n",
        "    for line in f:\n",
        "        if not line.startswith(\"##\"):\n",
        "            print(line.strip())\n",
        "            count += 1\n",
        "        if count > 10:\n",
        "            break"
      ],
      "execution_count": null,
      "outputs": [
        {
          "output_type": "stream",
          "text": [
            "#CHROM\tPOS\tID\tREF\tALT\tQUAL\tFILTER\tINFO\tFORMAT\tAR0001-C\n",
            "2R\t1\t.\tC\tA,T,G\t0.08\t.\tExcessHet=3.0103;MLEAC=0,0,0;MLEAF=0.00,0.00,0.00;MQ=14.72\tGT:AD:DP:GQ:PL\t0/0:5,0,0,0:5:6:0,6,52,6,52,52,6,52,52,52\n",
            "2R\t2\t.\tT\tA,C,G\t0.08\t.\tExcessHet=3.0103;MLEAC=0,0,0;MLEAF=0.00,0.00,0.00;MQ=13.44\tGT:AD:DP:GQ:PL\t0/0:6,0,0,0:6:6:0,6,53,6,53,53,6,53,53,53\n",
            "2R\t3\t.\tC\tA,T,G\t0.08\t.\tExcessHet=3.0103;MLEAC=0,0,0;MLEAF=0.00,0.00,0.00;MQ=12.44\tGT:AD:DP:GQ:PL\t0/0:7,0,0,0:7:6:0,6,53,6,53,53,6,53,53,53\n",
            "2R\t4\t.\tT\tA,C,G\t0.08\t.\tExcessHet=3.0103;MLEAC=0,0,0;MLEAF=0.00,0.00,0.00;MQ=12.44\tGT:AD:DP:GQ:PL\t0/0:7,0,0,0:7:6:0,6,53,6,53,53,6,53,53,53\n",
            "2R\t5\t.\tA\tC,T,G\t0.08\t.\tExcessHet=3.0103;MLEAC=0,0,0;MLEAF=0.00,0.00,0.00;MQ=22.81\tGT:AD:DP:GQ:PL\t0/0:9,0,0,0:9:6:0,6,53,6,53,53,6,53,53,53\n",
            "2R\t6\t.\tA\tC,T,G\t0.02\t.\tExcessHet=3.0103;MLEAC=0,0,0;MLEAF=0.00,0.00,0.00;MQ=28.78\tGT:AD:DP:GQ:PL\t0/0:10,0,0,0:10:12:0,12,113,12,113,113,12,113,113,113\n",
            "2R\t7\t.\tA\tC,T,G\t0.02\t.\tExcessHet=3.0103;MLEAC=0,0,0;MLEAF=0.00,0.00,0.00;MQ=27.68\tGT:AD:DP:GQ:PL\t0/0:11,0,0,0:11:12:0,12,118,12,118,118,12,118,118,118\n",
            "2R\t8\t.\tC\tA,T,G\t0.02\t.\tExcessHet=3.0103;MLEAC=0,0,0;MLEAF=0.00,0.00,0.00;MQ=27.68\tGT:AD:DP:GQ:PL\t0/0:11,0,0,0:11:12:0,12,130,12,130,130,12,130,130,130\n",
            "2R\t9\t.\tA\tC,T,G\t0.01\t.\tExcessHet=3.0103;MLEAC=0,0,0;MLEAF=0.00,0.00,0.00;MQ=31.66\tGT:AD:DP:GQ:PL\t0/0:12,0,0,0:12:15:0,15,156,15,156,156,15,156,156,156\n",
            "2R\t10\t.\tT\tA,C,G\t0.01\t.\tExcessHet=3.0103;MLEAC=0,0,0;MLEAF=0.00,0.00,0.00;MQ=34.67\tGT:AD:DP:GQ:PL\t0/0:13,0,0,0:13:18:0,18,181,18,181,181,18,181,181,181\n"
          ],
          "name": "stdout"
        }
      ]
    },
    {
      "cell_type": "markdown",
      "metadata": {
        "id": "ukDJ50dkOywL"
      },
      "source": [
        "The most important thing to note about the SNP data in Ag3 is that **not all of these alternate alleles will have been observed in the mosquitoes we sequenced.**\n",
        "\n",
        "To determine which alternate alleles are observed in Ag3, we need to look at the SNP genotypes. Let's take a look at how SNP genotypes are represented, then return to the question of which alternate alleles have been observed.\n",
        "\n",
        "## Genotypes\n",
        "\n",
        "Here a SNP \"genotype\" means the pair of nucleotides (alleles) carried by an individual mosquito at a specific site in the genome. Note that this is a pair of alleles because mosquitoes are diploid like us, meaning that they carry two copies of their genome, one inherited from each parent (except for males on the X chromosome, more on that later).\n",
        "\n",
        "Rather than storing the actual nucleotides for each genotype, it is conventional to use a numerical encoding of genotypes, where 0 stands for the reference allele, 1 stands for the first alternate allele, 2 stands for the second alternate allele, 3 stands for the third alternate allele, etc.\n",
        "\n",
        "E.g., at site 2R:10 the reference allele is \"T\". If an individual mosquito carries a homozygous reference genotype (both genome copies have a \"T\"), we represent this in Python as the pair of integers `(0, 0)`. In a VCF file this is represented as the string \"0/0\".\n",
        "\n",
        "At 2R:10 we have arbitrarily declared that \"A\" is the first alternate allele. If an individual carries a heterozygous genotype, where one genome copy has \"T\" and the other has \"A\", this is represented as the pair `(0, 1)`. The ordering of this pair has no meaning.\n",
        "\n",
        "Similarly, at 2R:10 we have arbitrarily declared that \"C\" is the second alternate allele and \"G\" is the third alternate allele. So, a genotype homozygous for the \"C\" allele would be represented as `(2, 2)`, a genotype homozygous for \"G\" would be `(3, 3)` and a genotype heterozygous for the \"C\" and \"G\" alleles would be `(2, 3)`.\n",
        "\n",
        "There's one more thing to know. Sometimes a genotype is called as missing, meaning that there were no sequence reads for the given individual at a given site. In Python we represent this as a pair of negative numbers `(-1, -1)`. In VCF this is represented as the string \"./.\".\n",
        "\n",
        "Here are those example genotypes again, shown as a table with the different representations:\n",
        "\n",
        "<div class=\"cell_output\">\n",
        "<table border=\"1\" class=\"dataframe\">\n",
        "<thead>\n",
        "<tr>\n",
        "<th>Reference allele</th>\n",
        "<th>Alternate alleles</th>\n",
        "<th>Genotype</th>\n",
        "<th>Genotype (Python)</th>\n",
        "<th>Genotype (VCF)</th>\n",
        "<th>Description</th>\n",
        "</tr>\n",
        "</thead>\n",
        "<tbody>\n",
        "<tr>\n",
        "<th rowspan=\"7\">T</td>\n",
        "<th rowspan=\"7\">A,C,G</td>\n",
        "<td>T/T</td>\n",
        "<td><code>(0, 0)</code></td>\n",
        "<td>0/0</td>\n",
        "<td>homozygous reference</td>\n",
        "</tr>\n",
        "<tr>\n",
        "<td>T/A</td>\n",
        "<td><code>(0, 1)</code></td>\n",
        "<td>0/1</td>\n",
        "<td>heterozygous</td>\n",
        "</tr>\n",
        "<tr>\n",
        "<td>A/A</td>\n",
        "<td><code>(1, 1)</code></td>\n",
        "<td>1/1</td>\n",
        "<td>homozygous alternate</td>\n",
        "</tr>\n",
        "<tr>\n",
        "<td>C/C</td>\n",
        "<td><code>(2, 2)</code></td>\n",
        "<td>2/2</td>\n",
        "<td>homozygous alternate</td>\n",
        "</tr>\n",
        "<tr>\n",
        "<td>G/G</td>\n",
        "<td><code>(3, 3)</code></td>\n",
        "<td>3/3</td>\n",
        "<td>homozygous alternate</td>\n",
        "</tr>\n",
        "<tr>\n",
        "<td>C/G</td>\n",
        "<td><code>(2, 3)</code></td>\n",
        "<td>2/3</td>\n",
        "<td>heterozygous</td>\n",
        "</tr>\n",
        "<tr>\n",
        "<td>missing</td>\n",
        "<td><code>(-1, -1)</code></td>\n",
        "<td>./.</td>\n",
        "<td>missing</td>\n",
        "</tr>\n",
        "</tbody>\n",
        "</table>\n",
        "</div>\n",
        "<br/>"
      ]
    },
    {
      "cell_type": "markdown",
      "metadata": {
        "id": "6rIPnsgPMgsQ"
      },
      "source": [
        "To see this in action, let's access the SNP genotypes for chromosome arm 2R for all wild samples in Ag3."
      ]
    },
    {
      "cell_type": "code",
      "metadata": {
        "colab": {
          "base_uri": "https://localhost:8080/"
        },
        "id": "jK2z_yzoOywL",
        "outputId": "4ba1ffdb-ea67-430d-aa1d-a85d700829c4"
      },
      "source": [
        "gt = ag3.snp_genotypes(contig=\"2R\", sample_sets=\"v3\")\n",
        "gt.shape"
      ],
      "execution_count": 17,
      "outputs": [
        {
          "output_type": "execute_result",
          "data": {
            "text/plain": [
              "(60132453, 3081, 2)"
            ]
          },
          "metadata": {
            "tags": []
          },
          "execution_count": 17
        }
      ]
    },
    {
      "cell_type": "markdown",
      "metadata": {
        "id": "QQhOhtqhOywL"
      },
      "source": [
        "The `gt` array has three dimensions. The first dimension corresponds to the genomic sites we've analysed (in this case, there are 60,132,453 sites on chromosome arm 2R). The second dimension (3,081) is the number of individual mosquitoes (a.k.a. samples) sequenced. The third dimension (2) represents the two alleles in each individual genotype.\n",
        "\n",
        "So, e.g., let's look up the genotype call at the 10th site in the 1st sample:"
      ]
    },
    {
      "cell_type": "code",
      "metadata": {
        "colab": {
          "base_uri": "https://localhost:8080/"
        },
        "id": "ywvR0hrQOywL",
        "outputId": "47573dee-5ac4-4950-82e6-f8a7e907beac"
      },
      "source": [
        "gt[9, 0].compute()"
      ],
      "execution_count": 18,
      "outputs": [
        {
          "output_type": "execute_result",
          "data": {
            "text/plain": [
              "array([0, 0], dtype=int8)"
            ]
          },
          "metadata": {
            "tags": []
          },
          "execution_count": 18
        }
      ]
    },
    {
      "cell_type": "markdown",
      "metadata": {
        "id": "kns26KRXOywL"
      },
      "source": [
        "This is a homozygous reference genotype.\n",
        "\n",
        "Let's try another, the 10th site and the 2,393rd sample."
      ]
    },
    {
      "cell_type": "code",
      "metadata": {
        "colab": {
          "base_uri": "https://localhost:8080/"
        },
        "id": "os_0ByYYOywM",
        "outputId": "4a1f0dae-141b-4a43-f27c-6dfcc3eb1ca8"
      },
      "source": [
        "gt[9, 2392].compute()"
      ],
      "execution_count": 19,
      "outputs": [
        {
          "output_type": "execute_result",
          "data": {
            "text/plain": [
              "array([0, 2], dtype=int8)"
            ]
          },
          "metadata": {
            "tags": []
          },
          "execution_count": 19
        }
      ]
    },
    {
      "cell_type": "markdown",
      "metadata": {
        "id": "QUrqGNI0OywM"
      },
      "source": [
        "This is a heterozygous genotype, where the reference allele and the second alternate allele are both present.\n",
        "\n",
        "Let's look at one more genotype, the 10th site and the 249th sample."
      ]
    },
    {
      "cell_type": "code",
      "metadata": {
        "colab": {
          "base_uri": "https://localhost:8080/"
        },
        "id": "Zh4neNW1OywM",
        "outputId": "e441a178-c9d4-4c2f-ae4b-4dc9a479c1fc"
      },
      "source": [
        "gt[9, 248].compute()"
      ],
      "execution_count": 20,
      "outputs": [
        {
          "output_type": "execute_result",
          "data": {
            "text/plain": [
              "array([-1, -1], dtype=int8)"
            ]
          },
          "metadata": {
            "tags": []
          },
          "execution_count": 20
        }
      ]
    },
    {
      "cell_type": "markdown",
      "metadata": {
        "id": "YYlTfF-JOywM"
      },
      "source": [
        "This is a missing genotype call.\n",
        "\n",
        "When working with genotype arrays it can be useful to use the scikit-allel package. Let's wrap the `gt` variable, which is a general purpose [dask array](https://docs.dask.org/en/latest/array.html), with the scikit-allel `GenotypeDaskArray` class, which provides some useful functionality for analysing genotype data."
      ]
    },
    {
      "cell_type": "code",
      "metadata": {
        "colab": {
          "base_uri": "https://localhost:8080/",
          "height": 204
        },
        "id": "w7GCLdpsOywM",
        "outputId": "1bb2b18e-f4ad-44bc-a16d-52cd66293e33"
      },
      "source": [
        "gt = allel.GenotypeDaskArray(gt)\n",
        "gt"
      ],
      "execution_count": 21,
      "outputs": [
        {
          "output_type": "execute_result",
          "data": {
            "text/html": [
              "<div class=\"allel allel-DisplayAs2D\"><span>&lt;GenotypeDaskArray shape=(60132453, 3081, 2) dtype=int8&gt;</span><table><thead><tr><th></th><th style=\"text-align: center\">0</th><th style=\"text-align: center\">1</th><th style=\"text-align: center\">2</th><th style=\"text-align: center\">3</th><th style=\"text-align: center\">4</th><th style=\"text-align: center\">...</th><th style=\"text-align: center\">3076</th><th style=\"text-align: center\">3077</th><th style=\"text-align: center\">3078</th><th style=\"text-align: center\">3079</th><th style=\"text-align: center\">3080</th></tr></thead><tbody><tr><th style=\"text-align: center; background-color: white; border-right: 1px solid black; \">0</th><td style=\"text-align: center\">0/0</td><td style=\"text-align: center\">./.</td><td style=\"text-align: center\">0/0</td><td style=\"text-align: center\">0/0</td><td style=\"text-align: center\">0/0</td><td style=\"text-align: center\">...</td><td style=\"text-align: center\">0/0</td><td style=\"text-align: center\">0/0</td><td style=\"text-align: center\">0/0</td><td style=\"text-align: center\">0/0</td><td style=\"text-align: center\">0/0</td></tr><tr><th style=\"text-align: center; background-color: white; border-right: 1px solid black; \">1</th><td style=\"text-align: center\">0/0</td><td style=\"text-align: center\">./.</td><td style=\"text-align: center\">0/0</td><td style=\"text-align: center\">0/0</td><td style=\"text-align: center\">0/0</td><td style=\"text-align: center\">...</td><td style=\"text-align: center\">0/0</td><td style=\"text-align: center\">0/0</td><td style=\"text-align: center\">0/0</td><td style=\"text-align: center\">0/0</td><td style=\"text-align: center\">0/0</td></tr><tr><th style=\"text-align: center; background-color: white; border-right: 1px solid black; \">2</th><td style=\"text-align: center\">0/0</td><td style=\"text-align: center\">./.</td><td style=\"text-align: center\">0/0</td><td style=\"text-align: center\">0/0</td><td style=\"text-align: center\">0/0</td><td style=\"text-align: center\">...</td><td style=\"text-align: center\">0/0</td><td style=\"text-align: center\">0/0</td><td style=\"text-align: center\">0/0</td><td style=\"text-align: center\">0/0</td><td style=\"text-align: center\">0/0</td></tr><tr><th style=\"text-align: center; background-color: white; border-right: 1px solid black; \">...</th><td style=\"text-align: center\" colspan=\"12\">...</td></tr><tr><th style=\"text-align: center; background-color: white; border-right: 1px solid black; \">60132450</th><td style=\"text-align: center\">./.</td><td style=\"text-align: center\">./.</td><td style=\"text-align: center\">./.</td><td style=\"text-align: center\">./.</td><td style=\"text-align: center\">./.</td><td style=\"text-align: center\">...</td><td style=\"text-align: center\">./.</td><td style=\"text-align: center\">./.</td><td style=\"text-align: center\">./.</td><td style=\"text-align: center\">./.</td><td style=\"text-align: center\">./.</td></tr><tr><th style=\"text-align: center; background-color: white; border-right: 1px solid black; \">60132451</th><td style=\"text-align: center\">./.</td><td style=\"text-align: center\">./.</td><td style=\"text-align: center\">./.</td><td style=\"text-align: center\">./.</td><td style=\"text-align: center\">./.</td><td style=\"text-align: center\">...</td><td style=\"text-align: center\">./.</td><td style=\"text-align: center\">./.</td><td style=\"text-align: center\">./.</td><td style=\"text-align: center\">./.</td><td style=\"text-align: center\">./.</td></tr><tr><th style=\"text-align: center; background-color: white; border-right: 1px solid black; \">60132452</th><td style=\"text-align: center\">./.</td><td style=\"text-align: center\">./.</td><td style=\"text-align: center\">./.</td><td style=\"text-align: center\">./.</td><td style=\"text-align: center\">./.</td><td style=\"text-align: center\">...</td><td style=\"text-align: center\">./.</td><td style=\"text-align: center\">./.</td><td style=\"text-align: center\">./.</td><td style=\"text-align: center\">./.</td><td style=\"text-align: center\">./.</td></tr></tbody></table></div>"
            ],
            "text/plain": [
              "<GenotypeDaskArray shape=(60132453, 3081, 2) dtype=int8>"
            ]
          },
          "metadata": {
            "tags": []
          },
          "execution_count": 21
        }
      ]
    },
    {
      "cell_type": "markdown",
      "metadata": {
        "id": "fZqU_izjOywM"
      },
      "source": [
        "This wrapper class provided a display showing a preview of genotype calls for the first and last sites and samples, using the VCF-style representation of genotype calls (e.g., \"0/0\" is homozygous reference, etc.).\n",
        "\n",
        "Once we have access to the genotype calls, we can run a variety of different computations. A common computation needed for many analyses is an allele count, which we'll examine next.\n",
        "\n",
        "## Allele counts\n",
        "\n",
        "An allele count involves scanning across all the genotypes at a given site and counting the number of times each allele is observed. I.e., how many 0s, 1s, 2s and 3s are observed. Let's do an allele count for the first 10 sites on chromosome arm 2R."
      ]
    },
    {
      "cell_type": "code",
      "metadata": {
        "colab": {
          "base_uri": "https://localhost:8080/",
          "height": 267
        },
        "id": "ByO6jME5OywM",
        "outputId": "860ed5dd-5aff-4538-f5d6-53438f973fd7"
      },
      "source": [
        "ac = gt[:10].count_alleles(max_allele=3).compute()\n",
        "ac.displayall()"
      ],
      "execution_count": 22,
      "outputs": [
        {
          "output_type": "display_data",
          "data": {
            "text/html": [
              "<div class=\"allel allel-DisplayAs2D\"><span>&lt;AlleleCountsArray shape=(10, 4) dtype=int32&gt;</span><table><thead><tr><th></th><th style=\"text-align: center\">0</th><th style=\"text-align: center\">1</th><th style=\"text-align: center\">2</th><th style=\"text-align: center\">3</th></tr></thead><tbody><tr><th style=\"text-align: center; background-color: white; border-right: 1px solid black; \">0</th><td style=\"text-align: center\">5871</td><td style=\"text-align: center\">   2</td><td style=\"text-align: center\">   1</td><td style=\"text-align: center\">   0</td></tr><tr><th style=\"text-align: center; background-color: white; border-right: 1px solid black; \">1</th><td style=\"text-align: center\">5930</td><td style=\"text-align: center\">   0</td><td style=\"text-align: center\">   5</td><td style=\"text-align: center\">   1</td></tr><tr><th style=\"text-align: center; background-color: white; border-right: 1px solid black; \">2</th><td style=\"text-align: center\">5981</td><td style=\"text-align: center\">   7</td><td style=\"text-align: center\">   2</td><td style=\"text-align: center\">   0</td></tr><tr><th style=\"text-align: center; background-color: white; border-right: 1px solid black; \">3</th><td style=\"text-align: center\">6033</td><td style=\"text-align: center\">   1</td><td style=\"text-align: center\">   2</td><td style=\"text-align: center\">   0</td></tr><tr><th style=\"text-align: center; background-color: white; border-right: 1px solid black; \">4</th><td style=\"text-align: center\">6050</td><td style=\"text-align: center\">   0</td><td style=\"text-align: center\">   0</td><td style=\"text-align: center\">   0</td></tr><tr><th style=\"text-align: center; background-color: white; border-right: 1px solid black; \">5</th><td style=\"text-align: center\">6070</td><td style=\"text-align: center\">   1</td><td style=\"text-align: center\">   0</td><td style=\"text-align: center\">   3</td></tr><tr><th style=\"text-align: center; background-color: white; border-right: 1px solid black; \">6</th><td style=\"text-align: center\">6080</td><td style=\"text-align: center\">   4</td><td style=\"text-align: center\">   0</td><td style=\"text-align: center\">   0</td></tr><tr><th style=\"text-align: center; background-color: white; border-right: 1px solid black; \">7</th><td style=\"text-align: center\">6073</td><td style=\"text-align: center\">   2</td><td style=\"text-align: center\">   6</td><td style=\"text-align: center\">  15</td></tr><tr><th style=\"text-align: center; background-color: white; border-right: 1px solid black; \">8</th><td style=\"text-align: center\">6118</td><td style=\"text-align: center\">   0</td><td style=\"text-align: center\">   1</td><td style=\"text-align: center\">   1</td></tr><tr><th style=\"text-align: center; background-color: white; border-right: 1px solid black; \">9</th><td style=\"text-align: center\">6120</td><td style=\"text-align: center\">   1</td><td style=\"text-align: center\">   4</td><td style=\"text-align: center\">   1</td></tr></tbody></table></div>"
            ]
          },
          "metadata": {
            "tags": []
          }
        }
      ]
    },
    {
      "cell_type": "markdown",
      "metadata": {
        "id": "vOS1QcNAonk_"
      },
      "source": [
        "In the `ac` array above, each row represents a site, and the four columns represent the four alleles. The values are the number of times each allele was observed at each site. So, now we can see which alleles have been observed in the Ag3 data.\n",
        "\n",
        "E.g., for the 10th site, the reference allele (`0`) was observed 6120 times, the first alternate allele (`1`) was observed once, the second alternate allele (`2`) was observed four times, and the third alternate allele (`3`) was observed once. So, this is a site where in fact all four possible alleles (nucleotides) were observed in Ag3 samples. This is an example of a multiallelic site.\n",
        "\n",
        "Let's look at some other sites. \n",
        "\n",
        "At the fifth site, only the reference allele was observed. This is an example of an invariant site. I.e., there is no variation there, all samples were homozygous for the reference allele or had a missing genotype call.\n",
        "\n",
        "At the seventh site, two alleles were observed, the reference allele and the first alternate allele. This is an example of a biallelic site. Note that biallelic sites might involve any pair of alleles, not always `0` and `1`.\n",
        "\n",
        "Let's use this allele counts array to compute some properties of these 10 sites."
      ]
    },
    {
      "cell_type": "code",
      "metadata": {
        "colab": {
          "base_uri": "https://localhost:8080/"
        },
        "id": "2y-IQO71qVrN",
        "outputId": "dad655a5-8b48-4a37-9a10-e7b0cfa54c5e"
      },
      "source": [
        "# how many alleles were observed\n",
        "ac.allelism()"
      ],
      "execution_count": 23,
      "outputs": [
        {
          "output_type": "execute_result",
          "data": {
            "text/plain": [
              "array([3, 3, 3, 3, 1, 3, 2, 4, 3, 4])"
            ]
          },
          "metadata": {
            "tags": []
          },
          "execution_count": 23
        }
      ]
    },
    {
      "cell_type": "code",
      "metadata": {
        "colab": {
          "base_uri": "https://localhost:8080/"
        },
        "id": "SoKLa3GgOywN",
        "outputId": "66cdf3c9-94fb-462e-b63e-e464dd79c24d"
      },
      "source": [
        "# whether any alternate alleles were observed\n",
        "ac.is_variant()"
      ],
      "execution_count": 24,
      "outputs": [
        {
          "output_type": "execute_result",
          "data": {
            "text/plain": [
              "array([ True,  True,  True,  True, False,  True,  True,  True,  True,\n",
              "        True])"
            ]
          },
          "metadata": {
            "tags": []
          },
          "execution_count": 24
        }
      ]
    },
    {
      "cell_type": "code",
      "metadata": {
        "colab": {
          "base_uri": "https://localhost:8080/"
        },
        "id": "avehXgcjqOFo",
        "outputId": "b5ff95f5-d710-4cca-a53a-9ead49c14f75"
      },
      "source": [
        "# whether more than one allele was observed\n",
        "ac.is_segregating()"
      ],
      "execution_count": 25,
      "outputs": [
        {
          "output_type": "execute_result",
          "data": {
            "text/plain": [
              "array([ True,  True,  True,  True, False,  True,  True,  True,  True,\n",
              "        True])"
            ]
          },
          "metadata": {
            "tags": []
          },
          "execution_count": 25
        }
      ]
    },
    {
      "cell_type": "code",
      "metadata": {
        "colab": {
          "base_uri": "https://localhost:8080/"
        },
        "id": "i_pJV8hIqSwo",
        "outputId": "d18070d4-5fbf-4345-85bd-46063ecf8e07"
      },
      "source": [
        "# whether exactly two alleles were observed\n",
        "ac.is_biallelic()"
      ],
      "execution_count": 26,
      "outputs": [
        {
          "output_type": "execute_result",
          "data": {
            "text/plain": [
              "array([False, False, False, False, False, False,  True, False, False,\n",
              "       False])"
            ]
          },
          "metadata": {
            "tags": []
          },
          "execution_count": 26
        }
      ]
    },
    {
      "cell_type": "code",
      "metadata": {
        "colab": {
          "base_uri": "https://localhost:8080/"
        },
        "id": "6PW6fboeOywM",
        "outputId": "5e258a8d-48c3-4ddb-b27f-d220525486a5"
      },
      "source": [
        "# total number of alleles called\n",
        "an_called = ac.sum(axis=1)\n",
        "an_called"
      ],
      "execution_count": 27,
      "outputs": [
        {
          "output_type": "execute_result",
          "data": {
            "text/plain": [
              "array([5874, 5936, 5990, 6036, 6050, 6074, 6084, 6096, 6120, 6126])"
            ]
          },
          "metadata": {
            "tags": []
          },
          "execution_count": 27
        }
      ]
    },
    {
      "cell_type": "code",
      "metadata": {
        "colab": {
          "base_uri": "https://localhost:8080/"
        },
        "id": "6R7-XzDoq0qi",
        "outputId": "5785461d-1e75-47cb-bb70-294755e32bc7"
      },
      "source": [
        "# total number of missing allele calls\n",
        "an_missing = (gt.shape[1] * 2) - an_called\n",
        "an_missing"
      ],
      "execution_count": 28,
      "outputs": [
        {
          "output_type": "execute_result",
          "data": {
            "text/plain": [
              "array([288, 226, 172, 126, 112,  88,  78,  66,  42,  36])"
            ]
          },
          "metadata": {
            "tags": []
          },
          "execution_count": 28
        }
      ]
    },
    {
      "cell_type": "markdown",
      "metadata": {
        "id": "qmU1YOu4OywN"
      },
      "source": [
        "These arrays can be useful when selecting which sites to use for a given analysis. For example, you might want to select only segregating sites, with at most a certain number of missing allele calls. More on selecting sites below.\n",
        "\n",
        "Now we've seen how SNP positions, alleles and genotypes are represented, let's look at the site filters we've created for Ag3 to help select sites for robust population genetic analyses.\n",
        "\n",
        "## Site filters\n",
        "\n",
        "When analysing genome variation, there are some sites in the genome where it is difficult to reliably ascertain nucleotide variation and call genotypes. This can be for a variety of reasons. For example, some genome regions are very repetitive, and short sequence reads cannot be aligned unambiguously. Another issue can be that some samples have structural variation in some regions of the genome, where different samples have different numbers of copies of a given sequence. \n",
        "\n",
        "To identify and avoid sites like these, we have created site filters. These are Boolean masks which identify sites where SNP genotyping is reliable, based on the fact that most sequence reads are unambiguously aligned, and there is minimal evidence for structural variation. \n",
        "\n",
        "Because we have three separate species included in the Ag3 cohort - *An. gambiae*, *An. coluzzii* and *An. arabiensis* - we have created three different site filters which are appropriate in different circumstances, depending on which samples you're analysing. Here is a summary of the three site filters:\n",
        "\n",
        "* \"gamb_colu_arab\" - These site filters are appropriate when performing a joint analysis of samples from any of the three species. They are, however, more stringent the other filters, which we'll explore further below.\n",
        "* \"gamb_colu\" - These site filters are appropriate when analysing samples that are not *An. arabiensis*.\n",
        "* \"arab\" - These sige filters are appropriate when analysing only samples that are *An. arabiensis*.\n",
        "\n",
        "To get some intuition for what these site filters look like and how they differ from each other, let's build a summary table showing how many sites pass in each chromosome arm.\n",
        "\n"
      ]
    },
    {
      "cell_type": "code",
      "metadata": {
        "id": "YTlJ82kOPzd9"
      },
      "source": [
        "from functools import lru_cache"
      ],
      "execution_count": 33,
      "outputs": []
    },
    {
      "cell_type": "code",
      "metadata": {
        "id": "ueEjGIy4P1V5"
      },
      "source": [
        "@lru_cache(maxsize=None)\n",
        "def count_filter_pass(contig, mask):\n",
        "    loc_pass = ag3.site_filters(contig=contig, mask=mask)\n",
        "    n_pass = loc_pass.sum().compute()\n",
        "    return n_pass"
      ],
      "execution_count": 39,
      "outputs": []
    },
    {
      "cell_type": "code",
      "metadata": {
        "id": "0uEGz4eWO1ky"
      },
      "source": [
        "rows = []\n",
        "for contig in contigs:\n",
        "    row = [contig, len(ag3.genome_sequence(contig))]\n",
        "    for mask in \"gamb_colu_arab\", \"gamb_colu\", \"arab\":\n",
        "        n_pass = count_filter_pass(contig=contig, mask=mask)\n",
        "        row.append(n_pass)\n",
        "    rows.append(row)"
      ],
      "execution_count": 40,
      "outputs": []
    },
    {
      "cell_type": "code",
      "metadata": {
        "id": "nvy1FaWtPvFJ"
      },
      "source": [
        "import pandas as pd"
      ],
      "execution_count": 41,
      "outputs": []
    },
    {
      "cell_type": "code",
      "metadata": {
        "id": "7JtusQcNPgpk",
        "outputId": "678a0d13-fbab-4da5-f768-c6099a847c94",
        "colab": {
          "base_uri": "https://localhost:8080/",
          "height": 204
        }
      },
      "source": [
        "df_filter_summary = pd.DataFrame.from_records(rows, columns=[\"contig\", \"contig_length\", \"gamb_colu_arab\", \"gamb_colu\", \"arab\"])\n",
        "df_filter_summary"
      ],
      "execution_count": 42,
      "outputs": [
        {
          "output_type": "execute_result",
          "data": {
            "text/html": [
              "<div>\n",
              "<style scoped>\n",
              "    .dataframe tbody tr th:only-of-type {\n",
              "        vertical-align: middle;\n",
              "    }\n",
              "\n",
              "    .dataframe tbody tr th {\n",
              "        vertical-align: top;\n",
              "    }\n",
              "\n",
              "    .dataframe thead th {\n",
              "        text-align: right;\n",
              "    }\n",
              "</style>\n",
              "<table border=\"1\" class=\"dataframe\">\n",
              "  <thead>\n",
              "    <tr style=\"text-align: right;\">\n",
              "      <th></th>\n",
              "      <th>contig</th>\n",
              "      <th>contig_length</th>\n",
              "      <th>gamb_colu_arab</th>\n",
              "      <th>gamb_colu</th>\n",
              "      <th>arab</th>\n",
              "    </tr>\n",
              "  </thead>\n",
              "  <tbody>\n",
              "    <tr>\n",
              "      <th>0</th>\n",
              "      <td>2R</td>\n",
              "      <td>61545105</td>\n",
              "      <td>40561667</td>\n",
              "      <td>44439759</td>\n",
              "      <td>44255681</td>\n",
              "    </tr>\n",
              "    <tr>\n",
              "      <th>1</th>\n",
              "      <td>2L</td>\n",
              "      <td>49364325</td>\n",
              "      <td>32529983</td>\n",
              "      <td>36005131</td>\n",
              "      <td>35218697</td>\n",
              "    </tr>\n",
              "    <tr>\n",
              "      <th>2</th>\n",
              "      <td>3R</td>\n",
              "      <td>53200684</td>\n",
              "      <td>33390862</td>\n",
              "      <td>37199402</td>\n",
              "      <td>36443830</td>\n",
              "    </tr>\n",
              "    <tr>\n",
              "      <th>3</th>\n",
              "      <td>3L</td>\n",
              "      <td>41963435</td>\n",
              "      <td>25869385</td>\n",
              "      <td>28707856</td>\n",
              "      <td>28400950</td>\n",
              "    </tr>\n",
              "    <tr>\n",
              "      <th>4</th>\n",
              "      <td>X</td>\n",
              "      <td>24393108</td>\n",
              "      <td>11217869</td>\n",
              "      <td>16362809</td>\n",
              "      <td>12468702</td>\n",
              "    </tr>\n",
              "  </tbody>\n",
              "</table>\n",
              "</div>"
            ],
            "text/plain": [
              "  contig  contig_length  gamb_colu_arab  gamb_colu      arab\n",
              "0     2R       61545105        40561667   44439759  44255681\n",
              "1     2L       49364325        32529983   36005131  35218697\n",
              "2     3R       53200684        33390862   37199402  36443830\n",
              "3     3L       41963435        25869385   28707856  28400950\n",
              "4      X       24393108        11217869   16362809  12468702"
            ]
          },
          "metadata": {
            "tags": []
          },
          "execution_count": 42
        }
      ]
    },
    {
      "cell_type": "markdown",
      "metadata": {
        "id": "4lL4z4sVPKDm"
      },
      "source": [
        "@@TODO plot the fraction of genome sites that pass the site filters in moving windows over each of the chromosome arms."
      ]
    },
    {
      "cell_type": "code",
      "metadata": {
        "id": "wyv-6738OywN"
      },
      "source": [
        "def plot_site_filters(contig, mask, window_size=100_000):\n",
        "\n",
        "    loc_pass = ag3.site_filters(contig=contig, mask=mask).compute()"
      ],
      "execution_count": null,
      "outputs": []
    },
    {
      "cell_type": "markdown",
      "metadata": {
        "id": "1alMo1ckPTee"
      },
      "source": [
        "## Selecting samples\n",
        "\n",
        "@@TODO corresponance between samples and genotype columns"
      ]
    },
    {
      "cell_type": "code",
      "metadata": {
        "id": "k2h7VHEaPZf0"
      },
      "source": [
        ""
      ],
      "execution_count": null,
      "outputs": []
    }
  ]
}